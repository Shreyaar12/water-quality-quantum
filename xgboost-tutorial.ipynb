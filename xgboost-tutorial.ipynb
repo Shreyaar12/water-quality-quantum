{
 "cells": [
  {
   "cell_type": "markdown",
   "id": "3a553d33",
   "metadata": {
    "_cell_guid": "b1076dfc-b9ad-4769-8c92-a6c4dae69d19",
    "_uuid": "8f2839f25d086af736a60e9eeb907d3b93b6e0e5",
    "execution": {
     "iopub.execute_input": "2024-05-31T01:20:10.591362Z",
     "iopub.status.busy": "2024-05-31T01:20:10.591024Z",
     "iopub.status.idle": "2024-05-31T01:20:10.601435Z",
     "shell.execute_reply": "2024-05-31T01:20:10.599800Z",
     "shell.execute_reply.started": "2024-05-31T01:20:10.591337Z"
    },
    "papermill": {
     "duration": 0.010666,
     "end_time": "2024-07-15T01:05:28.530502",
     "exception": false,
     "start_time": "2024-07-15T01:05:28.519836",
     "status": "completed"
    },
    "tags": []
   },
   "source": [
    "# Problem Understanding\n",
    "\n",
    "The objective of this notebook is to predict whether water is potable or not depending on specific water characteristics. It is part of a series of notebooks, where different Machine Learning models are explained and applied.\n",
    "\n",
    "Other topics are \n",
    "\n",
    "* [Linear Regression](https://www.kaggle.com/code/pumalin/linear-regression-tutorial)\n",
    "* [Logistic Regression](https://www.kaggle.com/code/pumalin/logistic-regression-tutorial)\n",
    "* [Decision Trees](https://www.kaggle.com/code/pumalin/decision-trees-tutorial)\n",
    "* [Random Forests](https://www.kaggle.com/code/pumalin/random-forest-tutorial)\n",
    "* [AdaBoost](https://www.kaggle.com/code/pumalin/adaboost-tutorial)\n",
    "* [GradientBoosting](https://www.kaggle.com/code/pumalin/gradient-boosting-tutorial)\n",
    "* [LightGBM](https://www.kaggle.com/code/pumalin/lightgbm-tutorial)\n",
    "* [CatBoost](https://www.kaggle.com/code/pumalin/catboost-tutorial)\n",
    "* [Kmenas](https://www.kaggle.com/code/pumalin/kmeans-tutorial)\n",
    "\n",
    "**This notebook does not focus on finding the best model, but on an example how to train an XGBoost.**"
   ]
  },
  {
   "cell_type": "markdown",
   "id": "03eedd44",
   "metadata": {
    "papermill": {
     "duration": 0.009857,
     "end_time": "2024-07-15T01:05:28.550522",
     "exception": false,
     "start_time": "2024-07-15T01:05:28.540665",
     "status": "completed"
    },
    "tags": []
   },
   "source": [
    "## Introduction\n",
    "\n",
    "[XGBoost](https://xgboost.readthedocs.io/en/stable/) stands for eXtreme Gradient Boosting and is an implementation of the Gradient Boosting algorithm, focussing on optimizing computation speed and model performance. It can be used as a separated library, but also an integration in sklearn exists. In this notebook we will use the integration into [sklearn](https://scikit-learn.org/stable/). The XGBoosts algorithm is capable to handle large and complex datasets.\n",
    "\n",
    "**Find more about XGBoost and other Machine Learning and Data Science articles on [datamapu](https://datamapu.com/posts/classical_ml/gradient_boosting_variants/)**"
   ]
  },
  {
   "cell_type": "markdown",
   "id": "6b00e177",
   "metadata": {
    "papermill": {
     "duration": 0.009581,
     "end_time": "2024-07-15T01:05:28.570171",
     "exception": false,
     "start_time": "2024-07-15T01:05:28.560590",
     "status": "completed"
    },
    "tags": []
   },
   "source": [
    "# Setup\n",
    "\n",
    "In this section all libraries needed to run this notebook are imported."
   ]
  },
  {
   "cell_type": "code",
   "execution_count": 1,
   "id": "819ffae4",
   "metadata": {
    "execution": {
     "iopub.execute_input": "2024-07-15T01:05:28.593345Z",
     "iopub.status.busy": "2024-07-15T01:05:28.592501Z",
     "iopub.status.idle": "2024-07-15T01:05:31.565102Z",
     "shell.execute_reply": "2024-07-15T01:05:31.563629Z"
    },
    "papermill": {
     "duration": 2.987053,
     "end_time": "2024-07-15T01:05:31.567937",
     "exception": false,
     "start_time": "2024-07-15T01:05:28.580884",
     "status": "completed"
    },
    "tags": []
   },
   "outputs": [],
   "source": [
    "# packages for data processing\n",
    "import pandas as pd\n",
    "import numpy as np\n",
    "\n",
    "# packages for modelling\n",
    "from sklearn.utils import resample\n",
    "from sklearn.model_selection import train_test_split, GridSearchCV\n",
    "from sklearn.metrics import accuracy_score, recall_score, precision_score\n",
    "from sklearn.utils.fixes import loguniform\n",
    "import xgboost as xgb\n",
    "\n",
    "# packages for plotting\n",
    "import matplotlib.pyplot as plt\n",
    "import seaborn as sns\n",
    "\n",
    "# set random seed\n",
    "SEED = 42"
   ]
  },
  {
   "cell_type": "markdown",
   "id": "143258b6",
   "metadata": {
    "papermill": {
     "duration": 0.0102,
     "end_time": "2024-07-15T01:05:31.588123",
     "exception": false,
     "start_time": "2024-07-15T01:05:31.577923",
     "status": "completed"
    },
    "tags": []
   },
   "source": [
    "# Read Data\n",
    "\n",
    "Read the data into a pandas dataframe and plot the first rows."
   ]
  },
  {
   "cell_type": "code",
   "execution_count": 2,
   "id": "bba40485",
   "metadata": {
    "execution": {
     "iopub.execute_input": "2024-07-15T01:05:31.609899Z",
     "iopub.status.busy": "2024-07-15T01:05:31.609331Z",
     "iopub.status.idle": "2024-07-15T01:05:31.682442Z",
     "shell.execute_reply": "2024-07-15T01:05:31.681336Z"
    },
    "papermill": {
     "duration": 0.08686,
     "end_time": "2024-07-15T01:05:31.685009",
     "exception": false,
     "start_time": "2024-07-15T01:05:31.598149",
     "status": "completed"
    },
    "tags": []
   },
   "outputs": [
    {
     "data": {
      "text/html": [
       "<div>\n",
       "<style scoped>\n",
       "    .dataframe tbody tr th:only-of-type {\n",
       "        vertical-align: middle;\n",
       "    }\n",
       "\n",
       "    .dataframe tbody tr th {\n",
       "        vertical-align: top;\n",
       "    }\n",
       "\n",
       "    .dataframe thead th {\n",
       "        text-align: right;\n",
       "    }\n",
       "</style>\n",
       "<table border=\"1\" class=\"dataframe\">\n",
       "  <thead>\n",
       "    <tr style=\"text-align: right;\">\n",
       "      <th></th>\n",
       "      <th>ph</th>\n",
       "      <th>Hardness</th>\n",
       "      <th>Solids</th>\n",
       "      <th>Chloramines</th>\n",
       "      <th>Sulfate</th>\n",
       "      <th>Conductivity</th>\n",
       "      <th>Organic_carbon</th>\n",
       "      <th>Trihalomethanes</th>\n",
       "      <th>Turbidity</th>\n",
       "      <th>Potability</th>\n",
       "    </tr>\n",
       "  </thead>\n",
       "  <tbody>\n",
       "    <tr>\n",
       "      <th>0</th>\n",
       "      <td>NaN</td>\n",
       "      <td>204.890455</td>\n",
       "      <td>20791.318981</td>\n",
       "      <td>7.300212</td>\n",
       "      <td>368.516441</td>\n",
       "      <td>564.308654</td>\n",
       "      <td>10.379783</td>\n",
       "      <td>86.990970</td>\n",
       "      <td>2.963135</td>\n",
       "      <td>0</td>\n",
       "    </tr>\n",
       "    <tr>\n",
       "      <th>1</th>\n",
       "      <td>3.716080</td>\n",
       "      <td>129.422921</td>\n",
       "      <td>18630.057858</td>\n",
       "      <td>6.635246</td>\n",
       "      <td>NaN</td>\n",
       "      <td>592.885359</td>\n",
       "      <td>15.180013</td>\n",
       "      <td>56.329076</td>\n",
       "      <td>4.500656</td>\n",
       "      <td>0</td>\n",
       "    </tr>\n",
       "    <tr>\n",
       "      <th>2</th>\n",
       "      <td>8.099124</td>\n",
       "      <td>224.236259</td>\n",
       "      <td>19909.541732</td>\n",
       "      <td>9.275884</td>\n",
       "      <td>NaN</td>\n",
       "      <td>418.606213</td>\n",
       "      <td>16.868637</td>\n",
       "      <td>66.420093</td>\n",
       "      <td>3.055934</td>\n",
       "      <td>0</td>\n",
       "    </tr>\n",
       "    <tr>\n",
       "      <th>3</th>\n",
       "      <td>8.316766</td>\n",
       "      <td>214.373394</td>\n",
       "      <td>22018.417441</td>\n",
       "      <td>8.059332</td>\n",
       "      <td>356.886136</td>\n",
       "      <td>363.266516</td>\n",
       "      <td>18.436524</td>\n",
       "      <td>100.341674</td>\n",
       "      <td>4.628771</td>\n",
       "      <td>0</td>\n",
       "    </tr>\n",
       "    <tr>\n",
       "      <th>4</th>\n",
       "      <td>9.092223</td>\n",
       "      <td>181.101509</td>\n",
       "      <td>17978.986339</td>\n",
       "      <td>6.546600</td>\n",
       "      <td>310.135738</td>\n",
       "      <td>398.410813</td>\n",
       "      <td>11.558279</td>\n",
       "      <td>31.997993</td>\n",
       "      <td>4.075075</td>\n",
       "      <td>0</td>\n",
       "    </tr>\n",
       "  </tbody>\n",
       "</table>\n",
       "</div>"
      ],
      "text/plain": [
       "         ph    Hardness        Solids  Chloramines     Sulfate  Conductivity  \\\n",
       "0       NaN  204.890455  20791.318981     7.300212  368.516441    564.308654   \n",
       "1  3.716080  129.422921  18630.057858     6.635246         NaN    592.885359   \n",
       "2  8.099124  224.236259  19909.541732     9.275884         NaN    418.606213   \n",
       "3  8.316766  214.373394  22018.417441     8.059332  356.886136    363.266516   \n",
       "4  9.092223  181.101509  17978.986339     6.546600  310.135738    398.410813   \n",
       "\n",
       "   Organic_carbon  Trihalomethanes  Turbidity  Potability  \n",
       "0       10.379783        86.990970   2.963135           0  \n",
       "1       15.180013        56.329076   4.500656           0  \n",
       "2       16.868637        66.420093   3.055934           0  \n",
       "3       18.436524       100.341674   4.628771           0  \n",
       "4       11.558279        31.997993   4.075075           0  "
      ]
     },
     "execution_count": 2,
     "metadata": {},
     "output_type": "execute_result"
    }
   ],
   "source": [
    "df_water = pd.read_csv(\"/kaggle/input/water-potability/water_potability.csv\")\n",
    "df_water.head()"
   ]
  },
  {
   "cell_type": "markdown",
   "id": "9f2e7c5a",
   "metadata": {
    "papermill": {
     "duration": 0.009788,
     "end_time": "2024-07-15T01:05:31.705218",
     "exception": false,
     "start_time": "2024-07-15T01:05:31.695430",
     "status": "completed"
    },
    "tags": []
   },
   "source": [
    "The dataset is described as follows:\n",
    "\n",
    "|variable| information|\n",
    "|--------|------------|\n",
    "| pH value | PH is an important parameter in evaluating the acid–base balance of water. It is also the indicator of acidic or alkaline condition of water status. WHO has recommended maximum permissible limit of pH from 6.5 to 8.5. The current investigation ranges were 6.52–6.83 which are in the range of WHO standards.|\n",
    "| Hardness | Hardness is mainly caused by calcium and magnesium salts. These salts are dissolved from geologic deposits through which water travels. The length of time water is in contact with hardness producing material helps determine how much hardness there is in raw water. Hardness was originally defined as the capacity of water to precipitate soap caused by Calcium and Magnesium. |\n",
    "| Solids (Total dissolved solids - TDS)|  Water has the ability to dissolve a wide range of inorganic and some organic minerals or salts such as potassium, calcium, sodium, bicarbonates, chlorides, magnesium, sulfates etc. These minerals produced un-wanted taste and diluted color in appearance of water. This is the important parameter for the use of water. The water with high TDS value indicates that water is highly mineralized. Desirable limit for TDS is 500 mg/l and maximum limit is 1000 mg/l which prescribed for drinking purpose.|\n",
    "| Chloramines | Chlorine and chloramine are the major disinfectants used in public water systems. Chloramines are most commonly formed when ammonia is added to chlorine to treat drinking water. Chlorine levels up to 4 milligrams per liter (mg/L or 4 parts per million (ppm)) are considered safe in drinking water.|\n",
    "| Sulfate| Sulfates are naturally occurring substances that are found in minerals, soil, and rocks. They are present in ambient air, groundwater, plants, and food. The principal commercial use of sulfate is in the chemical industry. Sulfate concentration in seawater is about 2,700 milligrams per liter (mg/L). It ranges from 3 to 30 mg/L in most freshwater supplies, although much higher concentrations (1000 mg/L) are found in some geographic locations.|\n",
    "| Conductivity| Pure water is not a good conductor of electric current rather’s a good insulator. Increase in ions concentration enhances the electrical conductivity of water. Generally, the amount of dissolved solids in water determines the electrical conductivity. Electrical conductivity (EC) actually measures the ionic process of a solution that enables it to transmit current. According to WHO standards, EC value should not exceeded 400 μS/cm.|\n",
    "| Organic_carbon | Total Organic Carbon (TOC) in source waters comes from decaying natural organic matter (NOM) as well as synthetic sources. TOC is a measure of the total amount of carbon in organic compounds in pure water. According to US EPA < 2 mg/L as TOC in treated / drinking water, and < 4 mg/Lit in source water which is use for treatment.|\n",
    "| Trihalomethanes | THMs are chemicals which may be found in water treated with chlorine. The concentration of THMs in drinking water varies according to the level of organic material in the water, the amount of chlorine required to treat the water, and the temperature of the water that is being treated. THM levels up to 80 ppm is considered safe in drinking water.|\n",
    "| Turbidity | The turbidity of water depends on the quantity of solid matter present in the suspended state. It is a measure of light emitting properties of water and the test is used to indicate the quality of waste discharge with respect to colloidal matter. The mean turbidity value obtained for Wondo Genet Campus (0.98 NTU) is lower than the WHO recommended value of 5.00 NTU.|\n",
    "| Potability | Indicates if water is safe for human consumption where 1 means Potable and 0 means Not potable. (TARGET)|"
   ]
  },
  {
   "cell_type": "markdown",
   "id": "dd2dabe7",
   "metadata": {
    "papermill": {
     "duration": 0.009815,
     "end_time": "2024-07-15T01:05:31.725090",
     "exception": false,
     "start_time": "2024-07-15T01:05:31.715275",
     "status": "completed"
    },
    "tags": []
   },
   "source": [
    "# Data Exploration\n",
    "\n",
    "Explore the dataframe, the possible features and the target variable."
   ]
  },
  {
   "cell_type": "markdown",
   "id": "d8cdaf49",
   "metadata": {
    "papermill": {
     "duration": 0.009628,
     "end_time": "2024-07-15T01:05:31.744819",
     "exception": false,
     "start_time": "2024-07-15T01:05:31.735191",
     "status": "completed"
    },
    "tags": []
   },
   "source": [
    "\n",
    "Check all columns and their types."
   ]
  },
  {
   "cell_type": "code",
   "execution_count": 3,
   "id": "91fc6c07",
   "metadata": {
    "execution": {
     "iopub.execute_input": "2024-07-15T01:05:31.767722Z",
     "iopub.status.busy": "2024-07-15T01:05:31.767359Z",
     "iopub.status.idle": "2024-07-15T01:05:31.792044Z",
     "shell.execute_reply": "2024-07-15T01:05:31.790699Z"
    },
    "papermill": {
     "duration": 0.038746,
     "end_time": "2024-07-15T01:05:31.794621",
     "exception": false,
     "start_time": "2024-07-15T01:05:31.755875",
     "status": "completed"
    },
    "tags": []
   },
   "outputs": [
    {
     "name": "stdout",
     "output_type": "stream",
     "text": [
      "<class 'pandas.core.frame.DataFrame'>\n",
      "RangeIndex: 3276 entries, 0 to 3275\n",
      "Data columns (total 10 columns):\n",
      " #   Column           Non-Null Count  Dtype  \n",
      "---  ------           --------------  -----  \n",
      " 0   ph               2785 non-null   float64\n",
      " 1   Hardness         3276 non-null   float64\n",
      " 2   Solids           3276 non-null   float64\n",
      " 3   Chloramines      3276 non-null   float64\n",
      " 4   Sulfate          2495 non-null   float64\n",
      " 5   Conductivity     3276 non-null   float64\n",
      " 6   Organic_carbon   3276 non-null   float64\n",
      " 7   Trihalomethanes  3114 non-null   float64\n",
      " 8   Turbidity        3276 non-null   float64\n",
      " 9   Potability       3276 non-null   int64  \n",
      "dtypes: float64(9), int64(1)\n",
      "memory usage: 256.1 KB\n"
     ]
    }
   ],
   "source": [
    "df_water.info()"
   ]
  },
  {
   "cell_type": "markdown",
   "id": "b4624843",
   "metadata": {
    "papermill": {
     "duration": 0.009668,
     "end_time": "2024-07-15T01:05:31.814481",
     "exception": false,
     "start_time": "2024-07-15T01:05:31.804813",
     "status": "completed"
    },
    "tags": []
   },
   "source": [
    "**Observations**\n",
    "* In total the dataframe has 3276 rows\n",
    "* ph, Sulfate, and Trihalomethanes have missing values\n",
    "* There are 9 possible input feature and one target variable, which is 'Potability'\n",
    "* The target variable 'Potability' is of type integer, all the others are of type float, i.e. we don't need to convert any types"
   ]
  },
  {
   "cell_type": "markdown",
   "id": "aee18b01",
   "metadata": {
    "papermill": {
     "duration": 0.009941,
     "end_time": "2024-07-15T01:05:31.835090",
     "exception": false,
     "start_time": "2024-07-15T01:05:31.825149",
     "status": "completed"
    },
    "tags": []
   },
   "source": [
    "**Note**, that we don't need to remove the **missing values**, because XGBoost natively supports the treatment of missing values.\n",
    "The [documentation](https://xgboost.readthedocreadthedocsreadthedocss.io/en/stable/faq.html) gives the following explanation:\n",
    "\n",
    "\"XGBoost supports missing values by default. In tree algorithms, branch directions for missing values are learned during training. Note that the gblinear booster treats missing values as zeros.\n",
    "When the missing parameter is specified, values in the input predictor that is equal to missing will be treated as missing and removed. By default it’s set to NaN.\""
   ]
  },
  {
   "cell_type": "markdown",
   "id": "a2497c59",
   "metadata": {
    "papermill": {
     "duration": 0.009748,
     "end_time": "2024-07-15T01:05:31.855039",
     "exception": false,
     "start_time": "2024-07-15T01:05:31.845291",
     "status": "completed"
    },
    "tags": []
   },
   "source": [
    "Show basic statistics of all columns"
   ]
  },
  {
   "cell_type": "code",
   "execution_count": 4,
   "id": "9028505b",
   "metadata": {
    "execution": {
     "iopub.execute_input": "2024-07-15T01:05:31.877653Z",
     "iopub.status.busy": "2024-07-15T01:05:31.877291Z",
     "iopub.status.idle": "2024-07-15T01:05:31.916948Z",
     "shell.execute_reply": "2024-07-15T01:05:31.915703Z"
    },
    "papermill": {
     "duration": 0.05367,
     "end_time": "2024-07-15T01:05:31.919301",
     "exception": false,
     "start_time": "2024-07-15T01:05:31.865631",
     "status": "completed"
    },
    "tags": []
   },
   "outputs": [
    {
     "data": {
      "text/html": [
       "<div>\n",
       "<style scoped>\n",
       "    .dataframe tbody tr th:only-of-type {\n",
       "        vertical-align: middle;\n",
       "    }\n",
       "\n",
       "    .dataframe tbody tr th {\n",
       "        vertical-align: top;\n",
       "    }\n",
       "\n",
       "    .dataframe thead th {\n",
       "        text-align: right;\n",
       "    }\n",
       "</style>\n",
       "<table border=\"1\" class=\"dataframe\">\n",
       "  <thead>\n",
       "    <tr style=\"text-align: right;\">\n",
       "      <th></th>\n",
       "      <th>ph</th>\n",
       "      <th>Hardness</th>\n",
       "      <th>Solids</th>\n",
       "      <th>Chloramines</th>\n",
       "      <th>Sulfate</th>\n",
       "      <th>Conductivity</th>\n",
       "      <th>Organic_carbon</th>\n",
       "      <th>Trihalomethanes</th>\n",
       "      <th>Turbidity</th>\n",
       "      <th>Potability</th>\n",
       "    </tr>\n",
       "  </thead>\n",
       "  <tbody>\n",
       "    <tr>\n",
       "      <th>count</th>\n",
       "      <td>2785.000000</td>\n",
       "      <td>3276.000000</td>\n",
       "      <td>3276.000000</td>\n",
       "      <td>3276.000000</td>\n",
       "      <td>2495.000000</td>\n",
       "      <td>3276.000000</td>\n",
       "      <td>3276.000000</td>\n",
       "      <td>3114.000000</td>\n",
       "      <td>3276.000000</td>\n",
       "      <td>3276.000000</td>\n",
       "    </tr>\n",
       "    <tr>\n",
       "      <th>mean</th>\n",
       "      <td>7.080795</td>\n",
       "      <td>196.369496</td>\n",
       "      <td>22014.092526</td>\n",
       "      <td>7.122277</td>\n",
       "      <td>333.775777</td>\n",
       "      <td>426.205111</td>\n",
       "      <td>14.284970</td>\n",
       "      <td>66.396293</td>\n",
       "      <td>3.966786</td>\n",
       "      <td>0.390110</td>\n",
       "    </tr>\n",
       "    <tr>\n",
       "      <th>std</th>\n",
       "      <td>1.594320</td>\n",
       "      <td>32.879761</td>\n",
       "      <td>8768.570828</td>\n",
       "      <td>1.583085</td>\n",
       "      <td>41.416840</td>\n",
       "      <td>80.824064</td>\n",
       "      <td>3.308162</td>\n",
       "      <td>16.175008</td>\n",
       "      <td>0.780382</td>\n",
       "      <td>0.487849</td>\n",
       "    </tr>\n",
       "    <tr>\n",
       "      <th>min</th>\n",
       "      <td>0.000000</td>\n",
       "      <td>47.432000</td>\n",
       "      <td>320.942611</td>\n",
       "      <td>0.352000</td>\n",
       "      <td>129.000000</td>\n",
       "      <td>181.483754</td>\n",
       "      <td>2.200000</td>\n",
       "      <td>0.738000</td>\n",
       "      <td>1.450000</td>\n",
       "      <td>0.000000</td>\n",
       "    </tr>\n",
       "    <tr>\n",
       "      <th>25%</th>\n",
       "      <td>6.093092</td>\n",
       "      <td>176.850538</td>\n",
       "      <td>15666.690297</td>\n",
       "      <td>6.127421</td>\n",
       "      <td>307.699498</td>\n",
       "      <td>365.734414</td>\n",
       "      <td>12.065801</td>\n",
       "      <td>55.844536</td>\n",
       "      <td>3.439711</td>\n",
       "      <td>0.000000</td>\n",
       "    </tr>\n",
       "    <tr>\n",
       "      <th>50%</th>\n",
       "      <td>7.036752</td>\n",
       "      <td>196.967627</td>\n",
       "      <td>20927.833607</td>\n",
       "      <td>7.130299</td>\n",
       "      <td>333.073546</td>\n",
       "      <td>421.884968</td>\n",
       "      <td>14.218338</td>\n",
       "      <td>66.622485</td>\n",
       "      <td>3.955028</td>\n",
       "      <td>0.000000</td>\n",
       "    </tr>\n",
       "    <tr>\n",
       "      <th>75%</th>\n",
       "      <td>8.062066</td>\n",
       "      <td>216.667456</td>\n",
       "      <td>27332.762127</td>\n",
       "      <td>8.114887</td>\n",
       "      <td>359.950170</td>\n",
       "      <td>481.792304</td>\n",
       "      <td>16.557652</td>\n",
       "      <td>77.337473</td>\n",
       "      <td>4.500320</td>\n",
       "      <td>1.000000</td>\n",
       "    </tr>\n",
       "    <tr>\n",
       "      <th>max</th>\n",
       "      <td>14.000000</td>\n",
       "      <td>323.124000</td>\n",
       "      <td>61227.196008</td>\n",
       "      <td>13.127000</td>\n",
       "      <td>481.030642</td>\n",
       "      <td>753.342620</td>\n",
       "      <td>28.300000</td>\n",
       "      <td>124.000000</td>\n",
       "      <td>6.739000</td>\n",
       "      <td>1.000000</td>\n",
       "    </tr>\n",
       "  </tbody>\n",
       "</table>\n",
       "</div>"
      ],
      "text/plain": [
       "                ph     Hardness        Solids  Chloramines      Sulfate  \\\n",
       "count  2785.000000  3276.000000   3276.000000  3276.000000  2495.000000   \n",
       "mean      7.080795   196.369496  22014.092526     7.122277   333.775777   \n",
       "std       1.594320    32.879761   8768.570828     1.583085    41.416840   \n",
       "min       0.000000    47.432000    320.942611     0.352000   129.000000   \n",
       "25%       6.093092   176.850538  15666.690297     6.127421   307.699498   \n",
       "50%       7.036752   196.967627  20927.833607     7.130299   333.073546   \n",
       "75%       8.062066   216.667456  27332.762127     8.114887   359.950170   \n",
       "max      14.000000   323.124000  61227.196008    13.127000   481.030642   \n",
       "\n",
       "       Conductivity  Organic_carbon  Trihalomethanes    Turbidity   Potability  \n",
       "count   3276.000000     3276.000000      3114.000000  3276.000000  3276.000000  \n",
       "mean     426.205111       14.284970        66.396293     3.966786     0.390110  \n",
       "std       80.824064        3.308162        16.175008     0.780382     0.487849  \n",
       "min      181.483754        2.200000         0.738000     1.450000     0.000000  \n",
       "25%      365.734414       12.065801        55.844536     3.439711     0.000000  \n",
       "50%      421.884968       14.218338        66.622485     3.955028     0.000000  \n",
       "75%      481.792304       16.557652        77.337473     4.500320     1.000000  \n",
       "max      753.342620       28.300000       124.000000     6.739000     1.000000  "
      ]
     },
     "execution_count": 4,
     "metadata": {},
     "output_type": "execute_result"
    }
   ],
   "source": [
    "df_water.describe()"
   ]
  },
  {
   "cell_type": "markdown",
   "id": "0f71c2dd",
   "metadata": {
    "papermill": {
     "duration": 0.010801,
     "end_time": "2024-07-15T01:05:31.940594",
     "exception": false,
     "start_time": "2024-07-15T01:05:31.929793",
     "status": "completed"
    },
    "tags": []
   },
   "source": [
    "**Observations**\n",
    "* Input feaures vary in their range\n",
    "* The target variable is binary"
   ]
  },
  {
   "cell_type": "markdown",
   "id": "64160479",
   "metadata": {
    "papermill": {
     "duration": 0.010289,
     "end_time": "2024-07-15T01:05:31.962179",
     "exception": false,
     "start_time": "2024-07-15T01:05:31.951890",
     "status": "completed"
    },
    "tags": []
   },
   "source": [
    "Plot data distributions"
   ]
  },
  {
   "cell_type": "code",
   "execution_count": 5,
   "id": "8216c361",
   "metadata": {
    "execution": {
     "iopub.execute_input": "2024-07-15T01:05:31.985746Z",
     "iopub.status.busy": "2024-07-15T01:05:31.985348Z",
     "iopub.status.idle": "2024-07-15T01:05:31.992264Z",
     "shell.execute_reply": "2024-07-15T01:05:31.991119Z"
    },
    "papermill": {
     "duration": 0.021789,
     "end_time": "2024-07-15T01:05:31.994941",
     "exception": false,
     "start_time": "2024-07-15T01:05:31.973152",
     "status": "completed"
    },
    "tags": []
   },
   "outputs": [],
   "source": [
    "def distplots(df=df_water,n=8):\n",
    "    cols = list(df.columns)\n",
    "    fig, axes = plt.subplots(5, 2, figsize=(15,8))\n",
    "    plt.tight_layout(pad=3)\n",
    "    for col, ax in enumerate(axes.flatten()):\n",
    "        if df[cols[col]].dtypes=='float64':\n",
    "            sns.boxplot(x=df[cols[col]], ax=ax, color='darkcyan')\n",
    "        if col>n:\n",
    "            break;"
   ]
  },
  {
   "cell_type": "code",
   "execution_count": 6,
   "id": "988e2e0e",
   "metadata": {
    "execution": {
     "iopub.execute_input": "2024-07-15T01:05:32.018004Z",
     "iopub.status.busy": "2024-07-15T01:05:32.017566Z",
     "iopub.status.idle": "2024-07-15T01:05:33.574414Z",
     "shell.execute_reply": "2024-07-15T01:05:33.572620Z"
    },
    "papermill": {
     "duration": 1.571993,
     "end_time": "2024-07-15T01:05:33.577612",
     "exception": false,
     "start_time": "2024-07-15T01:05:32.005619",
     "status": "completed"
    },
    "tags": []
   },
   "outputs": [
    {
     "data": {
      "image/png": "[encoded data removed]",
      "text/plain": [
       "<Figure size 1500x800 with 10 Axes>"
      ]
     },
     "metadata": {},
     "output_type": "display_data"
    }
   ],
   "source": [
    "distplots(df=df_water)"
   ]
  },
  {
   "cell_type": "code",
   "execution_count": 7,
   "id": "6270c0f1",
   "metadata": {
    "execution": {
     "iopub.execute_input": "2024-07-15T01:05:33.610878Z",
     "iopub.status.busy": "2024-07-15T01:05:33.610459Z",
     "iopub.status.idle": "2024-07-15T01:05:33.621561Z",
     "shell.execute_reply": "2024-07-15T01:05:33.620471Z"
    },
    "papermill": {
     "duration": 0.032714,
     "end_time": "2024-07-15T01:05:33.623897",
     "exception": false,
     "start_time": "2024-07-15T01:05:33.591183",
     "status": "completed"
    },
    "tags": []
   },
   "outputs": [
    {
     "data": {
      "text/plain": [
       "Potability\n",
       "0    1998\n",
       "1    1278\n",
       "Name: count, dtype: int64"
      ]
     },
     "execution_count": 7,
     "metadata": {},
     "output_type": "execute_result"
    }
   ],
   "source": [
    "df_water['Potability'].value_counts()"
   ]
  },
  {
   "cell_type": "markdown",
   "id": "b8cd7812",
   "metadata": {
    "papermill": {
     "duration": 0.011788,
     "end_time": "2024-07-15T01:05:33.647239",
     "exception": false,
     "start_time": "2024-07-15T01:05:33.635451",
     "status": "completed"
    },
    "tags": []
   },
   "source": [
    "**Observations**\n",
    "* There are no extreme outliers\n",
    "* Most of the input feature are normally distributed\n",
    "* 'Solids' and 'Conductivity' seem to be right-skewed (no statistical test done here, only from visual inspection)\n",
    "* The target variable is not equally distributed, but their are more samples with a negative target class than a positive"
   ]
  },
  {
   "cell_type": "markdown",
   "id": "762dbbe6",
   "metadata": {
    "papermill": {
     "duration": 0.011578,
     "end_time": "2024-07-15T01:05:33.670715",
     "exception": false,
     "start_time": "2024-07-15T01:05:33.659137",
     "status": "completed"
    },
    "tags": []
   },
   "source": [
    "# Data Preparation"
   ]
  },
  {
   "cell_type": "markdown",
   "id": "17fa5e8a",
   "metadata": {
    "papermill": {
     "duration": 0.011257,
     "end_time": "2024-07-15T01:05:33.694168",
     "exception": false,
     "start_time": "2024-07-15T01:05:33.682911",
     "status": "completed"
    },
    "tags": []
   },
   "source": [
    "Split the data into training, validation and test set. "
   ]
  },
  {
   "cell_type": "code",
   "execution_count": 8,
   "id": "35b58474",
   "metadata": {
    "execution": {
     "iopub.execute_input": "2024-07-15T01:05:33.719448Z",
     "iopub.status.busy": "2024-07-15T01:05:33.719053Z",
     "iopub.status.idle": "2024-07-15T01:05:33.734086Z",
     "shell.execute_reply": "2024-07-15T01:05:33.732478Z"
    },
    "papermill": {
     "duration": 0.030811,
     "end_time": "2024-07-15T01:05:33.736545",
     "exception": false,
     "start_time": "2024-07-15T01:05:33.705734",
     "status": "completed"
    },
    "tags": []
   },
   "outputs": [
    {
     "name": "stdout",
     "output_type": "stream",
     "text": [
      "train data shape: X - (1965, 10), y - (1965,)\n",
      "validation data shape: X - (655, 10), y - (655,)\n",
      "test data shape: X - (656, 10), y - (656,)\n"
     ]
    }
   ],
   "source": [
    "# train - validation split\n",
    "df_train_full, df_test = train_test_split(df_water, test_size=0.2, shuffle=True, random_state=SEED)\n",
    "df_train, df_valid = train_test_split(df_train_full, test_size=0.25, shuffle=True, random_state=SEED)\n",
    "print(f'train data shape: X - {df_train.shape}, y - {df_train[\"Potability\"].shape}')\n",
    "print(f'validation data shape: X - {df_valid.shape}, y - {df_valid[\"Potability\"].shape}')\n",
    "print(f'test data shape: X - {df_test.shape}, y - {df_test[\"Potability\"].shape}')"
   ]
  },
  {
   "cell_type": "markdown",
   "id": "35d63c5f",
   "metadata": {
    "papermill": {
     "duration": 0.011256,
     "end_time": "2024-07-15T01:05:33.759413",
     "exception": false,
     "start_time": "2024-07-15T01:05:33.748157",
     "status": "completed"
    },
    "tags": []
   },
   "source": [
    "We equalize the two target classes. If we don't do this, the majority class will dominate the model. There are different options\n",
    "1. Downsanḿpling. Draw randomly the number of samples of the minority class from the majority class. This leads to a loss of data.\n",
    "2. Upsampling.\n",
    "​\n",
    "    a) Randomly draw samples from the minority class until the number of the ajority class is achieved. This leads o dubplicate samples in the dataset and can lead to overfitting.\n",
    "    \n",
    "    b) Create artificial data using e.g. [SMOTE](https://imbalanced-learn.org/stable/references/generated/imblearn.over_sampling.SMOTE.html) from the minority class until the number of samples of the majority class is achieved.\n",
    "\n",
    "\n",
    "For this example we will use option 1 for simplicity. Note that if upsampling is done, this is done for the training data only. Otherwise data leakage may occur, that is we may use data for training that is also in tha validation or test set."
   ]
  },
  {
   "cell_type": "code",
   "execution_count": 9,
   "id": "8384edf0",
   "metadata": {
    "execution": {
     "iopub.execute_input": "2024-07-15T01:05:33.784242Z",
     "iopub.status.busy": "2024-07-15T01:05:33.783842Z",
     "iopub.status.idle": "2024-07-15T01:05:33.801587Z",
     "shell.execute_reply": "2024-07-15T01:05:33.800305Z"
    },
    "papermill": {
     "duration": 0.033386,
     "end_time": "2024-07-15T01:05:33.804449",
     "exception": false,
     "start_time": "2024-07-15T01:05:33.771063",
     "status": "completed"
    },
    "tags": []
   },
   "outputs": [
    {
     "data": {
      "text/plain": [
       "Potability\n",
       "0    1189\n",
       "1    1189\n",
       "Name: count, dtype: int64"
      ]
     },
     "execution_count": 9,
     "metadata": {},
     "output_type": "execute_result"
    }
   ],
   "source": [
    "df_majority = df_train[df_train.Potability==0]\n",
    "df_minority = df_train[df_train.Potability==1]\n",
    "\n",
    "# Upsample minority class\n",
    "df_minority_upsampled = resample(df_minority, \n",
    "                                 replace=True,     # sample with replacement\n",
    "                                 n_samples=len(df_majority),    # to match majority class\n",
    "                                 random_state=42) # reproducible results\n",
    "\n",
    "# Combine majority class with upsampled minority class\n",
    "df_upsampled = pd.concat([df_majority, df_minority_upsampled])\n",
    "\n",
    "# Display new class counts\n",
    "df_upsampled.Potability.value_counts()"
   ]
  },
  {
   "cell_type": "markdown",
   "id": "ed51db81",
   "metadata": {
    "papermill": {
     "duration": 0.01321,
     "end_time": "2024-07-15T01:05:33.830871",
     "exception": false,
     "start_time": "2024-07-15T01:05:33.817661",
     "status": "completed"
    },
    "tags": []
   },
   "source": [
    "# Modelling\n",
    "\n",
    "Set features and target values of train, validation, and test set.\n"
   ]
  },
  {
   "cell_type": "code",
   "execution_count": 10,
   "id": "f95ca9e2",
   "metadata": {
    "execution": {
     "iopub.execute_input": "2024-07-15T01:05:33.857381Z",
     "iopub.status.busy": "2024-07-15T01:05:33.856904Z",
     "iopub.status.idle": "2024-07-15T01:05:33.868080Z",
     "shell.execute_reply": "2024-07-15T01:05:33.866848Z"
    },
    "papermill": {
     "duration": 0.027448,
     "end_time": "2024-07-15T01:05:33.870590",
     "exception": false,
     "start_time": "2024-07-15T01:05:33.843142",
     "status": "completed"
    },
    "tags": []
   },
   "outputs": [],
   "source": [
    "features = ['ph', 'Hardness', 'Solids', 'Chloramines', 'Sulfate', 'Conductivity', 'Organic_carbon', 'Trihalomethanes', 'Turbidity']\n",
    "\n",
    "X_train = df_train[features]\n",
    "X_valid = df_valid[features]\n",
    "X_test = df_test[features]\n",
    "\n",
    "y_train = df_train['Potability']\n",
    "y_valid = df_valid['Potability']\n",
    "y_test = df_test['Potability']"
   ]
  },
  {
   "cell_type": "markdown",
   "id": "43296721",
   "metadata": {
    "papermill": {
     "duration": 0.011671,
     "end_time": "2024-07-15T01:05:33.956187",
     "exception": false,
     "start_time": "2024-07-15T01:05:33.944516",
     "status": "completed"
    },
    "tags": []
   },
   "source": [
    "We set the parameters to train the model. First, we will use fixed values and train two models. The parameters here are the same as the default values, so actually we wouldn´t need to set them, but we'll set them for two reasons. First, to see how the parameters are set. The second reason is that we are later going to do hyperparameter tuning with the same parameters. The purpose of training these two models is to see the advantages of the early stopping option. The first model trains without and the second with early stopping. To use early stopping an evaluation set needs to be set an evaluation set. This is to see the advantage of early stopping.\n",
    "\n",
    "* \"eta\": 0.3,\n",
    "* \"gamma\": 0,\n",
    "* \"max_depth\": 6,\n",
    "* \"lambda\": 1,\n",
    "* \"alpha\": 0,\n",
    "* \"booster\": \"gbtree\",\n",
    "* \"verbosity\": 2,\n",
    "* \"early_stopping_rounds\": 10 (just for the second model)\n",
    "    \n",
    " "
   ]
  },
  {
   "cell_type": "markdown",
   "id": "d7112bbb",
   "metadata": {
    "papermill": {
     "duration": 0.011763,
     "end_time": "2024-07-15T01:05:33.980184",
     "exception": false,
     "start_time": "2024-07-15T01:05:33.968421",
     "status": "completed"
    },
    "tags": []
   },
   "source": [
    "Training without early stopping."
   ]
  },
  {
   "cell_type": "code",
   "execution_count": 11,
   "id": "492d9a56",
   "metadata": {
    "execution": {
     "iopub.execute_input": "2024-07-15T01:05:34.006659Z",
     "iopub.status.busy": "2024-07-15T01:05:34.006256Z",
     "iopub.status.idle": "2024-07-15T01:05:38.014966Z",
     "shell.execute_reply": "2024-07-15T01:05:38.013619Z"
    },
    "papermill": {
     "duration": 4.024792,
     "end_time": "2024-07-15T01:05:38.017253",
     "exception": false,
     "start_time": "2024-07-15T01:05:33.992461",
     "status": "completed"
    },
    "tags": []
   },
   "outputs": [
    {
     "name": "stdout",
     "output_type": "stream",
     "text": [
      "[0]\tvalidation_0-logloss:0.66049\n",
      "[1]\tvalidation_0-logloss:0.64852\n",
      "[2]\tvalidation_0-logloss:0.64966\n",
      "[3]\tvalidation_0-logloss:0.64675\n",
      "[4]\tvalidation_0-logloss:0.64216\n",
      "[5]\tvalidation_0-logloss:0.64282\n",
      "[6]\tvalidation_0-logloss:0.64312\n",
      "[7]\tvalidation_0-logloss:0.64223\n",
      "[8]\tvalidation_0-logloss:0.64086\n",
      "[9]\tvalidation_0-logloss:0.64327\n",
      "[10]\tvalidation_0-logloss:0.65755\n",
      "[11]\tvalidation_0-logloss:0.65741\n",
      "[12]\tvalidation_0-logloss:0.65721\n",
      "[13]\tvalidation_0-logloss:0.65679\n",
      "[14]\tvalidation_0-logloss:0.65901\n",
      "[15]\tvalidation_0-logloss:0.66005\n",
      "[16]\tvalidation_0-logloss:0.66253\n",
      "[17]\tvalidation_0-logloss:0.66405\n",
      "[18]\tvalidation_0-logloss:0.66571\n",
      "[19]\tvalidation_0-logloss:0.67038\n",
      "[20]\tvalidation_0-logloss:0.67034\n",
      "[21]\tvalidation_0-logloss:0.67474\n",
      "[22]\tvalidation_0-logloss:0.68102\n",
      "[23]\tvalidation_0-logloss:0.67774\n",
      "[24]\tvalidation_0-logloss:0.67879\n",
      "[25]\tvalidation_0-logloss:0.68161\n",
      "[26]\tvalidation_0-logloss:0.68678\n",
      "[27]\tvalidation_0-logloss:0.69155\n",
      "[28]\tvalidation_0-logloss:0.69633\n",
      "[29]\tvalidation_0-logloss:0.69709\n",
      "[30]\tvalidation_0-logloss:0.69963\n",
      "[31]\tvalidation_0-logloss:0.69964\n",
      "[32]\tvalidation_0-logloss:0.70336\n",
      "[33]\tvalidation_0-logloss:0.70437\n",
      "[34]\tvalidation_0-logloss:0.70573\n",
      "[35]\tvalidation_0-logloss:0.70502\n",
      "[36]\tvalidation_0-logloss:0.70285\n",
      "[37]\tvalidation_0-logloss:0.70545\n",
      "[38]\tvalidation_0-logloss:0.70796\n",
      "[39]\tvalidation_0-logloss:0.70968\n",
      "[40]\tvalidation_0-logloss:0.71099\n",
      "[41]\tvalidation_0-logloss:0.71070\n",
      "[42]\tvalidation_0-logloss:0.71215\n",
      "[43]\tvalidation_0-logloss:0.71151\n",
      "[44]\tvalidation_0-logloss:0.71185\n",
      "[45]\tvalidation_0-logloss:0.71471\n",
      "[46]\tvalidation_0-logloss:0.71610\n",
      "[47]\tvalidation_0-logloss:0.71502\n",
      "[48]\tvalidation_0-logloss:0.71375\n",
      "[49]\tvalidation_0-logloss:0.72037\n",
      "[50]\tvalidation_0-logloss:0.72118\n",
      "[51]\tvalidation_0-logloss:0.71952\n",
      "[52]\tvalidation_0-logloss:0.71920\n",
      "[53]\tvalidation_0-logloss:0.71870\n",
      "[54]\tvalidation_0-logloss:0.72063\n",
      "[55]\tvalidation_0-logloss:0.72225\n",
      "[56]\tvalidation_0-logloss:0.72375\n",
      "[57]\tvalidation_0-logloss:0.72595\n",
      "[58]\tvalidation_0-logloss:0.72592\n",
      "[59]\tvalidation_0-logloss:0.72655\n",
      "[60]\tvalidation_0-logloss:0.73249\n",
      "[61]\tvalidation_0-logloss:0.73360\n",
      "[62]\tvalidation_0-logloss:0.73509\n",
      "[63]\tvalidation_0-logloss:0.73959\n",
      "[64]\tvalidation_0-logloss:0.74409\n",
      "[65]\tvalidation_0-logloss:0.74625\n",
      "[66]\tvalidation_0-logloss:0.74726\n",
      "[67]\tvalidation_0-logloss:0.74940\n",
      "[68]\tvalidation_0-logloss:0.75052\n",
      "[69]\tvalidation_0-logloss:0.75201\n",
      "[70]\tvalidation_0-logloss:0.75300\n",
      "[71]\tvalidation_0-logloss:0.75496\n",
      "[72]\tvalidation_0-logloss:0.75665\n",
      "[73]\tvalidation_0-logloss:0.75756\n",
      "[74]\tvalidation_0-logloss:0.76100\n",
      "[75]\tvalidation_0-logloss:0.76390\n",
      "[76]\tvalidation_0-logloss:0.76627\n",
      "[77]\tvalidation_0-logloss:0.76655\n",
      "[78]\tvalidation_0-logloss:0.76945\n",
      "[79]\tvalidation_0-logloss:0.77108\n",
      "[80]\tvalidation_0-logloss:0.76996\n",
      "[81]\tvalidation_0-logloss:0.76928\n",
      "[82]\tvalidation_0-logloss:0.77487\n",
      "[83]\tvalidation_0-logloss:0.77705\n",
      "[84]\tvalidation_0-logloss:0.77852\n",
      "[85]\tvalidation_0-logloss:0.77824\n",
      "[86]\tvalidation_0-logloss:0.77801\n",
      "[87]\tvalidation_0-logloss:0.78041\n",
      "[88]\tvalidation_0-logloss:0.78154\n",
      "[89]\tvalidation_0-logloss:0.78363\n",
      "[90]\tvalidation_0-logloss:0.78231\n",
      "[91]\tvalidation_0-logloss:0.78286\n",
      "[92]\tvalidation_0-logloss:0.78476\n",
      "[93]\tvalidation_0-logloss:0.78656\n",
      "[94]\tvalidation_0-logloss:0.78747\n",
      "[95]\tvalidation_0-logloss:0.78903\n",
      "[96]\tvalidation_0-logloss:0.78963\n",
      "[97]\tvalidation_0-logloss:0.78945\n",
      "[98]\tvalidation_0-logloss:0.79044\n",
      "[99]\tvalidation_0-logloss:0.79141\n",
      "[100]\tvalidation_0-logloss:0.79437\n",
      "[101]\tvalidation_0-logloss:0.79879\n",
      "[102]\tvalidation_0-logloss:0.79771\n",
      "[103]\tvalidation_0-logloss:0.79841\n",
      "[104]\tvalidation_0-logloss:0.79971\n",
      "[105]\tvalidation_0-logloss:0.80129\n",
      "[106]\tvalidation_0-logloss:0.80250\n",
      "[107]\tvalidation_0-logloss:0.80466\n",
      "[108]\tvalidation_0-logloss:0.80513\n",
      "[109]\tvalidation_0-logloss:0.80564\n",
      "[110]\tvalidation_0-logloss:0.80728\n",
      "[111]\tvalidation_0-logloss:0.80951\n",
      "[112]\tvalidation_0-logloss:0.81200\n",
      "[113]\tvalidation_0-logloss:0.81353\n",
      "[114]\tvalidation_0-logloss:0.81328\n",
      "[115]\tvalidation_0-logloss:0.81675\n",
      "[116]\tvalidation_0-logloss:0.81711\n",
      "[117]\tvalidation_0-logloss:0.81893\n",
      "[118]\tvalidation_0-logloss:0.82504\n",
      "[119]\tvalidation_0-logloss:0.82672\n",
      "[120]\tvalidation_0-logloss:0.82823\n",
      "[121]\tvalidation_0-logloss:0.82911\n",
      "[122]\tvalidation_0-logloss:0.83108\n",
      "[123]\tvalidation_0-logloss:0.83377\n",
      "[124]\tvalidation_0-logloss:0.83505\n",
      "[125]\tvalidation_0-logloss:0.83620\n",
      "[126]\tvalidation_0-logloss:0.83712\n",
      "[127]\tvalidation_0-logloss:0.83718\n",
      "[128]\tvalidation_0-logloss:0.84222\n",
      "[129]\tvalidation_0-logloss:0.84251\n",
      "[130]\tvalidation_0-logloss:0.84439\n",
      "[131]\tvalidation_0-logloss:0.84489\n",
      "[132]\tvalidation_0-logloss:0.84581\n",
      "[133]\tvalidation_0-logloss:0.84832\n",
      "[134]\tvalidation_0-logloss:0.84918\n",
      "[135]\tvalidation_0-logloss:0.85102\n",
      "[136]\tvalidation_0-logloss:0.85179\n",
      "[137]\tvalidation_0-logloss:0.85233\n",
      "[138]\tvalidation_0-logloss:0.85482\n",
      "[139]\tvalidation_0-logloss:0.85437\n",
      "[140]\tvalidation_0-logloss:0.85454\n",
      "[141]\tvalidation_0-logloss:0.85585\n",
      "[142]\tvalidation_0-logloss:0.85725\n",
      "[143]\tvalidation_0-logloss:0.85738\n",
      "[144]\tvalidation_0-logloss:0.85753\n",
      "[145]\tvalidation_0-logloss:0.85525\n",
      "[146]\tvalidation_0-logloss:0.85572\n",
      "[147]\tvalidation_0-logloss:0.85695\n",
      "[148]\tvalidation_0-logloss:0.85658\n",
      "[149]\tvalidation_0-logloss:0.86043\n",
      "[150]\tvalidation_0-logloss:0.86362\n",
      "[151]\tvalidation_0-logloss:0.86356\n",
      "[152]\tvalidation_0-logloss:0.86370\n",
      "[153]\tvalidation_0-logloss:0.86580\n",
      "[154]\tvalidation_0-logloss:0.86631\n",
      "[155]\tvalidation_0-logloss:0.86900\n",
      "[156]\tvalidation_0-logloss:0.87206\n",
      "[157]\tvalidation_0-logloss:0.87259\n",
      "[158]\tvalidation_0-logloss:0.87368\n",
      "[159]\tvalidation_0-logloss:0.87689\n",
      "[160]\tvalidation_0-logloss:0.87861\n",
      "[161]\tvalidation_0-logloss:0.87911\n",
      "[162]\tvalidation_0-logloss:0.88213\n",
      "[163]\tvalidation_0-logloss:0.88386\n",
      "[164]\tvalidation_0-logloss:0.88356\n",
      "[165]\tvalidation_0-logloss:0.88436\n",
      "[166]\tvalidation_0-logloss:0.88485\n",
      "[167]\tvalidation_0-logloss:0.88548\n",
      "[168]\tvalidation_0-logloss:0.88567\n",
      "[169]\tvalidation_0-logloss:0.88745\n",
      "[170]\tvalidation_0-logloss:0.88944\n",
      "[171]\tvalidation_0-logloss:0.88981\n",
      "[172]\tvalidation_0-logloss:0.89116\n",
      "[173]\tvalidation_0-logloss:0.89144\n",
      "[174]\tvalidation_0-logloss:0.89077\n",
      "[175]\tvalidation_0-logloss:0.89206\n",
      "[176]\tvalidation_0-logloss:0.89262\n",
      "[177]\tvalidation_0-logloss:0.89332\n",
      "[178]\tvalidation_0-logloss:0.89526\n",
      "[179]\tvalidation_0-logloss:0.89681\n",
      "[180]\tvalidation_0-logloss:0.89879\n",
      "[181]\tvalidation_0-logloss:0.90025\n",
      "[182]\tvalidation_0-logloss:0.90011\n",
      "[183]\tvalidation_0-logloss:0.90191\n",
      "[184]\tvalidation_0-logloss:0.90214\n",
      "[185]\tvalidation_0-logloss:0.90393\n",
      "[186]\tvalidation_0-logloss:0.90640\n",
      "[187]\tvalidation_0-logloss:0.90685\n",
      "[188]\tvalidation_0-logloss:0.90676\n",
      "[189]\tvalidation_0-logloss:0.90769\n",
      "[190]\tvalidation_0-logloss:0.90944\n",
      "[191]\tvalidation_0-logloss:0.90888\n",
      "[192]\tvalidation_0-logloss:0.91002\n",
      "[193]\tvalidation_0-logloss:0.91205\n",
      "[194]\tvalidation_0-logloss:0.91427\n",
      "[195]\tvalidation_0-logloss:0.91502\n",
      "[196]\tvalidation_0-logloss:0.91600\n",
      "[197]\tvalidation_0-logloss:0.91668\n",
      "[198]\tvalidation_0-logloss:0.91802\n",
      "[199]\tvalidation_0-logloss:0.91939\n",
      "[200]\tvalidation_0-logloss:0.92223\n",
      "[201]\tvalidation_0-logloss:0.92329\n",
      "[202]\tvalidation_0-logloss:0.92449\n",
      "[203]\tvalidation_0-logloss:0.92602\n",
      "[204]\tvalidation_0-logloss:0.92835\n",
      "[205]\tvalidation_0-logloss:0.92960\n",
      "[206]\tvalidation_0-logloss:0.93100\n",
      "[207]\tvalidation_0-logloss:0.93142\n",
      "[208]\tvalidation_0-logloss:0.93201\n",
      "[209]\tvalidation_0-logloss:0.93191\n",
      "[210]\tvalidation_0-logloss:0.93130\n",
      "[211]\tvalidation_0-logloss:0.93180\n",
      "[212]\tvalidation_0-logloss:0.93119\n",
      "[213]\tvalidation_0-logloss:0.93219\n",
      "[214]\tvalidation_0-logloss:0.93293\n",
      "[215]\tvalidation_0-logloss:0.93415\n",
      "[216]\tvalidation_0-logloss:0.93477\n",
      "[217]\tvalidation_0-logloss:0.93644\n",
      "[218]\tvalidation_0-logloss:0.93805\n",
      "[219]\tvalidation_0-logloss:0.93834\n",
      "[220]\tvalidation_0-logloss:0.93841\n",
      "[221]\tvalidation_0-logloss:0.93905\n",
      "[222]\tvalidation_0-logloss:0.93986\n",
      "[223]\tvalidation_0-logloss:0.94084\n",
      "[224]\tvalidation_0-logloss:0.94322\n",
      "[225]\tvalidation_0-logloss:0.94511\n",
      "[226]\tvalidation_0-logloss:0.94703\n",
      "[227]\tvalidation_0-logloss:0.94753\n",
      "[228]\tvalidation_0-logloss:0.94963\n",
      "[229]\tvalidation_0-logloss:0.94971\n",
      "[230]\tvalidation_0-logloss:0.95155\n",
      "[231]\tvalidation_0-logloss:0.95193\n",
      "[232]\tvalidation_0-logloss:0.95387\n",
      "[233]\tvalidation_0-logloss:0.95410\n",
      "[234]\tvalidation_0-logloss:0.95542\n",
      "[235]\tvalidation_0-logloss:0.95754\n",
      "[236]\tvalidation_0-logloss:0.95929\n",
      "[237]\tvalidation_0-logloss:0.95989\n",
      "[238]\tvalidation_0-logloss:0.95943\n",
      "[239]\tvalidation_0-logloss:0.95938\n",
      "[240]\tvalidation_0-logloss:0.95934\n",
      "[241]\tvalidation_0-logloss:0.96009\n",
      "[242]\tvalidation_0-logloss:0.95984\n",
      "[243]\tvalidation_0-logloss:0.96136\n",
      "[244]\tvalidation_0-logloss:0.96268\n",
      "[245]\tvalidation_0-logloss:0.96319\n",
      "[246]\tvalidation_0-logloss:0.96430\n",
      "[247]\tvalidation_0-logloss:0.96447\n",
      "[248]\tvalidation_0-logloss:0.96436\n",
      "[249]\tvalidation_0-logloss:0.96393\n",
      "[250]\tvalidation_0-logloss:0.96405\n",
      "[251]\tvalidation_0-logloss:0.96477\n",
      "[252]\tvalidation_0-logloss:0.96496\n",
      "[253]\tvalidation_0-logloss:0.96488\n",
      "[254]\tvalidation_0-logloss:0.96462\n",
      "[255]\tvalidation_0-logloss:0.96507\n",
      "[256]\tvalidation_0-logloss:0.96390\n",
      "[257]\tvalidation_0-logloss:0.96530\n",
      "[258]\tvalidation_0-logloss:0.96498\n",
      "[259]\tvalidation_0-logloss:0.96708\n",
      "[260]\tvalidation_0-logloss:0.96643\n",
      "[261]\tvalidation_0-logloss:0.96676\n",
      "[262]\tvalidation_0-logloss:0.96882\n",
      "[263]\tvalidation_0-logloss:0.96954\n",
      "[264]\tvalidation_0-logloss:0.97022\n",
      "[265]\tvalidation_0-logloss:0.97017\n",
      "[266]\tvalidation_0-logloss:0.97241\n",
      "[267]\tvalidation_0-logloss:0.97404\n",
      "[268]\tvalidation_0-logloss:0.97412\n",
      "[269]\tvalidation_0-logloss:0.97427\n",
      "[270]\tvalidation_0-logloss:0.97545\n",
      "[271]\tvalidation_0-logloss:0.97650\n",
      "[272]\tvalidation_0-logloss:0.97747\n",
      "[273]\tvalidation_0-logloss:0.97965\n",
      "[274]\tvalidation_0-logloss:0.98022\n",
      "[275]\tvalidation_0-logloss:0.97939\n",
      "[276]\tvalidation_0-logloss:0.98076\n",
      "[277]\tvalidation_0-logloss:0.98271\n",
      "[278]\tvalidation_0-logloss:0.98295\n",
      "[279]\tvalidation_0-logloss:0.98322\n",
      "[280]\tvalidation_0-logloss:0.98271\n",
      "[281]\tvalidation_0-logloss:0.98396\n",
      "[282]\tvalidation_0-logloss:0.98463\n",
      "[283]\tvalidation_0-logloss:0.98526\n",
      "[284]\tvalidation_0-logloss:0.98516\n",
      "[285]\tvalidation_0-logloss:0.98657\n",
      "[286]\tvalidation_0-logloss:0.98730\n",
      "[287]\tvalidation_0-logloss:0.98791\n",
      "[288]\tvalidation_0-logloss:0.98916\n",
      "[289]\tvalidation_0-logloss:0.98928\n",
      "[290]\tvalidation_0-logloss:0.99164\n",
      "[291]\tvalidation_0-logloss:0.99249\n",
      "[292]\tvalidation_0-logloss:0.99341\n",
      "[293]\tvalidation_0-logloss:0.99383\n",
      "[294]\tvalidation_0-logloss:0.99427\n",
      "[295]\tvalidation_0-logloss:0.99502\n",
      "[296]\tvalidation_0-logloss:0.99605\n",
      "[297]\tvalidation_0-logloss:0.99589\n",
      "[298]\tvalidation_0-logloss:0.99675\n",
      "[299]\tvalidation_0-logloss:0.99844\n",
      "[300]\tvalidation_0-logloss:0.99989\n",
      "[301]\tvalidation_0-logloss:1.00039\n",
      "[302]\tvalidation_0-logloss:1.00211\n",
      "[303]\tvalidation_0-logloss:1.00323\n",
      "[304]\tvalidation_0-logloss:1.00527\n",
      "[305]\tvalidation_0-logloss:1.00501\n",
      "[306]\tvalidation_0-logloss:1.00536\n",
      "[307]\tvalidation_0-logloss:1.00594\n",
      "[308]\tvalidation_0-logloss:1.00774\n",
      "[309]\tvalidation_0-logloss:1.00837\n",
      "[310]\tvalidation_0-logloss:1.01018\n",
      "[311]\tvalidation_0-logloss:1.01048\n",
      "[312]\tvalidation_0-logloss:1.01140\n",
      "[313]\tvalidation_0-logloss:1.01198\n",
      "[314]\tvalidation_0-logloss:1.01224\n",
      "[315]\tvalidation_0-logloss:1.01292\n",
      "[316]\tvalidation_0-logloss:1.01487\n",
      "[317]\tvalidation_0-logloss:1.01571\n",
      "[318]\tvalidation_0-logloss:1.01542\n",
      "[319]\tvalidation_0-logloss:1.01597\n",
      "[320]\tvalidation_0-logloss:1.01531\n",
      "[321]\tvalidation_0-logloss:1.01601\n",
      "[322]\tvalidation_0-logloss:1.01752\n",
      "[323]\tvalidation_0-logloss:1.01866\n",
      "[324]\tvalidation_0-logloss:1.02077\n",
      "[325]\tvalidation_0-logloss:1.02130\n",
      "[326]\tvalidation_0-logloss:1.02327\n",
      "[327]\tvalidation_0-logloss:1.02468\n",
      "[328]\tvalidation_0-logloss:1.02551\n",
      "[329]\tvalidation_0-logloss:1.02698\n",
      "[330]\tvalidation_0-logloss:1.02701\n",
      "[331]\tvalidation_0-logloss:1.02730\n",
      "[332]\tvalidation_0-logloss:1.02821\n",
      "[333]\tvalidation_0-logloss:1.02933\n",
      "[334]\tvalidation_0-logloss:1.03039\n",
      "[335]\tvalidation_0-logloss:1.03111\n",
      "[336]\tvalidation_0-logloss:1.03082\n",
      "[337]\tvalidation_0-logloss:1.03127\n",
      "[338]\tvalidation_0-logloss:1.03191\n",
      "[339]\tvalidation_0-logloss:1.03184\n",
      "[340]\tvalidation_0-logloss:1.03277\n",
      "[341]\tvalidation_0-logloss:1.03392\n",
      "[342]\tvalidation_0-logloss:1.03413\n",
      "[343]\tvalidation_0-logloss:1.03459\n",
      "[344]\tvalidation_0-logloss:1.03544\n",
      "[345]\tvalidation_0-logloss:1.03585\n",
      "[346]\tvalidation_0-logloss:1.03572\n",
      "[347]\tvalidation_0-logloss:1.03639\n",
      "[348]\tvalidation_0-logloss:1.03602\n",
      "[349]\tvalidation_0-logloss:1.03779\n",
      "[350]\tvalidation_0-logloss:1.03792\n",
      "[351]\tvalidation_0-logloss:1.03822\n",
      "[352]\tvalidation_0-logloss:1.04041\n",
      "[353]\tvalidation_0-logloss:1.04106\n",
      "[354]\tvalidation_0-logloss:1.04223\n",
      "[355]\tvalidation_0-logloss:1.04343\n",
      "[356]\tvalidation_0-logloss:1.04553\n",
      "[357]\tvalidation_0-logloss:1.04564\n",
      "[358]\tvalidation_0-logloss:1.04597\n",
      "[359]\tvalidation_0-logloss:1.04703\n",
      "[360]\tvalidation_0-logloss:1.04748\n",
      "[361]\tvalidation_0-logloss:1.04786\n",
      "[362]\tvalidation_0-logloss:1.04786\n",
      "[363]\tvalidation_0-logloss:1.04766\n",
      "[364]\tvalidation_0-logloss:1.04763\n",
      "[365]\tvalidation_0-logloss:1.04899\n",
      "[366]\tvalidation_0-logloss:1.05001\n",
      "[367]\tvalidation_0-logloss:1.05092\n",
      "[368]\tvalidation_0-logloss:1.05082\n",
      "[369]\tvalidation_0-logloss:1.05111\n",
      "[370]\tvalidation_0-logloss:1.05050\n",
      "[371]\tvalidation_0-logloss:1.05126\n",
      "[372]\tvalidation_0-logloss:1.05217\n",
      "[373]\tvalidation_0-logloss:1.05254\n",
      "[374]\tvalidation_0-logloss:1.05270\n",
      "[375]\tvalidation_0-logloss:1.05376\n",
      "[376]\tvalidation_0-logloss:1.05394\n",
      "[377]\tvalidation_0-logloss:1.05376\n",
      "[378]\tvalidation_0-logloss:1.05384\n",
      "[379]\tvalidation_0-logloss:1.05501\n",
      "[380]\tvalidation_0-logloss:1.05607\n",
      "[381]\tvalidation_0-logloss:1.05722\n",
      "[382]\tvalidation_0-logloss:1.05796\n",
      "[383]\tvalidation_0-logloss:1.05784\n",
      "[384]\tvalidation_0-logloss:1.05788\n",
      "[385]\tvalidation_0-logloss:1.05767\n",
      "[386]\tvalidation_0-logloss:1.05914\n",
      "[387]\tvalidation_0-logloss:1.05859\n",
      "[388]\tvalidation_0-logloss:1.05911\n",
      "[389]\tvalidation_0-logloss:1.05965\n",
      "[390]\tvalidation_0-logloss:1.06089\n",
      "[391]\tvalidation_0-logloss:1.06079\n",
      "[392]\tvalidation_0-logloss:1.06014\n",
      "[393]\tvalidation_0-logloss:1.06047\n",
      "[394]\tvalidation_0-logloss:1.06131\n",
      "[395]\tvalidation_0-logloss:1.06256\n",
      "[396]\tvalidation_0-logloss:1.06356\n",
      "[397]\tvalidation_0-logloss:1.06488\n",
      "[398]\tvalidation_0-logloss:1.06492\n",
      "[399]\tvalidation_0-logloss:1.06547\n",
      "[400]\tvalidation_0-logloss:1.06621\n",
      "[401]\tvalidation_0-logloss:1.06646\n",
      "[402]\tvalidation_0-logloss:1.06642\n",
      "[403]\tvalidation_0-logloss:1.06741\n",
      "[404]\tvalidation_0-logloss:1.06699\n",
      "[405]\tvalidation_0-logloss:1.06617\n",
      "[406]\tvalidation_0-logloss:1.06635\n",
      "[407]\tvalidation_0-logloss:1.06540\n",
      "[408]\tvalidation_0-logloss:1.06652\n",
      "[409]\tvalidation_0-logloss:1.06664\n",
      "[410]\tvalidation_0-logloss:1.06804\n",
      "[411]\tvalidation_0-logloss:1.06852\n",
      "[412]\tvalidation_0-logloss:1.06824\n",
      "[413]\tvalidation_0-logloss:1.06772\n",
      "[414]\tvalidation_0-logloss:1.06850\n",
      "[415]\tvalidation_0-logloss:1.06820\n",
      "[416]\tvalidation_0-logloss:1.06904\n",
      "[417]\tvalidation_0-logloss:1.07027\n",
      "[418]\tvalidation_0-logloss:1.07057\n",
      "[419]\tvalidation_0-logloss:1.07047\n",
      "[420]\tvalidation_0-logloss:1.07088\n",
      "[421]\tvalidation_0-logloss:1.07174\n",
      "[422]\tvalidation_0-logloss:1.07196\n",
      "[423]\tvalidation_0-logloss:1.07236\n",
      "[424]\tvalidation_0-logloss:1.07228\n",
      "[425]\tvalidation_0-logloss:1.07415\n",
      "[426]\tvalidation_0-logloss:1.07450\n",
      "[427]\tvalidation_0-logloss:1.07403\n",
      "[428]\tvalidation_0-logloss:1.07469\n",
      "[429]\tvalidation_0-logloss:1.07511\n",
      "[430]\tvalidation_0-logloss:1.07614\n",
      "[431]\tvalidation_0-logloss:1.07721\n",
      "[432]\tvalidation_0-logloss:1.07684\n",
      "[433]\tvalidation_0-logloss:1.07789\n",
      "[434]\tvalidation_0-logloss:1.07924\n",
      "[435]\tvalidation_0-logloss:1.07946\n",
      "[436]\tvalidation_0-logloss:1.07963\n",
      "[437]\tvalidation_0-logloss:1.07995\n",
      "[438]\tvalidation_0-logloss:1.08014\n",
      "[439]\tvalidation_0-logloss:1.08010\n",
      "[440]\tvalidation_0-logloss:1.08052\n",
      "[441]\tvalidation_0-logloss:1.08123\n",
      "[442]\tvalidation_0-logloss:1.08291\n",
      "[443]\tvalidation_0-logloss:1.08287\n",
      "[444]\tvalidation_0-logloss:1.08403\n",
      "[445]\tvalidation_0-logloss:1.08415\n",
      "[446]\tvalidation_0-logloss:1.08406\n",
      "[447]\tvalidation_0-logloss:1.08494\n",
      "[448]\tvalidation_0-logloss:1.08548\n",
      "[449]\tvalidation_0-logloss:1.08573\n",
      "[450]\tvalidation_0-logloss:1.08610\n",
      "[451]\tvalidation_0-logloss:1.08721\n",
      "[452]\tvalidation_0-logloss:1.08879\n",
      "[453]\tvalidation_0-logloss:1.08984\n",
      "[454]\tvalidation_0-logloss:1.09048\n",
      "[455]\tvalidation_0-logloss:1.09062\n",
      "[456]\tvalidation_0-logloss:1.09075\n",
      "[457]\tvalidation_0-logloss:1.09207\n",
      "[458]\tvalidation_0-logloss:1.09261\n",
      "[459]\tvalidation_0-logloss:1.09283\n",
      "[460]\tvalidation_0-logloss:1.09339\n",
      "[461]\tvalidation_0-logloss:1.09324\n",
      "[462]\tvalidation_0-logloss:1.09399\n",
      "[463]\tvalidation_0-logloss:1.09432\n",
      "[464]\tvalidation_0-logloss:1.09446\n",
      "[465]\tvalidation_0-logloss:1.09569\n",
      "[466]\tvalidation_0-logloss:1.09572\n",
      "[467]\tvalidation_0-logloss:1.09697\n",
      "[468]\tvalidation_0-logloss:1.09660\n",
      "[469]\tvalidation_0-logloss:1.09719\n",
      "[470]\tvalidation_0-logloss:1.09778\n",
      "[471]\tvalidation_0-logloss:1.09788\n",
      "[472]\tvalidation_0-logloss:1.09897\n",
      "[473]\tvalidation_0-logloss:1.09917\n",
      "[474]\tvalidation_0-logloss:1.09878\n",
      "[475]\tvalidation_0-logloss:1.09926\n",
      "[476]\tvalidation_0-logloss:1.09973\n",
      "[477]\tvalidation_0-logloss:1.10019\n",
      "[478]\tvalidation_0-logloss:1.09887\n",
      "[479]\tvalidation_0-logloss:1.09942\n",
      "[480]\tvalidation_0-logloss:1.10020\n",
      "[481]\tvalidation_0-logloss:1.10143\n",
      "[482]\tvalidation_0-logloss:1.10239\n",
      "[483]\tvalidation_0-logloss:1.10262\n",
      "[484]\tvalidation_0-logloss:1.10335\n",
      "[485]\tvalidation_0-logloss:1.10383\n",
      "[486]\tvalidation_0-logloss:1.10368\n",
      "[487]\tvalidation_0-logloss:1.10407\n",
      "[488]\tvalidation_0-logloss:1.10469\n",
      "[489]\tvalidation_0-logloss:1.10453\n",
      "[490]\tvalidation_0-logloss:1.10512\n",
      "[491]\tvalidation_0-logloss:1.10609\n",
      "[492]\tvalidation_0-logloss:1.10628\n",
      "[493]\tvalidation_0-logloss:1.10720\n",
      "[494]\tvalidation_0-logloss:1.10786\n",
      "[495]\tvalidation_0-logloss:1.10828\n",
      "[496]\tvalidation_0-logloss:1.10747\n",
      "[497]\tvalidation_0-logloss:1.10805\n",
      "[498]\tvalidation_0-logloss:1.10782\n",
      "[499]\tvalidation_0-logloss:1.10792\n"
     ]
    },
    {
     "data": {
      "text/html": [
       "<style>#sk-container-id-1 {color: black;background-color: white;}#sk-container-id-1 pre{padding: 0;}#sk-container-id-1 div.sk-toggleable {background-color: white;}#sk-container-id-1 label.sk-toggleable__label {cursor: pointer;display: block;width: 100%;margin-bottom: 0;padding: 0.3em;box-sizing: border-box;text-align: center;}#sk-container-id-1 label.sk-toggleable__label-arrow:before {content: \"▸\";float: left;margin-right: 0.25em;color: #696969;}#sk-container-id-1 label.sk-toggleable__label-arrow:hover:before {color: black;}#sk-container-id-1 div.sk-estimator:hover label.sk-toggleable__label-arrow:before {color: black;}#sk-container-id-1 div.sk-toggleable__content {max-height: 0;max-width: 0;overflow: hidden;text-align: left;background-color: #f0f8ff;}#sk-container-id-1 div.sk-toggleable__content pre {margin: 0.2em;color: black;border-radius: 0.25em;background-color: #f0f8ff;}#sk-container-id-1 input.sk-toggleable__control:checked~div.sk-toggleable__content {max-height: 200px;max-width: 100%;overflow: auto;}#sk-container-id-1 input.sk-toggleable__control:checked~label.sk-toggleable__label-arrow:before {content: \"▾\";}#sk-container-id-1 div.sk-estimator input.sk-toggleable__control:checked~label.sk-toggleable__label {background-color: #d4ebff;}#sk-container-id-1 div.sk-label input.sk-toggleable__control:checked~label.sk-toggleable__label {background-color: #d4ebff;}#sk-container-id-1 input.sk-hidden--visually {border: 0;clip: rect(1px 1px 1px 1px);clip: rect(1px, 1px, 1px, 1px);height: 1px;margin: -1px;overflow: hidden;padding: 0;position: absolute;width: 1px;}#sk-container-id-1 div.sk-estimator {font-family: monospace;background-color: #f0f8ff;border: 1px dotted black;border-radius: 0.25em;box-sizing: border-box;margin-bottom: 0.5em;}#sk-container-id-1 div.sk-estimator:hover {background-color: #d4ebff;}#sk-container-id-1 div.sk-parallel-item::after {content: \"\";width: 100%;border-bottom: 1px solid gray;flex-grow: 1;}#sk-container-id-1 div.sk-label:hover label.sk-toggleable__label {background-color: #d4ebff;}#sk-container-id-1 div.sk-serial::before {content: \"\";position: absolute;border-left: 1px solid gray;box-sizing: border-box;top: 0;bottom: 0;left: 50%;z-index: 0;}#sk-container-id-1 div.sk-serial {display: flex;flex-direction: column;align-items: center;background-color: white;padding-right: 0.2em;padding-left: 0.2em;position: relative;}#sk-container-id-1 div.sk-item {position: relative;z-index: 1;}#sk-container-id-1 div.sk-parallel {display: flex;align-items: stretch;justify-content: center;background-color: white;position: relative;}#sk-container-id-1 div.sk-item::before, #sk-container-id-1 div.sk-parallel-item::before {content: \"\";position: absolute;border-left: 1px solid gray;box-sizing: border-box;top: 0;bottom: 0;left: 50%;z-index: -1;}#sk-container-id-1 div.sk-parallel-item {display: flex;flex-direction: column;z-index: 1;position: relative;background-color: white;}#sk-container-id-1 div.sk-parallel-item:first-child::after {align-self: flex-end;width: 50%;}#sk-container-id-1 div.sk-parallel-item:last-child::after {align-self: flex-start;width: 50%;}#sk-container-id-1 div.sk-parallel-item:only-child::after {width: 0;}#sk-container-id-1 div.sk-dashed-wrapped {border: 1px dashed gray;margin: 0 0.4em 0.5em 0.4em;box-sizing: border-box;padding-bottom: 0.4em;background-color: white;}#sk-container-id-1 div.sk-label label {font-family: monospace;font-weight: bold;display: inline-block;line-height: 1.2em;}#sk-container-id-1 div.sk-label-container {text-align: center;}#sk-container-id-1 div.sk-container {/* jupyter's `normalize.less` sets `[hidden] { display: none; }` but bootstrap.min.css set `[hidden] { display: none !important; }` so we also need the `!important` here to be able to override the default hidden behavior on the sphinx rendered scikit-learn.org. See: https://github.com/scikit-learn/scikit-learn/issues/21755 */display: inline-block !important;position: relative;}#sk-container-id-1 div.sk-text-repr-fallback {display: none;}</style><div id=\"sk-container-id-1\" class=\"sk-top-container\"><div class=\"sk-text-repr-fallback\"><pre>XGBClassifier(alpha=0, base_score=None, booster=&#x27;gbtree&#x27;, callbacks=None,\n",
       "              colsample_bylevel=None, colsample_bynode=None,\n",
       "              colsample_bytree=None, device=None, early_stopping_rounds=None,\n",
       "              enable_categorical=False, eta=0.3, eval_metric=None,\n",
       "              feature_types=None, gamma=0, grow_policy=None,\n",
       "              importance_type=None, interaction_constraints=None, lambda=1,\n",
       "              learning_rate=None, max_bin=None, max_cat_threshold=None,\n",
       "              max_cat_to_onehot=None, max_delta_step=None, max_depth=6,\n",
       "              max_leaves=None, min_child_weight=None, missing=nan,\n",
       "              monotone_constraints=None, multi_strategy=None, n_estimators=500, ...)</pre><b>In a Jupyter environment, please rerun this cell to show the HTML representation or trust the notebook. <br />On GitHub, the HTML representation is unable to render, please try loading this page with nbviewer.org.</b></div><div class=\"sk-container\" hidden><div class=\"sk-item\"><div class=\"sk-estimator sk-toggleable\"><input class=\"sk-toggleable__control sk-hidden--visually\" id=\"sk-estimator-id-1\" type=\"checkbox\" checked><label for=\"sk-estimator-id-1\" class=\"sk-toggleable__label sk-toggleable__label-arrow\">XGBClassifier</label><div class=\"sk-toggleable__content\"><pre>XGBClassifier(alpha=0, base_score=None, booster=&#x27;gbtree&#x27;, callbacks=None,\n",
       "              colsample_bylevel=None, colsample_bynode=None,\n",
       "              colsample_bytree=None, device=None, early_stopping_rounds=None,\n",
       "              enable_categorical=False, eta=0.3, eval_metric=None,\n",
       "              feature_types=None, gamma=0, grow_policy=None,\n",
       "              importance_type=None, interaction_constraints=None, lambda=1,\n",
       "              learning_rate=None, max_bin=None, max_cat_threshold=None,\n",
       "              max_cat_to_onehot=None, max_delta_step=None, max_depth=6,\n",
       "              max_leaves=None, min_child_weight=None, missing=nan,\n",
       "              monotone_constraints=None, multi_strategy=None, n_estimators=500, ...)</pre></div></div></div></div></div>"
      ],
      "text/plain": [
       "XGBClassifier(alpha=0, base_score=None, booster='gbtree', callbacks=None,\n",
       "              colsample_bylevel=None, colsample_bynode=None,\n",
       "              colsample_bytree=None, device=None, early_stopping_rounds=None,\n",
       "              enable_categorical=False, eta=0.3, eval_metric=None,\n",
       "              feature_types=None, gamma=0, grow_policy=None,\n",
       "              importance_type=None, interaction_constraints=None, lambda=1,\n",
       "              learning_rate=None, max_bin=None, max_cat_threshold=None,\n",
       "              max_cat_to_onehot=None, max_delta_step=None, max_depth=6,\n",
       "              max_leaves=None, min_child_weight=None, missing=nan,\n",
       "              monotone_constraints=None, multi_strategy=None, n_estimators=500, ...)"
      ]
     },
     "execution_count": 11,
     "metadata": {},
     "output_type": "execute_result"
    }
   ],
   "source": [
    "parameters = {\n",
    "    \"n_estimators\": 500,\n",
    "    \"eta\": 0.3,\n",
    "    \"gamma\": 0,\n",
    "    \"max_depth\": 6,\n",
    "    \"lambda\": 1,\n",
    "    \"alpha\": 0,\n",
    "    \"booster\": \"gbtree\",\n",
    "    \"verbosity\": 2,\n",
    "    \n",
    "}\n",
    "\n",
    "model_full = xgb.XGBClassifier(**parameters)\n",
    "model_full.fit(X_train, y_train, eval_set=[(X_valid, y_valid)])"
   ]
  },
  {
   "cell_type": "markdown",
   "id": "a0691f7c",
   "metadata": {
    "papermill": {
     "duration": 0.046924,
     "end_time": "2024-07-15T01:05:38.112872",
     "exception": false,
     "start_time": "2024-07-15T01:05:38.065948",
     "status": "completed"
    },
    "tags": []
   },
   "source": [
    "Training with early stopping."
   ]
  },
  {
   "cell_type": "code",
   "execution_count": 12,
   "id": "d13c60e5",
   "metadata": {
    "execution": {
     "iopub.execute_input": "2024-07-15T01:05:38.209708Z",
     "iopub.status.busy": "2024-07-15T01:05:38.209310Z",
     "iopub.status.idle": "2024-07-15T01:05:38.412017Z",
     "shell.execute_reply": "2024-07-15T01:05:38.410852Z"
    },
    "papermill": {
     "duration": 0.253851,
     "end_time": "2024-07-15T01:05:38.414569",
     "exception": false,
     "start_time": "2024-07-15T01:05:38.160718",
     "status": "completed"
    },
    "tags": []
   },
   "outputs": [
    {
     "name": "stdout",
     "output_type": "stream",
     "text": [
      "[0]\tvalidation_0-logloss:0.66049\n",
      "[1]\tvalidation_0-logloss:0.64852\n",
      "[2]\tvalidation_0-logloss:0.64966\n",
      "[3]\tvalidation_0-logloss:0.64675\n",
      "[4]\tvalidation_0-logloss:0.64216\n",
      "[5]\tvalidation_0-logloss:0.64282\n",
      "[6]\tvalidation_0-logloss:0.64312\n",
      "[7]\tvalidation_0-logloss:0.64223\n",
      "[8]\tvalidation_0-logloss:0.64086\n",
      "[9]\tvalidation_0-logloss:0.64327\n",
      "[10]\tvalidation_0-logloss:0.65755\n",
      "[11]\tvalidation_0-logloss:0.65741\n",
      "[12]\tvalidation_0-logloss:0.65721\n",
      "[13]\tvalidation_0-logloss:0.65679\n",
      "[14]\tvalidation_0-logloss:0.65901\n",
      "[15]\tvalidation_0-logloss:0.66005\n",
      "[16]\tvalidation_0-logloss:0.66253\n",
      "[17]\tvalidation_0-logloss:0.66405\n",
      "[18]\tvalidation_0-logloss:0.66571\n",
      "[19]\tvalidation_0-logloss:0.67038\n",
      "[20]\tvalidation_0-logloss:0.67034\n",
      "[21]\tvalidation_0-logloss:0.67474\n",
      "[22]\tvalidation_0-logloss:0.68102\n",
      "[23]\tvalidation_0-logloss:0.67774\n",
      "[24]\tvalidation_0-logloss:0.67879\n",
      "[25]\tvalidation_0-logloss:0.68161\n",
      "[26]\tvalidation_0-logloss:0.68678\n",
      "[27]\tvalidation_0-logloss:0.69155\n"
     ]
    },
    {
     "data": {
      "text/html": [
       "<style>#sk-container-id-2 {color: black;background-color: white;}#sk-container-id-2 pre{padding: 0;}#sk-container-id-2 div.sk-toggleable {background-color: white;}#sk-container-id-2 label.sk-toggleable__label {cursor: pointer;display: block;width: 100%;margin-bottom: 0;padding: 0.3em;box-sizing: border-box;text-align: center;}#sk-container-id-2 label.sk-toggleable__label-arrow:before {content: \"▸\";float: left;margin-right: 0.25em;color: #696969;}#sk-container-id-2 label.sk-toggleable__label-arrow:hover:before {color: black;}#sk-container-id-2 div.sk-estimator:hover label.sk-toggleable__label-arrow:before {color: black;}#sk-container-id-2 div.sk-toggleable__content {max-height: 0;max-width: 0;overflow: hidden;text-align: left;background-color: #f0f8ff;}#sk-container-id-2 div.sk-toggleable__content pre {margin: 0.2em;color: black;border-radius: 0.25em;background-color: #f0f8ff;}#sk-container-id-2 input.sk-toggleable__control:checked~div.sk-toggleable__content {max-height: 200px;max-width: 100%;overflow: auto;}#sk-container-id-2 input.sk-toggleable__control:checked~label.sk-toggleable__label-arrow:before {content: \"▾\";}#sk-container-id-2 div.sk-estimator input.sk-toggleable__control:checked~label.sk-toggleable__label {background-color: #d4ebff;}#sk-container-id-2 div.sk-label input.sk-toggleable__control:checked~label.sk-toggleable__label {background-color: #d4ebff;}#sk-container-id-2 input.sk-hidden--visually {border: 0;clip: rect(1px 1px 1px 1px);clip: rect(1px, 1px, 1px, 1px);height: 1px;margin: -1px;overflow: hidden;padding: 0;position: absolute;width: 1px;}#sk-container-id-2 div.sk-estimator {font-family: monospace;background-color: #f0f8ff;border: 1px dotted black;border-radius: 0.25em;box-sizing: border-box;margin-bottom: 0.5em;}#sk-container-id-2 div.sk-estimator:hover {background-color: #d4ebff;}#sk-container-id-2 div.sk-parallel-item::after {content: \"\";width: 100%;border-bottom: 1px solid gray;flex-grow: 1;}#sk-container-id-2 div.sk-label:hover label.sk-toggleable__label {background-color: #d4ebff;}#sk-container-id-2 div.sk-serial::before {content: \"\";position: absolute;border-left: 1px solid gray;box-sizing: border-box;top: 0;bottom: 0;left: 50%;z-index: 0;}#sk-container-id-2 div.sk-serial {display: flex;flex-direction: column;align-items: center;background-color: white;padding-right: 0.2em;padding-left: 0.2em;position: relative;}#sk-container-id-2 div.sk-item {position: relative;z-index: 1;}#sk-container-id-2 div.sk-parallel {display: flex;align-items: stretch;justify-content: center;background-color: white;position: relative;}#sk-container-id-2 div.sk-item::before, #sk-container-id-2 div.sk-parallel-item::before {content: \"\";position: absolute;border-left: 1px solid gray;box-sizing: border-box;top: 0;bottom: 0;left: 50%;z-index: -1;}#sk-container-id-2 div.sk-parallel-item {display: flex;flex-direction: column;z-index: 1;position: relative;background-color: white;}#sk-container-id-2 div.sk-parallel-item:first-child::after {align-self: flex-end;width: 50%;}#sk-container-id-2 div.sk-parallel-item:last-child::after {align-self: flex-start;width: 50%;}#sk-container-id-2 div.sk-parallel-item:only-child::after {width: 0;}#sk-container-id-2 div.sk-dashed-wrapped {border: 1px dashed gray;margin: 0 0.4em 0.5em 0.4em;box-sizing: border-box;padding-bottom: 0.4em;background-color: white;}#sk-container-id-2 div.sk-label label {font-family: monospace;font-weight: bold;display: inline-block;line-height: 1.2em;}#sk-container-id-2 div.sk-label-container {text-align: center;}#sk-container-id-2 div.sk-container {/* jupyter's `normalize.less` sets `[hidden] { display: none; }` but bootstrap.min.css set `[hidden] { display: none !important; }` so we also need the `!important` here to be able to override the default hidden behavior on the sphinx rendered scikit-learn.org. See: https://github.com/scikit-learn/scikit-learn/issues/21755 */display: inline-block !important;position: relative;}#sk-container-id-2 div.sk-text-repr-fallback {display: none;}</style><div id=\"sk-container-id-2\" class=\"sk-top-container\"><div class=\"sk-text-repr-fallback\"><pre>XGBClassifier(alpha=0, base_score=None, booster=&#x27;gbtree&#x27;, callbacks=None,\n",
       "              colsample_bylevel=None, colsample_bynode=None,\n",
       "              colsample_bytree=None, device=None, early_stopping_rounds=20,\n",
       "              enable_categorical=False, eta=0.3, eval_metric=None,\n",
       "              feature_types=None, gamma=0, grow_policy=None,\n",
       "              importance_type=None, interaction_constraints=None, lambda=1,\n",
       "              learning_rate=None, max_bin=None, max_cat_threshold=None,\n",
       "              max_cat_to_onehot=None, max_delta_step=None, max_depth=6,\n",
       "              max_leaves=None, min_child_weight=None, missing=nan,\n",
       "              monotone_constraints=None, multi_strategy=None, n_estimators=500, ...)</pre><b>In a Jupyter environment, please rerun this cell to show the HTML representation or trust the notebook. <br />On GitHub, the HTML representation is unable to render, please try loading this page with nbviewer.org.</b></div><div class=\"sk-container\" hidden><div class=\"sk-item\"><div class=\"sk-estimator sk-toggleable\"><input class=\"sk-toggleable__control sk-hidden--visually\" id=\"sk-estimator-id-2\" type=\"checkbox\" checked><label for=\"sk-estimator-id-2\" class=\"sk-toggleable__label sk-toggleable__label-arrow\">XGBClassifier</label><div class=\"sk-toggleable__content\"><pre>XGBClassifier(alpha=0, base_score=None, booster=&#x27;gbtree&#x27;, callbacks=None,\n",
       "              colsample_bylevel=None, colsample_bynode=None,\n",
       "              colsample_bytree=None, device=None, early_stopping_rounds=20,\n",
       "              enable_categorical=False, eta=0.3, eval_metric=None,\n",
       "              feature_types=None, gamma=0, grow_policy=None,\n",
       "              importance_type=None, interaction_constraints=None, lambda=1,\n",
       "              learning_rate=None, max_bin=None, max_cat_threshold=None,\n",
       "              max_cat_to_onehot=None, max_delta_step=None, max_depth=6,\n",
       "              max_leaves=None, min_child_weight=None, missing=nan,\n",
       "              monotone_constraints=None, multi_strategy=None, n_estimators=500, ...)</pre></div></div></div></div></div>"
      ],
      "text/plain": [
       "XGBClassifier(alpha=0, base_score=None, booster='gbtree', callbacks=None,\n",
       "              colsample_bylevel=None, colsample_bynode=None,\n",
       "              colsample_bytree=None, device=None, early_stopping_rounds=20,\n",
       "              enable_categorical=False, eta=0.3, eval_metric=None,\n",
       "              feature_types=None, gamma=0, grow_policy=None,\n",
       "              importance_type=None, interaction_constraints=None, lambda=1,\n",
       "              learning_rate=None, max_bin=None, max_cat_threshold=None,\n",
       "              max_cat_to_onehot=None, max_delta_step=None, max_depth=6,\n",
       "              max_leaves=None, min_child_weight=None, missing=nan,\n",
       "              monotone_constraints=None, multi_strategy=None, n_estimators=500, ...)"
      ]
     },
     "execution_count": 12,
     "metadata": {},
     "output_type": "execute_result"
    }
   ],
   "source": [
    "model_es = xgb.XGBClassifier(**parameters, early_stopping_rounds = 20)\n",
    "model_es.fit(X_train, y_train, eval_set=[(X_valid, y_valid)])"
   ]
  },
  {
   "cell_type": "markdown",
   "id": "511257d2",
   "metadata": {
    "papermill": {
     "duration": 0.051456,
     "end_time": "2024-07-15T01:05:38.517535",
     "exception": false,
     "start_time": "2024-07-15T01:05:38.466079",
     "status": "completed"
    },
    "tags": []
   },
   "source": [
    "Plot the resulting losses of the two models."
   ]
  },
  {
   "cell_type": "code",
   "execution_count": 13,
   "id": "672b4b7b",
   "metadata": {
    "execution": {
     "iopub.execute_input": "2024-07-15T01:05:38.619961Z",
     "iopub.status.busy": "2024-07-15T01:05:38.619542Z",
     "iopub.status.idle": "2024-07-15T01:05:38.898323Z",
     "shell.execute_reply": "2024-07-15T01:05:38.897107Z"
    },
    "papermill": {
     "duration": 0.333251,
     "end_time": "2024-07-15T01:05:38.901090",
     "exception": false,
     "start_time": "2024-07-15T01:05:38.567839",
     "status": "completed"
    },
    "tags": []
   },
   "outputs": [
    {
     "data": {
      "image/png": "[encoded data removed]",
      "text/plain": [
       "<Figure size 1000x500 with 1 Axes>"
      ]
     },
     "metadata": {},
     "output_type": "display_data"
    }
   ],
   "source": [
    "results_full = model_full.evals_result()\n",
    "results_es = model_es.evals_result()\n",
    "\n",
    "plt.figure(figsize=(10,5))\n",
    "plt.plot(results_full[\"validation_0\"][\"logloss\"], label=\"full model loss\")\n",
    "plt.plot(results_es[\"validation_0\"][\"logloss\"], label=\"early stopping loss\")\n",
    "plt.axvline(7, color=\"gray\", label=\"Optimal tree number\")\n",
    "plt.xlabel(\"Number of trees\")\n",
    "plt.ylabel(\"Loss\")\n",
    "plt.legend();"
   ]
  },
  {
   "cell_type": "markdown",
   "id": "9e15c40f",
   "metadata": {
    "papermill": {
     "duration": 0.049173,
     "end_time": "2024-07-15T01:05:39.000455",
     "exception": false,
     "start_time": "2024-07-15T01:05:38.951282",
     "status": "completed"
    },
    "tags": []
   },
   "source": [
    "The previous plot shows that the loss (RMSE) is only falling for the first 7 iterations. Then the loss starts to increase. Using early stopping reduces the training time, because the model stops if the model does not improve. Additionally the model with the lowest loss is saved and not the latest one. "
   ]
  },
  {
   "cell_type": "markdown",
   "id": "72eedfd8",
   "metadata": {
    "papermill": {
     "duration": 0.049748,
     "end_time": "2024-07-15T01:05:39.100703",
     "exception": false,
     "start_time": "2024-07-15T01:05:39.050955",
     "status": "completed"
    },
    "tags": []
   },
   "source": [
    "**Evaluation**\n",
    "\n",
    "We calculate Accuracy, Recall, and Precision for the three data splits for both models."
   ]
  },
  {
   "cell_type": "markdown",
   "id": "7abe29cf",
   "metadata": {
    "papermill": {
     "duration": 0.049873,
     "end_time": "2024-07-15T01:05:39.201003",
     "exception": false,
     "start_time": "2024-07-15T01:05:39.151130",
     "status": "completed"
    },
    "tags": []
   },
   "source": [
    "Full model"
   ]
  },
  {
   "cell_type": "code",
   "execution_count": 14,
   "id": "0b6927ea",
   "metadata": {
    "execution": {
     "iopub.execute_input": "2024-07-15T01:05:39.304361Z",
     "iopub.status.busy": "2024-07-15T01:05:39.303964Z",
     "iopub.status.idle": "2024-07-15T01:05:39.364373Z",
     "shell.execute_reply": "2024-07-15T01:05:39.363039Z"
    },
    "papermill": {
     "duration": 0.116391,
     "end_time": "2024-07-15T01:05:39.367046",
     "exception": false,
     "start_time": "2024-07-15T01:05:39.250655",
     "status": "completed"
    },
    "tags": []
   },
   "outputs": [
    {
     "name": "stdout",
     "output_type": "stream",
     "text": [
      "training:\n",
      "Accuracy: 1.000, Recall: 1.000, Precision: 1.000\n",
      "\n",
      "validation:\n",
      "Accuracy: 0.624, Recall: 0.529, Precision: 0.430\n",
      "\n",
      "test:\n",
      "Accuracy: 0.639, Recall: 0.518, Precision: 0.414\n"
     ]
    }
   ],
   "source": [
    "print(\"training:\")\n",
    "y_train_pred = model_full.predict(X_train)\n",
    "print(f\"Accuracy: {accuracy_score(y_train_pred, y_train):.3f}, Recall: {recall_score(y_train_pred, y_train):.3f}, Precision: {precision_score(y_train_pred, y_train):.3f}\")\n",
    "print(\"\\nvalidation:\")\n",
    "y_valid_pred = model_full.predict(X_valid)\n",
    "print(f\"Accuracy: {accuracy_score(y_valid_pred, y_valid):.3f}, Recall: {recall_score(y_valid_pred, y_valid):.3f}, Precision: {precision_score(y_valid_pred, y_valid):.3f}\")\n",
    "print(\"\\ntest:\")\n",
    "y_test_pred = model_full.predict(X_test)\n",
    "print(f\"Accuracy: {accuracy_score(y_test_pred, y_test):.3f}, Recall: {recall_score(y_test_pred, y_test):.3f}, Precision: {precision_score(y_test_pred, y_test):.3f}\")"
   ]
  },
  {
   "cell_type": "markdown",
   "id": "b6e4af7f",
   "metadata": {
    "papermill": {
     "duration": 0.050303,
     "end_time": "2024-07-15T01:05:39.467051",
     "exception": false,
     "start_time": "2024-07-15T01:05:39.416748",
     "status": "completed"
    },
    "tags": []
   },
   "source": [
    "Model with early stopping"
   ]
  },
  {
   "cell_type": "code",
   "execution_count": 15,
   "id": "8fde8b9f",
   "metadata": {
    "execution": {
     "iopub.execute_input": "2024-07-15T01:05:39.574443Z",
     "iopub.status.busy": "2024-07-15T01:05:39.573864Z",
     "iopub.status.idle": "2024-07-15T01:05:39.611486Z",
     "shell.execute_reply": "2024-07-15T01:05:39.610086Z"
    },
    "papermill": {
     "duration": 0.092994,
     "end_time": "2024-07-15T01:05:39.614030",
     "exception": false,
     "start_time": "2024-07-15T01:05:39.521036",
     "status": "completed"
    },
    "tags": []
   },
   "outputs": [
    {
     "name": "stdout",
     "output_type": "stream",
     "text": [
      "training:\n",
      "Accuracy: 0.802, Recall: 0.907, Precision: 0.555\n",
      "\n",
      "validation:\n",
      "Accuracy: 0.641, Recall: 0.589, Precision: 0.295\n",
      "\n",
      "test:\n",
      "Accuracy: 0.666, Recall: 0.597, Precision: 0.316\n"
     ]
    }
   ],
   "source": [
    "print(\"training:\")\n",
    "y_train_pred = model_es.predict(X_train)\n",
    "print(f\"Accuracy: {accuracy_score(y_train_pred, y_train):.3f}, Recall: {recall_score(y_train_pred, y_train):.3f}, Precision: {precision_score(y_train_pred, y_train):.3f}\")\n",
    "print(\"\\nvalidation:\")\n",
    "y_valid_pred = model_es.predict(X_valid)\n",
    "print(f\"Accuracy: {accuracy_score(y_valid_pred, y_valid):.3f}, Recall: {recall_score(y_valid_pred, y_valid):.3f}, Precision: {precision_score(y_valid_pred, y_valid):.3f}\")\n",
    "print(\"\\ntest:\")\n",
    "y_test_pred = model_es.predict(X_test)\n",
    "print(f\"Accuracy: {accuracy_score(y_test_pred, y_test):.3f}, Recall: {recall_score(y_test_pred, y_test):.3f}, Precision: {precision_score(y_test_pred, y_test):.3f}\")"
   ]
  },
  {
   "cell_type": "markdown",
   "id": "c93b8c08",
   "metadata": {
    "papermill": {
     "duration": 0.049126,
     "end_time": "2024-07-15T01:05:39.713081",
     "exception": false,
     "start_time": "2024-07-15T01:05:39.663955",
     "status": "completed"
    },
    "tags": []
   },
   "source": [
    "**Observations**\n",
    "\n",
    "The model without early stopping is clearly overfitting. Using early stopping improves this, but also this model is still overfitting. Both models show low precision values."
   ]
  },
  {
   "cell_type": "markdown",
   "id": "1fd16fe4",
   "metadata": {
    "papermill": {
     "duration": 0.050115,
     "end_time": "2024-07-15T01:05:39.812623",
     "exception": false,
     "start_time": "2024-07-15T01:05:39.762508",
     "status": "completed"
    },
    "tags": []
   },
   "source": [
    "### Hyperparameter Tuning\n",
    "\n",
    "We will now use hyperparameter tuning to see if the model can be improved.\n"
   ]
  },
  {
   "cell_type": "code",
   "execution_count": 16,
   "id": "b2f4cdd5",
   "metadata": {
    "execution": {
     "iopub.execute_input": "2024-07-15T01:05:39.914011Z",
     "iopub.status.busy": "2024-07-15T01:05:39.913572Z",
     "iopub.status.idle": "2024-07-15T01:06:57.876917Z",
     "shell.execute_reply": "2024-07-15T01:06:57.875545Z"
    },
    "papermill": {
     "duration": 78.06752,
     "end_time": "2024-07-15T01:06:57.929608",
     "exception": false,
     "start_time": "2024-07-15T01:05:39.862088",
     "status": "completed"
    },
    "tags": []
   },
   "outputs": [
    {
     "data": {
      "text/html": [
       "<style>#sk-container-id-3 {color: black;background-color: white;}#sk-container-id-3 pre{padding: 0;}#sk-container-id-3 div.sk-toggleable {background-color: white;}#sk-container-id-3 label.sk-toggleable__label {cursor: pointer;display: block;width: 100%;margin-bottom: 0;padding: 0.3em;box-sizing: border-box;text-align: center;}#sk-container-id-3 label.sk-toggleable__label-arrow:before {content: \"▸\";float: left;margin-right: 0.25em;color: #696969;}#sk-container-id-3 label.sk-toggleable__label-arrow:hover:before {color: black;}#sk-container-id-3 div.sk-estimator:hover label.sk-toggleable__label-arrow:before {color: black;}#sk-container-id-3 div.sk-toggleable__content {max-height: 0;max-width: 0;overflow: hidden;text-align: left;background-color: #f0f8ff;}#sk-container-id-3 div.sk-toggleable__content pre {margin: 0.2em;color: black;border-radius: 0.25em;background-color: #f0f8ff;}#sk-container-id-3 input.sk-toggleable__control:checked~div.sk-toggleable__content {max-height: 200px;max-width: 100%;overflow: auto;}#sk-container-id-3 input.sk-toggleable__control:checked~label.sk-toggleable__label-arrow:before {content: \"▾\";}#sk-container-id-3 div.sk-estimator input.sk-toggleable__control:checked~label.sk-toggleable__label {background-color: #d4ebff;}#sk-container-id-3 div.sk-label input.sk-toggleable__control:checked~label.sk-toggleable__label {background-color: #d4ebff;}#sk-container-id-3 input.sk-hidden--visually {border: 0;clip: rect(1px 1px 1px 1px);clip: rect(1px, 1px, 1px, 1px);height: 1px;margin: -1px;overflow: hidden;padding: 0;position: absolute;width: 1px;}#sk-container-id-3 div.sk-estimator {font-family: monospace;background-color: #f0f8ff;border: 1px dotted black;border-radius: 0.25em;box-sizing: border-box;margin-bottom: 0.5em;}#sk-container-id-3 div.sk-estimator:hover {background-color: #d4ebff;}#sk-container-id-3 div.sk-parallel-item::after {content: \"\";width: 100%;border-bottom: 1px solid gray;flex-grow: 1;}#sk-container-id-3 div.sk-label:hover label.sk-toggleable__label {background-color: #d4ebff;}#sk-container-id-3 div.sk-serial::before {content: \"\";position: absolute;border-left: 1px solid gray;box-sizing: border-box;top: 0;bottom: 0;left: 50%;z-index: 0;}#sk-container-id-3 div.sk-serial {display: flex;flex-direction: column;align-items: center;background-color: white;padding-right: 0.2em;padding-left: 0.2em;position: relative;}#sk-container-id-3 div.sk-item {position: relative;z-index: 1;}#sk-container-id-3 div.sk-parallel {display: flex;align-items: stretch;justify-content: center;background-color: white;position: relative;}#sk-container-id-3 div.sk-item::before, #sk-container-id-3 div.sk-parallel-item::before {content: \"\";position: absolute;border-left: 1px solid gray;box-sizing: border-box;top: 0;bottom: 0;left: 50%;z-index: -1;}#sk-container-id-3 div.sk-parallel-item {display: flex;flex-direction: column;z-index: 1;position: relative;background-color: white;}#sk-container-id-3 div.sk-parallel-item:first-child::after {align-self: flex-end;width: 50%;}#sk-container-id-3 div.sk-parallel-item:last-child::after {align-self: flex-start;width: 50%;}#sk-container-id-3 div.sk-parallel-item:only-child::after {width: 0;}#sk-container-id-3 div.sk-dashed-wrapped {border: 1px dashed gray;margin: 0 0.4em 0.5em 0.4em;box-sizing: border-box;padding-bottom: 0.4em;background-color: white;}#sk-container-id-3 div.sk-label label {font-family: monospace;font-weight: bold;display: inline-block;line-height: 1.2em;}#sk-container-id-3 div.sk-label-container {text-align: center;}#sk-container-id-3 div.sk-container {/* jupyter's `normalize.less` sets `[hidden] { display: none; }` but bootstrap.min.css set `[hidden] { display: none !important; }` so we also need the `!important` here to be able to override the default hidden behavior on the sphinx rendered scikit-learn.org. See: https://github.com/scikit-learn/scikit-learn/issues/21755 */display: inline-block !important;position: relative;}#sk-container-id-3 div.sk-text-repr-fallback {display: none;}</style><div id=\"sk-container-id-3\" class=\"sk-top-container\"><div class=\"sk-text-repr-fallback\"><pre>GridSearchCV(cv=5,\n",
       "             estimator=XGBClassifier(base_score=None, booster=None,\n",
       "                                     callbacks=None, colsample_bylevel=None,\n",
       "                                     colsample_bynode=None,\n",
       "                                     colsample_bytree=None, device=None,\n",
       "                                     early_stopping_rounds=None,\n",
       "                                     enable_categorical=False, eval_metric=None,\n",
       "                                     feature_types=None, gamma=None,\n",
       "                                     grow_policy=None, importance_type=None,\n",
       "                                     interaction_constraints=None,\n",
       "                                     learning_rate=None,...\n",
       "                                     max_delta_step=None, max_depth=None,\n",
       "                                     max_leaves=None, min_child_weight=None,\n",
       "                                     missing=nan, monotone_constraints=None,\n",
       "                                     multi_strategy=None, n_estimators=None,\n",
       "                                     n_jobs=None, num_parallel_tree=None,\n",
       "                                     random_state=None, ...),\n",
       "             n_jobs=-1,\n",
       "             param_grid={&#x27;alpha&#x27;: [0, 0.1, 1], &#x27;eta&#x27;: [0.1, 0.01, 0.3],\n",
       "                         &#x27;gamma&#x27;: [0.1, 1], &#x27;lambda&#x27;: [0.1, 1],\n",
       "                         &#x27;max_depth&#x27;: [4, 6, 8],\n",
       "                         &#x27;n_estimators&#x27;: [5, 10, 15, 20, 50],\n",
       "                         &#x27;verbosity&#x27;: [0]})</pre><b>In a Jupyter environment, please rerun this cell to show the HTML representation or trust the notebook. <br />On GitHub, the HTML representation is unable to render, please try loading this page with nbviewer.org.</b></div><div class=\"sk-container\" hidden><div class=\"sk-item sk-dashed-wrapped\"><div class=\"sk-label-container\"><div class=\"sk-label sk-toggleable\"><input class=\"sk-toggleable__control sk-hidden--visually\" id=\"sk-estimator-id-3\" type=\"checkbox\" ><label for=\"sk-estimator-id-3\" class=\"sk-toggleable__label sk-toggleable__label-arrow\">GridSearchCV</label><div class=\"sk-toggleable__content\"><pre>GridSearchCV(cv=5,\n",
       "             estimator=XGBClassifier(base_score=None, booster=None,\n",
       "                                     callbacks=None, colsample_bylevel=None,\n",
       "                                     colsample_bynode=None,\n",
       "                                     colsample_bytree=None, device=None,\n",
       "                                     early_stopping_rounds=None,\n",
       "                                     enable_categorical=False, eval_metric=None,\n",
       "                                     feature_types=None, gamma=None,\n",
       "                                     grow_policy=None, importance_type=None,\n",
       "                                     interaction_constraints=None,\n",
       "                                     learning_rate=None,...\n",
       "                                     max_delta_step=None, max_depth=None,\n",
       "                                     max_leaves=None, min_child_weight=None,\n",
       "                                     missing=nan, monotone_constraints=None,\n",
       "                                     multi_strategy=None, n_estimators=None,\n",
       "                                     n_jobs=None, num_parallel_tree=None,\n",
       "                                     random_state=None, ...),\n",
       "             n_jobs=-1,\n",
       "             param_grid={&#x27;alpha&#x27;: [0, 0.1, 1], &#x27;eta&#x27;: [0.1, 0.01, 0.3],\n",
       "                         &#x27;gamma&#x27;: [0.1, 1], &#x27;lambda&#x27;: [0.1, 1],\n",
       "                         &#x27;max_depth&#x27;: [4, 6, 8],\n",
       "                         &#x27;n_estimators&#x27;: [5, 10, 15, 20, 50],\n",
       "                         &#x27;verbosity&#x27;: [0]})</pre></div></div></div><div class=\"sk-parallel\"><div class=\"sk-parallel-item\"><div class=\"sk-item\"><div class=\"sk-label-container\"><div class=\"sk-label sk-toggleable\"><input class=\"sk-toggleable__control sk-hidden--visually\" id=\"sk-estimator-id-4\" type=\"checkbox\" ><label for=\"sk-estimator-id-4\" class=\"sk-toggleable__label sk-toggleable__label-arrow\">estimator: XGBClassifier</label><div class=\"sk-toggleable__content\"><pre>XGBClassifier(base_score=None, booster=None, callbacks=None,\n",
       "              colsample_bylevel=None, colsample_bynode=None,\n",
       "              colsample_bytree=None, device=None, early_stopping_rounds=None,\n",
       "              enable_categorical=False, eval_metric=None, feature_types=None,\n",
       "              gamma=None, grow_policy=None, importance_type=None,\n",
       "              interaction_constraints=None, learning_rate=None, max_bin=None,\n",
       "              max_cat_threshold=None, max_cat_to_onehot=None,\n",
       "              max_delta_step=None, max_depth=None, max_leaves=None,\n",
       "              min_child_weight=None, missing=nan, monotone_constraints=None,\n",
       "              multi_strategy=None, n_estimators=None, n_jobs=None,\n",
       "              num_parallel_tree=None, random_state=None, ...)</pre></div></div></div><div class=\"sk-serial\"><div class=\"sk-item\"><div class=\"sk-estimator sk-toggleable\"><input class=\"sk-toggleable__control sk-hidden--visually\" id=\"sk-estimator-id-5\" type=\"checkbox\" ><label for=\"sk-estimator-id-5\" class=\"sk-toggleable__label sk-toggleable__label-arrow\">XGBClassifier</label><div class=\"sk-toggleable__content\"><pre>XGBClassifier(base_score=None, booster=None, callbacks=None,\n",
       "              colsample_bylevel=None, colsample_bynode=None,\n",
       "              colsample_bytree=None, device=None, early_stopping_rounds=None,\n",
       "              enable_categorical=False, eval_metric=None, feature_types=None,\n",
       "              gamma=None, grow_policy=None, importance_type=None,\n",
       "              interaction_constraints=None, learning_rate=None, max_bin=None,\n",
       "              max_cat_threshold=None, max_cat_to_onehot=None,\n",
       "              max_delta_step=None, max_depth=None, max_leaves=None,\n",
       "              min_child_weight=None, missing=nan, monotone_constraints=None,\n",
       "              multi_strategy=None, n_estimators=None, n_jobs=None,\n",
       "              num_parallel_tree=None, random_state=None, ...)</pre></div></div></div></div></div></div></div></div></div></div>"
      ],
      "text/plain": [
       "GridSearchCV(cv=5,\n",
       "             estimator=XGBClassifier(base_score=None, booster=None,\n",
       "                                     callbacks=None, colsample_bylevel=None,\n",
       "                                     colsample_bynode=None,\n",
       "                                     colsample_bytree=None, device=None,\n",
       "                                     early_stopping_rounds=None,\n",
       "                                     enable_categorical=False, eval_metric=None,\n",
       "                                     feature_types=None, gamma=None,\n",
       "                                     grow_policy=None, importance_type=None,\n",
       "                                     interaction_constraints=None,\n",
       "                                     learning_rate=None,...\n",
       "                                     max_delta_step=None, max_depth=None,\n",
       "                                     max_leaves=None, min_child_weight=None,\n",
       "                                     missing=nan, monotone_constraints=None,\n",
       "                                     multi_strategy=None, n_estimators=None,\n",
       "                                     n_jobs=None, num_parallel_tree=None,\n",
       "                                     random_state=None, ...),\n",
       "             n_jobs=-1,\n",
       "             param_grid={'alpha': [0, 0.1, 1], 'eta': [0.1, 0.01, 0.3],\n",
       "                         'gamma': [0.1, 1], 'lambda': [0.1, 1],\n",
       "                         'max_depth': [4, 6, 8],\n",
       "                         'n_estimators': [5, 10, 15, 20, 50],\n",
       "                         'verbosity': [0]})"
      ]
     },
     "execution_count": 16,
     "metadata": {},
     "output_type": "execute_result"
    }
   ],
   "source": [
    "param_grid = {\n",
    "    \"n_estimators\": [5, 10, 15, 20, 50],\n",
    "    \"eta\": [1e-1, 1e-2, 3e-1], \n",
    "    \"gamma\": [0.1, 1],\n",
    "    \"max_depth\": [4, 6, 8],\n",
    "    \"lambda\": [0.1, 1],\n",
    "    \"alpha\": [0,0.1,1],\n",
    "    \"verbosity\": [0]\n",
    "}\n",
    "\n",
    "xgb_model = xgb.XGBClassifier()\n",
    "\n",
    "grid_search = GridSearchCV(\n",
    "    estimator=xgb_model, param_grid=param_grid, cv=5, n_jobs=-1)\n",
    " \n",
    "\n",
    "grid_search.fit(X_train, y_train)"
   ]
  },
  {
   "cell_type": "markdown",
   "id": "8b2acad4",
   "metadata": {
    "papermill": {
     "duration": 0.051042,
     "end_time": "2024-07-15T01:06:58.031135",
     "exception": false,
     "start_time": "2024-07-15T01:06:57.980093",
     "status": "completed"
    },
    "tags": []
   },
   "source": [
    "We will use these best model parameters and additionally early stopping and fit a model to these parameters."
   ]
  },
  {
   "cell_type": "code",
   "execution_count": 17,
   "id": "1eb3b180",
   "metadata": {
    "execution": {
     "iopub.execute_input": "2024-07-15T01:06:58.132505Z",
     "iopub.status.busy": "2024-07-15T01:06:58.132127Z",
     "iopub.status.idle": "2024-07-15T01:06:58.139914Z",
     "shell.execute_reply": "2024-07-15T01:06:58.138824Z"
    },
    "papermill": {
     "duration": 0.061039,
     "end_time": "2024-07-15T01:06:58.141961",
     "exception": false,
     "start_time": "2024-07-15T01:06:58.080922",
     "status": "completed"
    },
    "tags": []
   },
   "outputs": [
    {
     "data": {
      "text/plain": [
       "{'alpha': 1,\n",
       " 'eta': 0.1,\n",
       " 'gamma': 1,\n",
       " 'lambda': 1,\n",
       " 'max_depth': 4,\n",
       " 'n_estimators': 50,\n",
       " 'verbosity': 0,\n",
       " 'early_stopping_rounds': 10}"
      ]
     },
     "execution_count": 17,
     "metadata": {},
     "output_type": "execute_result"
    }
   ],
   "source": [
    "parameters = grid_search.best_params_\n",
    "parameters[\"early_stopping_rounds\"] = 10\n",
    "parameters"
   ]
  },
  {
   "cell_type": "code",
   "execution_count": 18,
   "id": "44f8167a",
   "metadata": {
    "execution": {
     "iopub.execute_input": "2024-07-15T01:06:58.242697Z",
     "iopub.status.busy": "2024-07-15T01:06:58.241796Z",
     "iopub.status.idle": "2024-07-15T01:06:58.384740Z",
     "shell.execute_reply": "2024-07-15T01:06:58.383914Z"
    },
    "papermill": {
     "duration": 0.195738,
     "end_time": "2024-07-15T01:06:58.386954",
     "exception": false,
     "start_time": "2024-07-15T01:06:58.191216",
     "status": "completed"
    },
    "tags": []
   },
   "outputs": [
    {
     "name": "stdout",
     "output_type": "stream",
     "text": [
      "[0]\tvalidation_0-logloss:0.66821\n",
      "[1]\tvalidation_0-logloss:0.66616\n",
      "[2]\tvalidation_0-logloss:0.66466\n",
      "[3]\tvalidation_0-logloss:0.66209\n",
      "[4]\tvalidation_0-logloss:0.65956\n",
      "[5]\tvalidation_0-logloss:0.65759\n",
      "[6]\tvalidation_0-logloss:0.65666\n",
      "[7]\tvalidation_0-logloss:0.65434\n",
      "[8]\tvalidation_0-logloss:0.65276\n",
      "[9]\tvalidation_0-logloss:0.65132\n",
      "[10]\tvalidation_0-logloss:0.64961\n",
      "[11]\tvalidation_0-logloss:0.64940\n",
      "[12]\tvalidation_0-logloss:0.64888\n",
      "[13]\tvalidation_0-logloss:0.64596\n",
      "[14]\tvalidation_0-logloss:0.64649\n",
      "[15]\tvalidation_0-logloss:0.64469\n",
      "[16]\tvalidation_0-logloss:0.64357\n",
      "[17]\tvalidation_0-logloss:0.64296\n",
      "[18]\tvalidation_0-logloss:0.64340\n",
      "[19]\tvalidation_0-logloss:0.64289\n",
      "[20]\tvalidation_0-logloss:0.64259\n",
      "[21]\tvalidation_0-logloss:0.64174\n",
      "[22]\tvalidation_0-logloss:0.64217\n",
      "[23]\tvalidation_0-logloss:0.64259\n",
      "[24]\tvalidation_0-logloss:0.64300\n",
      "[25]\tvalidation_0-logloss:0.64366\n",
      "[26]\tvalidation_0-logloss:0.64332\n",
      "[27]\tvalidation_0-logloss:0.64334\n",
      "[28]\tvalidation_0-logloss:0.64302\n",
      "[29]\tvalidation_0-logloss:0.64363\n",
      "[30]\tvalidation_0-logloss:0.64305\n"
     ]
    }
   ],
   "source": [
    "model_hp = xgb.XGBClassifier(**parameters)\n",
    "model_hp.fit(X_train, y_train, eval_set=[(X_valid, y_valid)])\n",
    "results = model_hp.evals_result()\n",
    "\n"
   ]
  },
  {
   "cell_type": "code",
   "execution_count": 19,
   "id": "5b93cf4b",
   "metadata": {
    "execution": {
     "iopub.execute_input": "2024-07-15T01:06:58.493064Z",
     "iopub.status.busy": "2024-07-15T01:06:58.492640Z",
     "iopub.status.idle": "2024-07-15T01:06:58.786582Z",
     "shell.execute_reply": "2024-07-15T01:06:58.785338Z"
    },
    "papermill": {
     "duration": 0.350373,
     "end_time": "2024-07-15T01:06:58.789266",
     "exception": false,
     "start_time": "2024-07-15T01:06:58.438893",
     "status": "completed"
    },
    "tags": []
   },
   "outputs": [
    {
     "data": {
      "image/png": "[encoded data removed]",
      "text/plain": [
       "<Figure size 1000x500 with 1 Axes>"
      ]
     },
     "metadata": {},
     "output_type": "display_data"
    }
   ],
   "source": [
    "plt.figure(figsize=(10,5))\n",
    "plt.plot(results[\"validation_0\"][\"logloss\"], label=\"full model loss\")\n",
    "plt.axvline(21, color=\"gray\", label=\"Optimal tree number\")\n",
    "plt.xlabel(\"Number of trees\")\n",
    "plt.ylabel(\"Loss\")\n",
    "plt.legend();"
   ]
  },
  {
   "cell_type": "markdown",
   "id": "11e1ec53",
   "metadata": {
    "papermill": {
     "duration": 0.051921,
     "end_time": "2024-07-15T01:06:58.893944",
     "exception": false,
     "start_time": "2024-07-15T01:06:58.842023",
     "status": "completed"
    },
    "tags": []
   },
   "source": [
    "**Evaluation**\n",
    "\n",
    "We calculate Accuracy, Recall, and Precision for the three data splits using the tuned model."
   ]
  },
  {
   "cell_type": "code",
   "execution_count": 20,
   "id": "cb23a56d",
   "metadata": {
    "execution": {
     "iopub.execute_input": "2024-07-15T01:06:59.000552Z",
     "iopub.status.busy": "2024-07-15T01:06:59.000150Z",
     "iopub.status.idle": "2024-07-15T01:06:59.038332Z",
     "shell.execute_reply": "2024-07-15T01:06:59.037271Z"
    },
    "papermill": {
     "duration": 0.094382,
     "end_time": "2024-07-15T01:06:59.040663",
     "exception": false,
     "start_time": "2024-07-15T01:06:58.946281",
     "status": "completed"
    },
    "tags": []
   },
   "outputs": [
    {
     "name": "stdout",
     "output_type": "stream",
     "text": [
      "training:\n",
      "Accuracy: 0.715, Recall: 0.853, Precision: 0.336\n",
      "\n",
      "validation:\n",
      "Accuracy: 0.650, Recall: 0.679, Precision: 0.213\n",
      "\n",
      "test:\n",
      "Accuracy: 0.669, Recall: 0.667, Precision: 0.221\n"
     ]
    }
   ],
   "source": [
    "print(\"training:\")\n",
    "y_train_pred = model_hp.predict(X_train)\n",
    "print(f\"Accuracy: {accuracy_score(y_train_pred, y_train):.3f}, Recall: {recall_score(y_train_pred, y_train):.3f}, Precision: {precision_score(y_train_pred, y_train):.3f}\")\n",
    "print(\"\\nvalidation:\")\n",
    "y_valid_pred = model_hp.predict(X_valid)\n",
    "print(f\"Accuracy: {accuracy_score(y_valid_pred, y_valid):.3f}, Recall: {recall_score(y_valid_pred, y_valid):.3f}, Precision: {precision_score(y_valid_pred, y_valid):.3f}\")\n",
    "print(\"\\ntest:\")\n",
    "y_test_pred = model_hp.predict(X_test)\n",
    "print(f\"Accuracy: {accuracy_score(y_test_pred, y_test):.3f}, Recall: {recall_score(y_test_pred, y_test):.3f}, Precision: {precision_score(y_test_pred, y_test):.3f}\")"
   ]
  },
  {
   "cell_type": "markdown",
   "id": "993e346b",
   "metadata": {
    "papermill": {
     "duration": 0.052691,
     "end_time": "2024-07-15T01:06:59.145263",
     "exception": false,
     "start_time": "2024-07-15T01:06:59.092572",
     "status": "completed"
    },
    "tags": []
   },
   "source": [
    "**Observations**\n",
    "\n",
    "We see that only a little bit of tuning improved the results. The validation metrics are a bit improved and the overfitting is reduced. We didn´t spend many time on the hyperparameter tuning, further fine tuning may improve the model further."
   ]
  },
  {
   "cell_type": "markdown",
   "id": "4bd825f6",
   "metadata": {
    "papermill": {
     "duration": 0.052094,
     "end_time": "2024-07-15T01:06:59.249596",
     "exception": false,
     "start_time": "2024-07-15T01:06:59.197502",
     "status": "completed"
    },
    "tags": []
   },
   "source": [
    "**Footnote**\n",
    "\n",
    "Find more about Data Science and Machine Learning [here](https://datamapu.com/)"
   ]
  },
  {
   "cell_type": "code",
   "execution_count": null,
   "id": "38f18c34",
   "metadata": {
    "papermill": {
     "duration": 0.052125,
     "end_time": "2024-07-15T01:06:59.354206",
     "exception": false,
     "start_time": "2024-07-15T01:06:59.302081",
     "status": "completed"
    },
    "tags": []
   },
   "outputs": [],
   "source": []
  }
 ],
 "metadata": {
  "kaggle": {
   "accelerator": "none",
   "dataSources": [
    {
     "datasetId": 1292407,
     "sourceId": 2157486,
     "sourceType": "datasetVersion"
    }
   ],
   "dockerImageVersionId": 30715,
   "isGpuEnabled": false,
   "isInternetEnabled": true,
   "language": "python",
   "sourceType": "notebook"
  },
  "kernelspec": {
   "display_name": "Python 3",
   "language": "python",
   "name": "python3"
  },
  "language_info": {
   "codemirror_mode": {
    "name": "ipython",
    "version": 3
   },
   "file_extension": ".py",
   "mimetype": "text/x-python",
   "name": "python",
   "nbconvert_exporter": "python",
   "pygments_lexer": "ipython3",
   "version": "3.10.13"
  },
  "papermill": {
   "default_parameters": {},
   "duration": 96.601536,
   "end_time": "2024-07-15T01:07:02.028451",
   "environment_variables": {},
   "exception": null,
   "input_path": "__notebook__.ipynb",
   "output_path": "__notebook__.ipynb",
   "parameters": {},
   "start_time": "2024-07-15T01:05:25.426915",
   "version": "2.5.0"
  }
 },
 "nbformat": 4,
 "nbformat_minor": 5
}

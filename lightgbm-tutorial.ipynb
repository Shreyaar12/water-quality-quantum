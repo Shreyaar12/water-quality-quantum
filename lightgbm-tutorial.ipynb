{
 "cells": [
  {
   "cell_type": "markdown",
   "id": "820a415d",
   "metadata": {
    "_cell_guid": "b1076dfc-b9ad-4769-8c92-a6c4dae69d19",
    "_uuid": "8f2839f25d086af736a60e9eeb907d3b93b6e0e5",
    "papermill": {
     "duration": 0.008958,
     "end_time": "2024-07-15T01:14:58.480043",
     "exception": false,
     "start_time": "2024-07-15T01:14:58.471085",
     "status": "completed"
    },
    "tags": []
   },
   "source": [
    "# Problem Understanding\n",
    "\n",
    "The objective of this notebook is to predict whether water is potabe or not depending on specific water characteristics. It is part of a series of notebooks, where different Machine Learning models are explained and applied.\n",
    "\n",
    "Other topics are \n",
    "\n",
    "* [Linear Regression](https://www.kaggle.com/code/pumalin/linear-regression-tutorial)\n",
    "* [Logistic Regression](https://www.kaggle.com/code/pumalin/logistic-regression-tutorial)\n",
    "* [Decision Trees](https://www.kaggle.com/code/pumalin/decision-trees-tutorial)\n",
    "* [Random Forests](https://www.kaggle.com/code/pumalin/random-forest-tutorial)\n",
    "* [AdaBoost](https://www.kaggle.com/code/pumalin/adaboost-tutorial)\n",
    "* [GradientBoosting](https://www.kaggle.com/code/pumalin/gradient-boosting-tutorial)\n",
    "* [XGBoost](https://www.kaggle.com/code/pumalin/xgboost-tutorial)\n",
    "* [CatBoost](https://www.kaggle.com/code/pumalin/catboost-tutorial)\n",
    "* [Kmenas](https://www.kaggle.com/code/pumalin/kmeans-tutorial)\n",
    "\n",
    "\n",
    "**This notebook does not focus on finding the best model, but on an example how to train a [LightGBM](https://lightgbm.readthedocs.io/en/latest/Python-Intro.html).**"
   ]
  },
  {
   "cell_type": "markdown",
   "id": "81b1ffc1",
   "metadata": {
    "papermill": {
     "duration": 0.008435,
     "end_time": "2024-07-15T01:14:58.497609",
     "exception": false,
     "start_time": "2024-07-15T01:14:58.489174",
     "status": "completed"
    },
    "tags": []
   },
   "source": [
    "## Introduction\n",
    "\n",
    "[LightGBM](https://lightgbm.readthedocs.io/en/stable/Quick-Start.html) is short for Light Gradient-Boosting Machine. It has similar advantages as XGBoost and also able to handle large and complex datasets. The main difference between LightGBM and XGBoost is the way the trees are built. In LightGBM the trees are not grown level-wise, but leave-wise.\n",
    "\n",
    "\n",
    "**Find more about LightGBM and other Machine Learning and Data Science articles on [datamapu](https://datamapu.com/posts/classical_ml/gradient_boosting_variants/)**"
   ]
  },
  {
   "cell_type": "markdown",
   "id": "7138a265",
   "metadata": {
    "papermill": {
     "duration": 0.008486,
     "end_time": "2024-07-15T01:14:58.514695",
     "exception": false,
     "start_time": "2024-07-15T01:14:58.506209",
     "status": "completed"
    },
    "tags": []
   },
   "source": [
    "# Setup\n",
    "\n",
    "In this section all libraries needed to run this notebook are imported."
   ]
  },
  {
   "cell_type": "code",
   "execution_count": 1,
   "id": "a4d732ad",
   "metadata": {
    "execution": {
     "iopub.execute_input": "2024-07-15T01:14:58.535729Z",
     "iopub.status.busy": "2024-07-15T01:14:58.535241Z",
     "iopub.status.idle": "2024-07-15T01:15:02.089004Z",
     "shell.execute_reply": "2024-07-15T01:15:02.087756Z"
    },
    "papermill": {
     "duration": 3.567899,
     "end_time": "2024-07-15T01:15:02.091876",
     "exception": false,
     "start_time": "2024-07-15T01:14:58.523977",
     "status": "completed"
    },
    "tags": []
   },
   "outputs": [],
   "source": [
    "# packages for data processing\n",
    "import pandas as pd\n",
    "import numpy as np\n",
    "\n",
    "# packages for modelling\n",
    "from sklearn.utils import resample\n",
    "from sklearn.model_selection import train_test_split, GridSearchCV\n",
    "from sklearn.metrics import accuracy_score, recall_score, precision_score\n",
    "from sklearn.utils.fixes import loguniform\n",
    "import lightgbm as lgb\n",
    "\n",
    "# packages for plotting\n",
    "import matplotlib.pyplot as plt\n",
    "import seaborn as sns\n",
    "\n",
    "# set random seed\n",
    "SEED = 42"
   ]
  },
  {
   "cell_type": "markdown",
   "id": "1a69bcfd",
   "metadata": {
    "papermill": {
     "duration": 0.009274,
     "end_time": "2024-07-15T01:15:02.109868",
     "exception": false,
     "start_time": "2024-07-15T01:15:02.100594",
     "status": "completed"
    },
    "tags": []
   },
   "source": [
    "# Read Data\n",
    "\n",
    "Read the data into a pandas dataframe and plot the first rows."
   ]
  },
  {
   "cell_type": "code",
   "execution_count": 2,
   "id": "9d8feaa0",
   "metadata": {
    "execution": {
     "iopub.execute_input": "2024-07-15T01:15:02.129089Z",
     "iopub.status.busy": "2024-07-15T01:15:02.128558Z",
     "iopub.status.idle": "2024-07-15T01:15:02.190344Z",
     "shell.execute_reply": "2024-07-15T01:15:02.189236Z"
    },
    "papermill": {
     "duration": 0.074224,
     "end_time": "2024-07-15T01:15:02.192866",
     "exception": false,
     "start_time": "2024-07-15T01:15:02.118642",
     "status": "completed"
    },
    "tags": []
   },
   "outputs": [
    {
     "data": {
      "text/html": [
       "<div>\n",
       "<style scoped>\n",
       "    .dataframe tbody tr th:only-of-type {\n",
       "        vertical-align: middle;\n",
       "    }\n",
       "\n",
       "    .dataframe tbody tr th {\n",
       "        vertical-align: top;\n",
       "    }\n",
       "\n",
       "    .dataframe thead th {\n",
       "        text-align: right;\n",
       "    }\n",
       "</style>\n",
       "<table border=\"1\" class=\"dataframe\">\n",
       "  <thead>\n",
       "    <tr style=\"text-align: right;\">\n",
       "      <th></th>\n",
       "      <th>ph</th>\n",
       "      <th>Hardness</th>\n",
       "      <th>Solids</th>\n",
       "      <th>Chloramines</th>\n",
       "      <th>Sulfate</th>\n",
       "      <th>Conductivity</th>\n",
       "      <th>Organic_carbon</th>\n",
       "      <th>Trihalomethanes</th>\n",
       "      <th>Turbidity</th>\n",
       "      <th>Potability</th>\n",
       "    </tr>\n",
       "  </thead>\n",
       "  <tbody>\n",
       "    <tr>\n",
       "      <th>0</th>\n",
       "      <td>NaN</td>\n",
       "      <td>204.890455</td>\n",
       "      <td>20791.318981</td>\n",
       "      <td>7.300212</td>\n",
       "      <td>368.516441</td>\n",
       "      <td>564.308654</td>\n",
       "      <td>10.379783</td>\n",
       "      <td>86.990970</td>\n",
       "      <td>2.963135</td>\n",
       "      <td>0</td>\n",
       "    </tr>\n",
       "    <tr>\n",
       "      <th>1</th>\n",
       "      <td>3.716080</td>\n",
       "      <td>129.422921</td>\n",
       "      <td>18630.057858</td>\n",
       "      <td>6.635246</td>\n",
       "      <td>NaN</td>\n",
       "      <td>592.885359</td>\n",
       "      <td>15.180013</td>\n",
       "      <td>56.329076</td>\n",
       "      <td>4.500656</td>\n",
       "      <td>0</td>\n",
       "    </tr>\n",
       "    <tr>\n",
       "      <th>2</th>\n",
       "      <td>8.099124</td>\n",
       "      <td>224.236259</td>\n",
       "      <td>19909.541732</td>\n",
       "      <td>9.275884</td>\n",
       "      <td>NaN</td>\n",
       "      <td>418.606213</td>\n",
       "      <td>16.868637</td>\n",
       "      <td>66.420093</td>\n",
       "      <td>3.055934</td>\n",
       "      <td>0</td>\n",
       "    </tr>\n",
       "    <tr>\n",
       "      <th>3</th>\n",
       "      <td>8.316766</td>\n",
       "      <td>214.373394</td>\n",
       "      <td>22018.417441</td>\n",
       "      <td>8.059332</td>\n",
       "      <td>356.886136</td>\n",
       "      <td>363.266516</td>\n",
       "      <td>18.436524</td>\n",
       "      <td>100.341674</td>\n",
       "      <td>4.628771</td>\n",
       "      <td>0</td>\n",
       "    </tr>\n",
       "    <tr>\n",
       "      <th>4</th>\n",
       "      <td>9.092223</td>\n",
       "      <td>181.101509</td>\n",
       "      <td>17978.986339</td>\n",
       "      <td>6.546600</td>\n",
       "      <td>310.135738</td>\n",
       "      <td>398.410813</td>\n",
       "      <td>11.558279</td>\n",
       "      <td>31.997993</td>\n",
       "      <td>4.075075</td>\n",
       "      <td>0</td>\n",
       "    </tr>\n",
       "  </tbody>\n",
       "</table>\n",
       "</div>"
      ],
      "text/plain": [
       "         ph    Hardness        Solids  Chloramines     Sulfate  Conductivity  \\\n",
       "0       NaN  204.890455  20791.318981     7.300212  368.516441    564.308654   \n",
       "1  3.716080  129.422921  18630.057858     6.635246         NaN    592.885359   \n",
       "2  8.099124  224.236259  19909.541732     9.275884         NaN    418.606213   \n",
       "3  8.316766  214.373394  22018.417441     8.059332  356.886136    363.266516   \n",
       "4  9.092223  181.101509  17978.986339     6.546600  310.135738    398.410813   \n",
       "\n",
       "   Organic_carbon  Trihalomethanes  Turbidity  Potability  \n",
       "0       10.379783        86.990970   2.963135           0  \n",
       "1       15.180013        56.329076   4.500656           0  \n",
       "2       16.868637        66.420093   3.055934           0  \n",
       "3       18.436524       100.341674   4.628771           0  \n",
       "4       11.558279        31.997993   4.075075           0  "
      ]
     },
     "execution_count": 2,
     "metadata": {},
     "output_type": "execute_result"
    }
   ],
   "source": [
    "df_water = pd.read_csv(\"/kaggle/input/water-potability/water_potability.csv\")\n",
    "df_water.head()"
   ]
  },
  {
   "cell_type": "markdown",
   "id": "ec740021",
   "metadata": {
    "papermill": {
     "duration": 0.008708,
     "end_time": "2024-07-15T01:15:02.210717",
     "exception": false,
     "start_time": "2024-07-15T01:15:02.202009",
     "status": "completed"
    },
    "tags": []
   },
   "source": [
    "The dataset is described as follows:\n",
    "\n",
    "|variable| information|\n",
    "|--------|------------|\n",
    "| pH value | PH is an important parameter in evaluating the acid–base balance of water. It is also the indicator of acidic or alkaline condition of water status. WHO has recommended maximum permissible limit of pH from 6.5 to 8.5. The current investigation ranges were 6.52–6.83 which are in the range of WHO standards.|\n",
    "| Hardness | Hardness is mainly caused by calcium and magnesium salts. These salts are dissolved from geologic deposits through which water travels. The length of time water is in contact with hardness producing material helps determine how much hardness there is in raw water. Hardness was originally defined as the capacity of water to precipitate soap caused by Calcium and Magnesium. |\n",
    "| Solids (Total dissolved solids - TDS)|  Water has the ability to dissolve a wide range of inorganic and some organic minerals or salts such as potassium, calcium, sodium, bicarbonates, chlorides, magnesium, sulfates etc. These minerals produced un-wanted taste and diluted color in appearance of water. This is the important parameter for the use of water. The water with high TDS value indicates that water is highly mineralized. Desirable limit for TDS is 500 mg/l and maximum limit is 1000 mg/l which prescribed for drinking purpose.|\n",
    "| Chloramines | Chlorine and chloramine are the major disinfectants used in public water systems. Chloramines are most commonly formed when ammonia is added to chlorine to treat drinking water. Chlorine levels up to 4 milligrams per liter (mg/L or 4 parts per million (ppm)) are considered safe in drinking water.|\n",
    "| Sulfate| Sulfates are naturally occurring substances that are found in minerals, soil, and rocks. They are present in ambient air, groundwater, plants, and food. The principal commercial use of sulfate is in the chemical industry. Sulfate concentration in seawater is about 2,700 milligrams per liter (mg/L). It ranges from 3 to 30 mg/L in most freshwater supplies, although much higher concentrations (1000 mg/L) are found in some geographic locations.|\n",
    "| Conductivity| Pure water is not a good conductor of electric current rather’s a good insulator. Increase in ions concentration enhances the electrical conductivity of water. Generally, the amount of dissolved solids in water determines the electrical conductivity. Electrical conductivity (EC) actually measures the ionic process of a solution that enables it to transmit current. According to WHO standards, EC value should not exceeded 400 μS/cm.|\n",
    "| Organic_carbon | Total Organic Carbon (TOC) in source waters comes from decaying natural organic matter (NOM) as well as synthetic sources. TOC is a measure of the total amount of carbon in organic compounds in pure water. According to US EPA < 2 mg/L as TOC in treated / drinking water, and < 4 mg/Lit in source water which is use for treatment.|\n",
    "| Trihalomethanes | THMs are chemicals which may be found in water treated with chlorine. The concentration of THMs in drinking water varies according to the level of organic material in the water, the amount of chlorine required to treat the water, and the temperature of the water that is being treated. THM levels up to 80 ppm is considered safe in drinking water.|\n",
    "| Turbidity | The turbidity of water depends on the quantity of solid matter present in the suspended state. It is a measure of light emitting properties of water and the test is used to indicate the quality of waste discharge with respect to colloidal matter. The mean turbidity value obtained for Wondo Genet Campus (0.98 NTU) is lower than the WHO recommended value of 5.00 NTU.|\n",
    "| Potability | Indicates if water is safe for human consumption where 1 means Potable and 0 means Not potable. (TARGET)|"
   ]
  },
  {
   "cell_type": "markdown",
   "id": "b5346a80",
   "metadata": {
    "papermill": {
     "duration": 0.009468,
     "end_time": "2024-07-15T01:15:02.229323",
     "exception": false,
     "start_time": "2024-07-15T01:15:02.219855",
     "status": "completed"
    },
    "tags": []
   },
   "source": [
    "# Data Exploration\n",
    "\n",
    "Explore the dataframe, the possible features and the target variable."
   ]
  },
  {
   "cell_type": "markdown",
   "id": "a0559636",
   "metadata": {
    "papermill": {
     "duration": 0.008566,
     "end_time": "2024-07-15T01:15:02.247330",
     "exception": false,
     "start_time": "2024-07-15T01:15:02.238764",
     "status": "completed"
    },
    "tags": []
   },
   "source": [
    "Check all columns and their types."
   ]
  },
  {
   "cell_type": "code",
   "execution_count": 3,
   "id": "473aa6d7",
   "metadata": {
    "execution": {
     "iopub.execute_input": "2024-07-15T01:15:02.267018Z",
     "iopub.status.busy": "2024-07-15T01:15:02.266616Z",
     "iopub.status.idle": "2024-07-15T01:15:02.291862Z",
     "shell.execute_reply": "2024-07-15T01:15:02.290458Z"
    },
    "papermill": {
     "duration": 0.038045,
     "end_time": "2024-07-15T01:15:02.294467",
     "exception": false,
     "start_time": "2024-07-15T01:15:02.256422",
     "status": "completed"
    },
    "tags": []
   },
   "outputs": [
    {
     "name": "stdout",
     "output_type": "stream",
     "text": [
      "<class 'pandas.core.frame.DataFrame'>\n",
      "RangeIndex: 3276 entries, 0 to 3275\n",
      "Data columns (total 10 columns):\n",
      " #   Column           Non-Null Count  Dtype  \n",
      "---  ------           --------------  -----  \n",
      " 0   ph               2785 non-null   float64\n",
      " 1   Hardness         3276 non-null   float64\n",
      " 2   Solids           3276 non-null   float64\n",
      " 3   Chloramines      3276 non-null   float64\n",
      " 4   Sulfate          2495 non-null   float64\n",
      " 5   Conductivity     3276 non-null   float64\n",
      " 6   Organic_carbon   3276 non-null   float64\n",
      " 7   Trihalomethanes  3114 non-null   float64\n",
      " 8   Turbidity        3276 non-null   float64\n",
      " 9   Potability       3276 non-null   int64  \n",
      "dtypes: float64(9), int64(1)\n",
      "memory usage: 256.1 KB\n"
     ]
    }
   ],
   "source": [
    "df_water.info()"
   ]
  },
  {
   "cell_type": "markdown",
   "id": "b29b359b",
   "metadata": {
    "papermill": {
     "duration": 0.008812,
     "end_time": "2024-07-15T01:15:02.312446",
     "exception": false,
     "start_time": "2024-07-15T01:15:02.303634",
     "status": "completed"
    },
    "tags": []
   },
   "source": [
    "**Observations**\n",
    "* In total the dataframe has 3276 rows\n",
    "* ph, Sulfate, and Trihalomethanes have missing values\n",
    "* There are 9 possible input feature and one target variable, which is 'Potability'\n",
    "* The target variable 'Potability' is of type integer, all the others are of type float, i.e. we don't need to convert any types"
   ]
  },
  {
   "cell_type": "markdown",
   "id": "dd61ae2d",
   "metadata": {
    "papermill": {
     "duration": 0.008864,
     "end_time": "2024-07-15T01:15:02.330480",
     "exception": false,
     "start_time": "2024-07-15T01:15:02.321616",
     "status": "completed"
    },
    "tags": []
   },
   "source": [
    "**Note**, that we don't need to remove the **missing values**, because LightGBM natively supports the treatment of [missing value](https://lightgbm.readthedocs.io/en/stable/Advanced-Topics.html#missing-value-handle)."
   ]
  },
  {
   "cell_type": "markdown",
   "id": "6ff385e8",
   "metadata": {
    "papermill": {
     "duration": 0.008503,
     "end_time": "2024-07-15T01:15:02.347907",
     "exception": false,
     "start_time": "2024-07-15T01:15:02.339404",
     "status": "completed"
    },
    "tags": []
   },
   "source": [
    "Show basic statistics of all columns"
   ]
  },
  {
   "cell_type": "code",
   "execution_count": 4,
   "id": "8b17b4c1",
   "metadata": {
    "execution": {
     "iopub.execute_input": "2024-07-15T01:15:02.367305Z",
     "iopub.status.busy": "2024-07-15T01:15:02.366950Z",
     "iopub.status.idle": "2024-07-15T01:15:02.404627Z",
     "shell.execute_reply": "2024-07-15T01:15:02.403450Z"
    },
    "papermill": {
     "duration": 0.050395,
     "end_time": "2024-07-15T01:15:02.407224",
     "exception": false,
     "start_time": "2024-07-15T01:15:02.356829",
     "status": "completed"
    },
    "tags": []
   },
   "outputs": [
    {
     "data": {
      "text/html": [
       "<div>\n",
       "<style scoped>\n",
       "    .dataframe tbody tr th:only-of-type {\n",
       "        vertical-align: middle;\n",
       "    }\n",
       "\n",
       "    .dataframe tbody tr th {\n",
       "        vertical-align: top;\n",
       "    }\n",
       "\n",
       "    .dataframe thead th {\n",
       "        text-align: right;\n",
       "    }\n",
       "</style>\n",
       "<table border=\"1\" class=\"dataframe\">\n",
       "  <thead>\n",
       "    <tr style=\"text-align: right;\">\n",
       "      <th></th>\n",
       "      <th>ph</th>\n",
       "      <th>Hardness</th>\n",
       "      <th>Solids</th>\n",
       "      <th>Chloramines</th>\n",
       "      <th>Sulfate</th>\n",
       "      <th>Conductivity</th>\n",
       "      <th>Organic_carbon</th>\n",
       "      <th>Trihalomethanes</th>\n",
       "      <th>Turbidity</th>\n",
       "      <th>Potability</th>\n",
       "    </tr>\n",
       "  </thead>\n",
       "  <tbody>\n",
       "    <tr>\n",
       "      <th>count</th>\n",
       "      <td>2785.000000</td>\n",
       "      <td>3276.000000</td>\n",
       "      <td>3276.000000</td>\n",
       "      <td>3276.000000</td>\n",
       "      <td>2495.000000</td>\n",
       "      <td>3276.000000</td>\n",
       "      <td>3276.000000</td>\n",
       "      <td>3114.000000</td>\n",
       "      <td>3276.000000</td>\n",
       "      <td>3276.000000</td>\n",
       "    </tr>\n",
       "    <tr>\n",
       "      <th>mean</th>\n",
       "      <td>7.080795</td>\n",
       "      <td>196.369496</td>\n",
       "      <td>22014.092526</td>\n",
       "      <td>7.122277</td>\n",
       "      <td>333.775777</td>\n",
       "      <td>426.205111</td>\n",
       "      <td>14.284970</td>\n",
       "      <td>66.396293</td>\n",
       "      <td>3.966786</td>\n",
       "      <td>0.390110</td>\n",
       "    </tr>\n",
       "    <tr>\n",
       "      <th>std</th>\n",
       "      <td>1.594320</td>\n",
       "      <td>32.879761</td>\n",
       "      <td>8768.570828</td>\n",
       "      <td>1.583085</td>\n",
       "      <td>41.416840</td>\n",
       "      <td>80.824064</td>\n",
       "      <td>3.308162</td>\n",
       "      <td>16.175008</td>\n",
       "      <td>0.780382</td>\n",
       "      <td>0.487849</td>\n",
       "    </tr>\n",
       "    <tr>\n",
       "      <th>min</th>\n",
       "      <td>0.000000</td>\n",
       "      <td>47.432000</td>\n",
       "      <td>320.942611</td>\n",
       "      <td>0.352000</td>\n",
       "      <td>129.000000</td>\n",
       "      <td>181.483754</td>\n",
       "      <td>2.200000</td>\n",
       "      <td>0.738000</td>\n",
       "      <td>1.450000</td>\n",
       "      <td>0.000000</td>\n",
       "    </tr>\n",
       "    <tr>\n",
       "      <th>25%</th>\n",
       "      <td>6.093092</td>\n",
       "      <td>176.850538</td>\n",
       "      <td>15666.690297</td>\n",
       "      <td>6.127421</td>\n",
       "      <td>307.699498</td>\n",
       "      <td>365.734414</td>\n",
       "      <td>12.065801</td>\n",
       "      <td>55.844536</td>\n",
       "      <td>3.439711</td>\n",
       "      <td>0.000000</td>\n",
       "    </tr>\n",
       "    <tr>\n",
       "      <th>50%</th>\n",
       "      <td>7.036752</td>\n",
       "      <td>196.967627</td>\n",
       "      <td>20927.833607</td>\n",
       "      <td>7.130299</td>\n",
       "      <td>333.073546</td>\n",
       "      <td>421.884968</td>\n",
       "      <td>14.218338</td>\n",
       "      <td>66.622485</td>\n",
       "      <td>3.955028</td>\n",
       "      <td>0.000000</td>\n",
       "    </tr>\n",
       "    <tr>\n",
       "      <th>75%</th>\n",
       "      <td>8.062066</td>\n",
       "      <td>216.667456</td>\n",
       "      <td>27332.762127</td>\n",
       "      <td>8.114887</td>\n",
       "      <td>359.950170</td>\n",
       "      <td>481.792304</td>\n",
       "      <td>16.557652</td>\n",
       "      <td>77.337473</td>\n",
       "      <td>4.500320</td>\n",
       "      <td>1.000000</td>\n",
       "    </tr>\n",
       "    <tr>\n",
       "      <th>max</th>\n",
       "      <td>14.000000</td>\n",
       "      <td>323.124000</td>\n",
       "      <td>61227.196008</td>\n",
       "      <td>13.127000</td>\n",
       "      <td>481.030642</td>\n",
       "      <td>753.342620</td>\n",
       "      <td>28.300000</td>\n",
       "      <td>124.000000</td>\n",
       "      <td>6.739000</td>\n",
       "      <td>1.000000</td>\n",
       "    </tr>\n",
       "  </tbody>\n",
       "</table>\n",
       "</div>"
      ],
      "text/plain": [
       "                ph     Hardness        Solids  Chloramines      Sulfate  \\\n",
       "count  2785.000000  3276.000000   3276.000000  3276.000000  2495.000000   \n",
       "mean      7.080795   196.369496  22014.092526     7.122277   333.775777   \n",
       "std       1.594320    32.879761   8768.570828     1.583085    41.416840   \n",
       "min       0.000000    47.432000    320.942611     0.352000   129.000000   \n",
       "25%       6.093092   176.850538  15666.690297     6.127421   307.699498   \n",
       "50%       7.036752   196.967627  20927.833607     7.130299   333.073546   \n",
       "75%       8.062066   216.667456  27332.762127     8.114887   359.950170   \n",
       "max      14.000000   323.124000  61227.196008    13.127000   481.030642   \n",
       "\n",
       "       Conductivity  Organic_carbon  Trihalomethanes    Turbidity   Potability  \n",
       "count   3276.000000     3276.000000      3114.000000  3276.000000  3276.000000  \n",
       "mean     426.205111       14.284970        66.396293     3.966786     0.390110  \n",
       "std       80.824064        3.308162        16.175008     0.780382     0.487849  \n",
       "min      181.483754        2.200000         0.738000     1.450000     0.000000  \n",
       "25%      365.734414       12.065801        55.844536     3.439711     0.000000  \n",
       "50%      421.884968       14.218338        66.622485     3.955028     0.000000  \n",
       "75%      481.792304       16.557652        77.337473     4.500320     1.000000  \n",
       "max      753.342620       28.300000       124.000000     6.739000     1.000000  "
      ]
     },
     "execution_count": 4,
     "metadata": {},
     "output_type": "execute_result"
    }
   ],
   "source": [
    "df_water.describe()"
   ]
  },
  {
   "cell_type": "markdown",
   "id": "d0de0f4e",
   "metadata": {
    "papermill": {
     "duration": 0.008933,
     "end_time": "2024-07-15T01:15:02.425554",
     "exception": false,
     "start_time": "2024-07-15T01:15:02.416621",
     "status": "completed"
    },
    "tags": []
   },
   "source": [
    "**Observations**\n",
    "* Input feaures vary in their range\n",
    "* The target variable is binary"
   ]
  },
  {
   "cell_type": "markdown",
   "id": "22df7b80",
   "metadata": {
    "papermill": {
     "duration": 0.009135,
     "end_time": "2024-07-15T01:15:02.444163",
     "exception": false,
     "start_time": "2024-07-15T01:15:02.435028",
     "status": "completed"
    },
    "tags": []
   },
   "source": [
    "Plot data distributions"
   ]
  },
  {
   "cell_type": "code",
   "execution_count": 5,
   "id": "0b859054",
   "metadata": {
    "execution": {
     "iopub.execute_input": "2024-07-15T01:15:02.464344Z",
     "iopub.status.busy": "2024-07-15T01:15:02.463969Z",
     "iopub.status.idle": "2024-07-15T01:15:02.470852Z",
     "shell.execute_reply": "2024-07-15T01:15:02.469678Z"
    },
    "papermill": {
     "duration": 0.019855,
     "end_time": "2024-07-15T01:15:02.473329",
     "exception": false,
     "start_time": "2024-07-15T01:15:02.453474",
     "status": "completed"
    },
    "tags": []
   },
   "outputs": [],
   "source": [
    "def distplots(df=df_water,n=8):\n",
    "    cols = list(df.columns)\n",
    "    fig, axes = plt.subplots(5, 2, figsize=(15,8))\n",
    "    plt.tight_layout(pad=3)\n",
    "    for col, ax in enumerate(axes.flatten()):\n",
    "        if df[cols[col]].dtypes=='float64':\n",
    "            sns.boxplot(x=df[cols[col]], ax=ax, color='darkcyan')\n",
    "        if col>n:\n",
    "            break;"
   ]
  },
  {
   "cell_type": "code",
   "execution_count": 6,
   "id": "40724d26",
   "metadata": {
    "execution": {
     "iopub.execute_input": "2024-07-15T01:15:02.494345Z",
     "iopub.status.busy": "2024-07-15T01:15:02.493966Z",
     "iopub.status.idle": "2024-07-15T01:15:04.199643Z",
     "shell.execute_reply": "2024-07-15T01:15:04.198408Z"
    },
    "papermill": {
     "duration": 1.719272,
     "end_time": "2024-07-15T01:15:04.202112",
     "exception": false,
     "start_time": "2024-07-15T01:15:02.482840",
     "status": "completed"
    },
    "tags": []
   },
   "outputs": [
    {
     "data": {
      "image/png": "[encoded data removed]",
      "text/plain": [
       "<Figure size 1500x800 with 10 Axes>"
      ]
     },
     "metadata": {},
     "output_type": "display_data"
    }
   ],
   "source": [
    "distplots(df=df_water)"
   ]
  },
  {
   "cell_type": "code",
   "execution_count": 7,
   "id": "2025ce4e",
   "metadata": {
    "execution": {
     "iopub.execute_input": "2024-07-15T01:15:04.225188Z",
     "iopub.status.busy": "2024-07-15T01:15:04.224230Z",
     "iopub.status.idle": "2024-07-15T01:15:04.234218Z",
     "shell.execute_reply": "2024-07-15T01:15:04.233157Z"
    },
    "papermill": {
     "duration": 0.023971,
     "end_time": "2024-07-15T01:15:04.236493",
     "exception": false,
     "start_time": "2024-07-15T01:15:04.212522",
     "status": "completed"
    },
    "tags": []
   },
   "outputs": [
    {
     "data": {
      "text/plain": [
       "Potability\n",
       "0    1998\n",
       "1    1278\n",
       "Name: count, dtype: int64"
      ]
     },
     "execution_count": 7,
     "metadata": {},
     "output_type": "execute_result"
    }
   ],
   "source": [
    "df_water['Potability'].value_counts()"
   ]
  },
  {
   "cell_type": "markdown",
   "id": "425d2f91",
   "metadata": {
    "papermill": {
     "duration": 0.010264,
     "end_time": "2024-07-15T01:15:04.257262",
     "exception": false,
     "start_time": "2024-07-15T01:15:04.246998",
     "status": "completed"
    },
    "tags": []
   },
   "source": [
    "**Observations**\n",
    "* There are no extreme outliers\n",
    "* Most of the input feature are normally distributed\n",
    "* 'Solids' and 'Conductivity' seem to be right-skewed (no statistical test done here, only from visual inspection)\n",
    "* The target variable is not equally distributed, but their are more samples with a negative target class than a positive"
   ]
  },
  {
   "cell_type": "markdown",
   "id": "68ebc825",
   "metadata": {
    "papermill": {
     "duration": 0.010113,
     "end_time": "2024-07-15T01:15:04.277868",
     "exception": false,
     "start_time": "2024-07-15T01:15:04.267755",
     "status": "completed"
    },
    "tags": []
   },
   "source": [
    "# Data Preparation"
   ]
  },
  {
   "cell_type": "markdown",
   "id": "efdf729f",
   "metadata": {
    "papermill": {
     "duration": 0.010144,
     "end_time": "2024-07-15T01:15:04.298433",
     "exception": false,
     "start_time": "2024-07-15T01:15:04.288289",
     "status": "completed"
    },
    "tags": []
   },
   "source": [
    "Split the data into training, validation and test set. "
   ]
  },
  {
   "cell_type": "code",
   "execution_count": 8,
   "id": "4c5c5cfb",
   "metadata": {
    "execution": {
     "iopub.execute_input": "2024-07-15T01:15:04.321609Z",
     "iopub.status.busy": "2024-07-15T01:15:04.320762Z",
     "iopub.status.idle": "2024-07-15T01:15:04.337719Z",
     "shell.execute_reply": "2024-07-15T01:15:04.336404Z"
    },
    "papermill": {
     "duration": 0.031989,
     "end_time": "2024-07-15T01:15:04.340873",
     "exception": false,
     "start_time": "2024-07-15T01:15:04.308884",
     "status": "completed"
    },
    "tags": []
   },
   "outputs": [
    {
     "name": "stdout",
     "output_type": "stream",
     "text": [
      "train data shape: X - (1965, 10), y - (1965,)\n",
      "validation data shape: X - (655, 10), y - (655,)\n",
      "test data shape: X - (656, 10), y - (656,)\n"
     ]
    }
   ],
   "source": [
    "# train - validation split\n",
    "df_train_full, df_test = train_test_split(df_water, test_size=0.2, shuffle=True, random_state=SEED)\n",
    "df_train, df_valid = train_test_split(df_train_full, test_size=0.25, shuffle=True, random_state=SEED)\n",
    "print(f'train data shape: X - {df_train.shape}, y - {df_train[\"Potability\"].shape}')\n",
    "print(f'validation data shape: X - {df_valid.shape}, y - {df_valid[\"Potability\"].shape}')\n",
    "print(f'test data shape: X - {df_test.shape}, y - {df_test[\"Potability\"].shape}')"
   ]
  },
  {
   "cell_type": "markdown",
   "id": "57c354e6",
   "metadata": {
    "papermill": {
     "duration": 0.010557,
     "end_time": "2024-07-15T01:15:04.365906",
     "exception": false,
     "start_time": "2024-07-15T01:15:04.355349",
     "status": "completed"
    },
    "tags": []
   },
   "source": [
    "We equalize the two target classes. If we don't do this, the majority class will dominate the model. There are different options\n",
    "1. Downsanḿpling. Draw randomly the number of samples of the minority class from the majority class. This leads to a loss of data.\n",
    "2. Upsampling.\n",
    "​\n",
    "    a) Randomly draw samples from the minority class until the number of the ajority class is achieved. This leads o dubplicate samples in the dataset and can lead to overfitting.\n",
    "    \n",
    "    b) Create artificial data using e.g. [SMOTE](https://imbalanced-learn.org/stable/references/generated/imblearn.over_sampling.SMOTE.html) from the minority class until the number of samples of the majority class is achieved.\n",
    "\n",
    "\n",
    "For this example we will use option 1 for simplicity. Note that if upsampling is done, this is done for the training data only. Otherwise data leakage may occur, that is we may use data for training that is also in tha validation or test set."
   ]
  },
  {
   "cell_type": "code",
   "execution_count": 9,
   "id": "e510d1ac",
   "metadata": {
    "execution": {
     "iopub.execute_input": "2024-07-15T01:15:04.389697Z",
     "iopub.status.busy": "2024-07-15T01:15:04.389192Z",
     "iopub.status.idle": "2024-07-15T01:15:04.405873Z",
     "shell.execute_reply": "2024-07-15T01:15:04.404671Z"
    },
    "papermill": {
     "duration": 0.031572,
     "end_time": "2024-07-15T01:15:04.408252",
     "exception": false,
     "start_time": "2024-07-15T01:15:04.376680",
     "status": "completed"
    },
    "tags": []
   },
   "outputs": [
    {
     "data": {
      "text/plain": [
       "Potability\n",
       "0    1189\n",
       "1    1189\n",
       "Name: count, dtype: int64"
      ]
     },
     "execution_count": 9,
     "metadata": {},
     "output_type": "execute_result"
    }
   ],
   "source": [
    "df_majority = df_train[df_train.Potability==0]\n",
    "df_minority = df_train[df_train.Potability==1]\n",
    "\n",
    "# Upsample minority class\n",
    "df_minority_upsampled = resample(df_minority, \n",
    "                                 replace=True,     # sample with replacement\n",
    "                                 n_samples=len(df_majority),    # to match majority class\n",
    "                                 random_state=42) # reproducible results\n",
    "\n",
    "# Combine majority class with upsampled minority class\n",
    "df_upsampled = pd.concat([df_majority, df_minority_upsampled])\n",
    "\n",
    "# Display new class counts\n",
    "df_upsampled.Potability.value_counts()"
   ]
  },
  {
   "cell_type": "markdown",
   "id": "1b1effd2",
   "metadata": {
    "papermill": {
     "duration": 0.010291,
     "end_time": "2024-07-15T01:15:04.429356",
     "exception": false,
     "start_time": "2024-07-15T01:15:04.419065",
     "status": "completed"
    },
    "tags": []
   },
   "source": [
    "# Modelling\n",
    "\n",
    "Set features and target values of train, validation, and test set.\n"
   ]
  },
  {
   "cell_type": "code",
   "execution_count": 10,
   "id": "7bb0902f",
   "metadata": {
    "execution": {
     "iopub.execute_input": "2024-07-15T01:15:04.452523Z",
     "iopub.status.busy": "2024-07-15T01:15:04.452112Z",
     "iopub.status.idle": "2024-07-15T01:15:04.461122Z",
     "shell.execute_reply": "2024-07-15T01:15:04.459956Z"
    },
    "papermill": {
     "duration": 0.023298,
     "end_time": "2024-07-15T01:15:04.463567",
     "exception": false,
     "start_time": "2024-07-15T01:15:04.440269",
     "status": "completed"
    },
    "tags": []
   },
   "outputs": [],
   "source": [
    "features = ['ph', 'Hardness', 'Solids', 'Chloramines', 'Sulfate', 'Conductivity', 'Organic_carbon', 'Trihalomethanes', 'Turbidity']\n",
    "\n",
    "X_train = df_train[features]\n",
    "X_valid = df_valid[features]\n",
    "X_test = df_test[features]\n",
    "\n",
    "y_train = df_train['Potability']\n",
    "y_valid = df_valid['Potability']\n",
    "y_test = df_test['Potability']"
   ]
  },
  {
   "cell_type": "markdown",
   "id": "d72bc837",
   "metadata": {
    "papermill": {
     "duration": 0.010731,
     "end_time": "2024-07-15T01:15:04.485098",
     "exception": false,
     "start_time": "2024-07-15T01:15:04.474367",
     "status": "completed"
    },
    "tags": []
   },
   "source": [
    "Set the parameters to train the model."
   ]
  },
  {
   "cell_type": "code",
   "execution_count": 11,
   "id": "00e85f02",
   "metadata": {
    "execution": {
     "iopub.execute_input": "2024-07-15T01:15:04.508350Z",
     "iopub.status.busy": "2024-07-15T01:15:04.507478Z",
     "iopub.status.idle": "2024-07-15T01:15:04.514083Z",
     "shell.execute_reply": "2024-07-15T01:15:04.512946Z"
    },
    "papermill": {
     "duration": 0.020719,
     "end_time": "2024-07-15T01:15:04.516461",
     "exception": false,
     "start_time": "2024-07-15T01:15:04.495742",
     "status": "completed"
    },
    "tags": []
   },
   "outputs": [],
   "source": [
    "params = {\n",
    "    'boosting_type': 'gbdt',           # Gradient Boosting Decision Tree\n",
    "    'objective': 'binary',             # Binary classification task\n",
    "    'metric': 'binary_logloss',        # Metric to evaluate\n",
    "    'num_leaves': 31,                  # Maximum number of leaves in one tree\n",
    "    'learning_rate': 0.05,             # Learning rate\n",
    "    'feature_fraction': 0.9,           # Percentage of features to consider for each boosting round\n",
    "    'bagging_fraction': 0.8,           # Percentage of data to use for each boosting round\n",
    "    'bagging_freq': 5,                 # Perform bagging every 5 iterations\n",
    "    'max_depth': -1,                   # Maximum depth of the tree (-1 means no limit)\n",
    "    'min_data_in_leaf': 20,            # Minimum number of samples in one leaf\n",
    "    'lambda_l1': 0.1,                  # L1 regularization term\n",
    "    'lambda_l2': 0.2,                  # L2 regularization term\n",
    "    'verbosity': 1                     # LightGBM's output\n",
    "}"
   ]
  },
  {
   "cell_type": "markdown",
   "id": "823efc86",
   "metadata": {
    "papermill": {
     "duration": 0.010372,
     "end_time": "2024-07-15T01:15:04.537591",
     "exception": false,
     "start_time": "2024-07-15T01:15:04.527219",
     "status": "completed"
    },
    "tags": []
   },
   "source": [
    "Initialize the LightGBM classifier with the specified hyperparameters and fit the model. Additionally we set a [callback](https://lightgbm.readthedocs.io/en/latest/Python-API.html) for early stopping to get the best model, once the loss doesn´t improve any more."
   ]
  },
  {
   "cell_type": "code",
   "execution_count": 12,
   "id": "97d1e42f",
   "metadata": {
    "execution": {
     "iopub.execute_input": "2024-07-15T01:15:04.560974Z",
     "iopub.status.busy": "2024-07-15T01:15:04.560585Z",
     "iopub.status.idle": "2024-07-15T01:15:04.979662Z",
     "shell.execute_reply": "2024-07-15T01:15:04.978633Z"
    },
    "papermill": {
     "duration": 0.433244,
     "end_time": "2024-07-15T01:15:04.982102",
     "exception": false,
     "start_time": "2024-07-15T01:15:04.548858",
     "status": "completed"
    },
    "tags": []
   },
   "outputs": [
    {
     "name": "stdout",
     "output_type": "stream",
     "text": [
      "[LightGBM] [Warning] min_data_in_leaf is set=20, min_child_samples=20 will be ignored. Current value: min_data_in_leaf=20\n",
      "[LightGBM] [Warning] feature_fraction is set=0.9, colsample_bytree=1.0 will be ignored. Current value: feature_fraction=0.9\n",
      "[LightGBM] [Warning] lambda_l2 is set=0.2, reg_lambda=0.0 will be ignored. Current value: lambda_l2=0.2\n",
      "[LightGBM] [Warning] lambda_l1 is set=0.1, reg_alpha=0.0 will be ignored. Current value: lambda_l1=0.1\n",
      "[LightGBM] [Warning] bagging_fraction is set=0.8, subsample=1.0 will be ignored. Current value: bagging_fraction=0.8\n",
      "[LightGBM] [Warning] bagging_freq is set=5, subsample_freq=0 will be ignored. Current value: bagging_freq=5\n",
      "[LightGBM] [Warning] min_data_in_leaf is set=20, min_child_samples=20 will be ignored. Current value: min_data_in_leaf=20\n",
      "[LightGBM] [Warning] feature_fraction is set=0.9, colsample_bytree=1.0 will be ignored. Current value: feature_fraction=0.9\n",
      "[LightGBM] [Warning] lambda_l2 is set=0.2, reg_lambda=0.0 will be ignored. Current value: lambda_l2=0.2\n",
      "[LightGBM] [Warning] lambda_l1 is set=0.1, reg_alpha=0.0 will be ignored. Current value: lambda_l1=0.1\n",
      "[LightGBM] [Warning] bagging_fraction is set=0.8, subsample=1.0 will be ignored. Current value: bagging_fraction=0.8\n",
      "[LightGBM] [Warning] bagging_freq is set=5, subsample_freq=0 will be ignored. Current value: bagging_freq=5\n",
      "[LightGBM] [Info] Number of positive: 776, number of negative: 1189\n",
      "[LightGBM] [Info] Auto-choosing col-wise multi-threading, the overhead of testing was 0.001596 seconds.\n",
      "You can set `force_col_wise=true` to remove the overhead.\n",
      "[LightGBM] [Info] Total Bins 2295\n",
      "[LightGBM] [Info] Number of data points in the train set: 1965, number of used features: 9\n",
      "[LightGBM] [Warning] min_data_in_leaf is set=20, min_child_samples=20 will be ignored. Current value: min_data_in_leaf=20\n",
      "[LightGBM] [Warning] feature_fraction is set=0.9, colsample_bytree=1.0 will be ignored. Current value: feature_fraction=0.9\n",
      "[LightGBM] [Warning] lambda_l2 is set=0.2, reg_lambda=0.0 will be ignored. Current value: lambda_l2=0.2\n",
      "[LightGBM] [Warning] lambda_l1 is set=0.1, reg_alpha=0.0 will be ignored. Current value: lambda_l1=0.1\n",
      "[LightGBM] [Warning] bagging_fraction is set=0.8, subsample=1.0 will be ignored. Current value: bagging_fraction=0.8\n",
      "[LightGBM] [Warning] bagging_freq is set=5, subsample_freq=0 will be ignored. Current value: bagging_freq=5\n",
      "[LightGBM] [Info] [binary:BoostFromScore]: pavg=0.394911 -> initscore=-0.426715\n",
      "[LightGBM] [Info] Start training from score -0.426715\n",
      "Training until validation scores don't improve for 30 rounds\n",
      "Early stopping, best iteration is:\n",
      "[75]\ttraining's binary_logloss: 0.39506\tvalid_1's binary_logloss: 0.635313\n"
     ]
    },
    {
     "data": {
      "text/html": [
       "<style>#sk-container-id-1 {color: black;background-color: white;}#sk-container-id-1 pre{padding: 0;}#sk-container-id-1 div.sk-toggleable {background-color: white;}#sk-container-id-1 label.sk-toggleable__label {cursor: pointer;display: block;width: 100%;margin-bottom: 0;padding: 0.3em;box-sizing: border-box;text-align: center;}#sk-container-id-1 label.sk-toggleable__label-arrow:before {content: \"▸\";float: left;margin-right: 0.25em;color: #696969;}#sk-container-id-1 label.sk-toggleable__label-arrow:hover:before {color: black;}#sk-container-id-1 div.sk-estimator:hover label.sk-toggleable__label-arrow:before {color: black;}#sk-container-id-1 div.sk-toggleable__content {max-height: 0;max-width: 0;overflow: hidden;text-align: left;background-color: #f0f8ff;}#sk-container-id-1 div.sk-toggleable__content pre {margin: 0.2em;color: black;border-radius: 0.25em;background-color: #f0f8ff;}#sk-container-id-1 input.sk-toggleable__control:checked~div.sk-toggleable__content {max-height: 200px;max-width: 100%;overflow: auto;}#sk-container-id-1 input.sk-toggleable__control:checked~label.sk-toggleable__label-arrow:before {content: \"▾\";}#sk-container-id-1 div.sk-estimator input.sk-toggleable__control:checked~label.sk-toggleable__label {background-color: #d4ebff;}#sk-container-id-1 div.sk-label input.sk-toggleable__control:checked~label.sk-toggleable__label {background-color: #d4ebff;}#sk-container-id-1 input.sk-hidden--visually {border: 0;clip: rect(1px 1px 1px 1px);clip: rect(1px, 1px, 1px, 1px);height: 1px;margin: -1px;overflow: hidden;padding: 0;position: absolute;width: 1px;}#sk-container-id-1 div.sk-estimator {font-family: monospace;background-color: #f0f8ff;border: 1px dotted black;border-radius: 0.25em;box-sizing: border-box;margin-bottom: 0.5em;}#sk-container-id-1 div.sk-estimator:hover {background-color: #d4ebff;}#sk-container-id-1 div.sk-parallel-item::after {content: \"\";width: 100%;border-bottom: 1px solid gray;flex-grow: 1;}#sk-container-id-1 div.sk-label:hover label.sk-toggleable__label {background-color: #d4ebff;}#sk-container-id-1 div.sk-serial::before {content: \"\";position: absolute;border-left: 1px solid gray;box-sizing: border-box;top: 0;bottom: 0;left: 50%;z-index: 0;}#sk-container-id-1 div.sk-serial {display: flex;flex-direction: column;align-items: center;background-color: white;padding-right: 0.2em;padding-left: 0.2em;position: relative;}#sk-container-id-1 div.sk-item {position: relative;z-index: 1;}#sk-container-id-1 div.sk-parallel {display: flex;align-items: stretch;justify-content: center;background-color: white;position: relative;}#sk-container-id-1 div.sk-item::before, #sk-container-id-1 div.sk-parallel-item::before {content: \"\";position: absolute;border-left: 1px solid gray;box-sizing: border-box;top: 0;bottom: 0;left: 50%;z-index: -1;}#sk-container-id-1 div.sk-parallel-item {display: flex;flex-direction: column;z-index: 1;position: relative;background-color: white;}#sk-container-id-1 div.sk-parallel-item:first-child::after {align-self: flex-end;width: 50%;}#sk-container-id-1 div.sk-parallel-item:last-child::after {align-self: flex-start;width: 50%;}#sk-container-id-1 div.sk-parallel-item:only-child::after {width: 0;}#sk-container-id-1 div.sk-dashed-wrapped {border: 1px dashed gray;margin: 0 0.4em 0.5em 0.4em;box-sizing: border-box;padding-bottom: 0.4em;background-color: white;}#sk-container-id-1 div.sk-label label {font-family: monospace;font-weight: bold;display: inline-block;line-height: 1.2em;}#sk-container-id-1 div.sk-label-container {text-align: center;}#sk-container-id-1 div.sk-container {/* jupyter's `normalize.less` sets `[hidden] { display: none; }` but bootstrap.min.css set `[hidden] { display: none !important; }` so we also need the `!important` here to be able to override the default hidden behavior on the sphinx rendered scikit-learn.org. See: https://github.com/scikit-learn/scikit-learn/issues/21755 */display: inline-block !important;position: relative;}#sk-container-id-1 div.sk-text-repr-fallback {display: none;}</style><div id=\"sk-container-id-1\" class=\"sk-top-container\"><div class=\"sk-text-repr-fallback\"><pre>LGBMClassifier(bagging_fraction=0.8, bagging_freq=5, feature_fraction=0.9,\n",
       "               lambda_l1=0.1, lambda_l2=0.2, learning_rate=0.05,\n",
       "               metric=&#x27;binary_logloss&#x27;, min_data_in_leaf=20, n_estimators=1000,\n",
       "               objective=&#x27;binary&#x27;, verbosity=1)</pre><b>In a Jupyter environment, please rerun this cell to show the HTML representation or trust the notebook. <br />On GitHub, the HTML representation is unable to render, please try loading this page with nbviewer.org.</b></div><div class=\"sk-container\" hidden><div class=\"sk-item\"><div class=\"sk-estimator sk-toggleable\"><input class=\"sk-toggleable__control sk-hidden--visually\" id=\"sk-estimator-id-1\" type=\"checkbox\" checked><label for=\"sk-estimator-id-1\" class=\"sk-toggleable__label sk-toggleable__label-arrow\">LGBMClassifier</label><div class=\"sk-toggleable__content\"><pre>LGBMClassifier(bagging_fraction=0.8, bagging_freq=5, feature_fraction=0.9,\n",
       "               lambda_l1=0.1, lambda_l2=0.2, learning_rate=0.05,\n",
       "               metric=&#x27;binary_logloss&#x27;, min_data_in_leaf=20, n_estimators=1000,\n",
       "               objective=&#x27;binary&#x27;, verbosity=1)</pre></div></div></div></div></div>"
      ],
      "text/plain": [
       "LGBMClassifier(bagging_fraction=0.8, bagging_freq=5, feature_fraction=0.9,\n",
       "               lambda_l1=0.1, lambda_l2=0.2, learning_rate=0.05,\n",
       "               metric='binary_logloss', min_data_in_leaf=20, n_estimators=1000,\n",
       "               objective='binary', verbosity=1)"
      ]
     },
     "execution_count": 12,
     "metadata": {},
     "output_type": "execute_result"
    }
   ],
   "source": [
    "clf = lgb.LGBMClassifier(**params, n_estimators=1000)\n",
    "\n",
    "clf.fit(X_train, y_train, \n",
    "        eval_set=[(X_train, y_train), (X_valid, y_valid)], \n",
    "        eval_metric='logloss', \n",
    "        callbacks=[lgb.early_stopping(stopping_rounds=30)])"
   ]
  },
  {
   "cell_type": "markdown",
   "id": "2ab98408",
   "metadata": {
    "papermill": {
     "duration": 0.01077,
     "end_time": "2024-07-15T01:15:05.003724",
     "exception": false,
     "start_time": "2024-07-15T01:15:04.992954",
     "status": "completed"
    },
    "tags": []
   },
   "source": [
    "**Evaluation**\n",
    "\n",
    "We calculate Accuracy, Recall, and Precision for the three data splits for both models."
   ]
  },
  {
   "cell_type": "code",
   "execution_count": 13,
   "id": "8fc29e1a",
   "metadata": {
    "execution": {
     "iopub.execute_input": "2024-07-15T01:15:05.027211Z",
     "iopub.status.busy": "2024-07-15T01:15:05.026826Z",
     "iopub.status.idle": "2024-07-15T01:15:05.083737Z",
     "shell.execute_reply": "2024-07-15T01:15:05.082702Z"
    },
    "papermill": {
     "duration": 0.071775,
     "end_time": "2024-07-15T01:15:05.086489",
     "exception": false,
     "start_time": "2024-07-15T01:15:05.014714",
     "status": "completed"
    },
    "tags": []
   },
   "outputs": [
    {
     "name": "stdout",
     "output_type": "stream",
     "text": [
      "training:\n",
      "[LightGBM] [Warning] min_data_in_leaf is set=20, min_child_samples=20 will be ignored. Current value: min_data_in_leaf=20\n",
      "[LightGBM] [Warning] feature_fraction is set=0.9, colsample_bytree=1.0 will be ignored. Current value: feature_fraction=0.9\n",
      "[LightGBM] [Warning] lambda_l2 is set=0.2, reg_lambda=0.0 will be ignored. Current value: lambda_l2=0.2\n",
      "[LightGBM] [Warning] lambda_l1 is set=0.1, reg_alpha=0.0 will be ignored. Current value: lambda_l1=0.1\n",
      "[LightGBM] [Warning] bagging_fraction is set=0.8, subsample=1.0 will be ignored. Current value: bagging_fraction=0.8\n",
      "[LightGBM] [Warning] bagging_freq is set=5, subsample_freq=0 will be ignored. Current value: bagging_freq=5\n",
      "Accuracy: 0.894, Recall: 0.966, Precision: 0.758\n",
      "\n",
      "validation:\n",
      "[LightGBM] [Warning] min_data_in_leaf is set=20, min_child_samples=20 will be ignored. Current value: min_data_in_leaf=20\n",
      "[LightGBM] [Warning] feature_fraction is set=0.9, colsample_bytree=1.0 will be ignored. Current value: feature_fraction=0.9\n",
      "[LightGBM] [Warning] lambda_l2 is set=0.2, reg_lambda=0.0 will be ignored. Current value: lambda_l2=0.2\n",
      "[LightGBM] [Warning] lambda_l1 is set=0.1, reg_alpha=0.0 will be ignored. Current value: lambda_l1=0.1\n",
      "[LightGBM] [Warning] bagging_fraction is set=0.8, subsample=1.0 will be ignored. Current value: bagging_fraction=0.8\n",
      "[LightGBM] [Warning] bagging_freq is set=5, subsample_freq=0 will be ignored. Current value: bagging_freq=5\n",
      "Accuracy: 0.644, Recall: 0.590, Precision: 0.318\n",
      "\n",
      "test:\n",
      "[LightGBM] [Warning] min_data_in_leaf is set=20, min_child_samples=20 will be ignored. Current value: min_data_in_leaf=20\n",
      "[LightGBM] [Warning] feature_fraction is set=0.9, colsample_bytree=1.0 will be ignored. Current value: feature_fraction=0.9\n",
      "[LightGBM] [Warning] lambda_l2 is set=0.2, reg_lambda=0.0 will be ignored. Current value: lambda_l2=0.2\n",
      "[LightGBM] [Warning] lambda_l1 is set=0.1, reg_alpha=0.0 will be ignored. Current value: lambda_l1=0.1\n",
      "[LightGBM] [Warning] bagging_fraction is set=0.8, subsample=1.0 will be ignored. Current value: bagging_fraction=0.8\n",
      "[LightGBM] [Warning] bagging_freq is set=5, subsample_freq=0 will be ignored. Current value: bagging_freq=5\n",
      "Accuracy: 0.681, Recall: 0.630, Precision: 0.348\n"
     ]
    }
   ],
   "source": [
    "print(\"training:\")\n",
    "y_train_pred = clf.predict(X_train)\n",
    "print(f\"Accuracy: {accuracy_score(y_train_pred, y_train):.3f}, Recall: {recall_score(y_train_pred, y_train):.3f}, Precision: {precision_score(y_train_pred, y_train):.3f}\")\n",
    "print(\"\\nvalidation:\")\n",
    "y_valid_pred = clf.predict(X_valid)\n",
    "print(f\"Accuracy: {accuracy_score(y_valid_pred, y_valid):.3f}, Recall: {recall_score(y_valid_pred, y_valid):.3f}, Precision: {precision_score(y_valid_pred, y_valid):.3f}\")\n",
    "print(\"\\ntest:\")\n",
    "y_test_pred = clf.predict(X_test)\n",
    "print(f\"Accuracy: {accuracy_score(y_test_pred, y_test):.3f}, Recall: {recall_score(y_test_pred, y_test):.3f}, Precision: {precision_score(y_test_pred, y_test):.3f}\")"
   ]
  },
  {
   "cell_type": "markdown",
   "id": "822a9993",
   "metadata": {
    "papermill": {
     "duration": 0.010627,
     "end_time": "2024-07-15T01:15:05.108303",
     "exception": false,
     "start_time": "2024-07-15T01:15:05.097676",
     "status": "completed"
    },
    "tags": []
   },
   "source": [
    "**Observations**\n",
    "\n",
    "This model is overfitting quite a bit. Let's see if the results can be improved if we tune the hyperparameters."
   ]
  },
  {
   "cell_type": "markdown",
   "id": "86e8adc6",
   "metadata": {
    "papermill": {
     "duration": 0.010694,
     "end_time": "2024-07-15T01:15:05.130550",
     "exception": false,
     "start_time": "2024-07-15T01:15:05.119856",
     "status": "completed"
    },
    "tags": []
   },
   "source": [
    "### Hyperparameter Tuning\n",
    "\n",
    "We will now use hyperparameter tuning to see if the model can be improved. We will only use a selected set of the hyperparameters, so that tuning won't take too long.\n"
   ]
  },
  {
   "cell_type": "code",
   "execution_count": 14,
   "id": "8ff65243",
   "metadata": {
    "execution": {
     "iopub.execute_input": "2024-07-15T01:15:05.154123Z",
     "iopub.status.busy": "2024-07-15T01:15:05.153727Z",
     "iopub.status.idle": "2024-07-15T01:16:26.616799Z",
     "shell.execute_reply": "2024-07-15T01:16:26.615561Z"
    },
    "papermill": {
     "duration": 81.481564,
     "end_time": "2024-07-15T01:16:26.623139",
     "exception": false,
     "start_time": "2024-07-15T01:15:05.141575",
     "status": "completed"
    },
    "tags": []
   },
   "outputs": [
    {
     "data": {
      "text/html": [
       "<style>#sk-container-id-2 {color: black;background-color: white;}#sk-container-id-2 pre{padding: 0;}#sk-container-id-2 div.sk-toggleable {background-color: white;}#sk-container-id-2 label.sk-toggleable__label {cursor: pointer;display: block;width: 100%;margin-bottom: 0;padding: 0.3em;box-sizing: border-box;text-align: center;}#sk-container-id-2 label.sk-toggleable__label-arrow:before {content: \"▸\";float: left;margin-right: 0.25em;color: #696969;}#sk-container-id-2 label.sk-toggleable__label-arrow:hover:before {color: black;}#sk-container-id-2 div.sk-estimator:hover label.sk-toggleable__label-arrow:before {color: black;}#sk-container-id-2 div.sk-toggleable__content {max-height: 0;max-width: 0;overflow: hidden;text-align: left;background-color: #f0f8ff;}#sk-container-id-2 div.sk-toggleable__content pre {margin: 0.2em;color: black;border-radius: 0.25em;background-color: #f0f8ff;}#sk-container-id-2 input.sk-toggleable__control:checked~div.sk-toggleable__content {max-height: 200px;max-width: 100%;overflow: auto;}#sk-container-id-2 input.sk-toggleable__control:checked~label.sk-toggleable__label-arrow:before {content: \"▾\";}#sk-container-id-2 div.sk-estimator input.sk-toggleable__control:checked~label.sk-toggleable__label {background-color: #d4ebff;}#sk-container-id-2 div.sk-label input.sk-toggleable__control:checked~label.sk-toggleable__label {background-color: #d4ebff;}#sk-container-id-2 input.sk-hidden--visually {border: 0;clip: rect(1px 1px 1px 1px);clip: rect(1px, 1px, 1px, 1px);height: 1px;margin: -1px;overflow: hidden;padding: 0;position: absolute;width: 1px;}#sk-container-id-2 div.sk-estimator {font-family: monospace;background-color: #f0f8ff;border: 1px dotted black;border-radius: 0.25em;box-sizing: border-box;margin-bottom: 0.5em;}#sk-container-id-2 div.sk-estimator:hover {background-color: #d4ebff;}#sk-container-id-2 div.sk-parallel-item::after {content: \"\";width: 100%;border-bottom: 1px solid gray;flex-grow: 1;}#sk-container-id-2 div.sk-label:hover label.sk-toggleable__label {background-color: #d4ebff;}#sk-container-id-2 div.sk-serial::before {content: \"\";position: absolute;border-left: 1px solid gray;box-sizing: border-box;top: 0;bottom: 0;left: 50%;z-index: 0;}#sk-container-id-2 div.sk-serial {display: flex;flex-direction: column;align-items: center;background-color: white;padding-right: 0.2em;padding-left: 0.2em;position: relative;}#sk-container-id-2 div.sk-item {position: relative;z-index: 1;}#sk-container-id-2 div.sk-parallel {display: flex;align-items: stretch;justify-content: center;background-color: white;position: relative;}#sk-container-id-2 div.sk-item::before, #sk-container-id-2 div.sk-parallel-item::before {content: \"\";position: absolute;border-left: 1px solid gray;box-sizing: border-box;top: 0;bottom: 0;left: 50%;z-index: -1;}#sk-container-id-2 div.sk-parallel-item {display: flex;flex-direction: column;z-index: 1;position: relative;background-color: white;}#sk-container-id-2 div.sk-parallel-item:first-child::after {align-self: flex-end;width: 50%;}#sk-container-id-2 div.sk-parallel-item:last-child::after {align-self: flex-start;width: 50%;}#sk-container-id-2 div.sk-parallel-item:only-child::after {width: 0;}#sk-container-id-2 div.sk-dashed-wrapped {border: 1px dashed gray;margin: 0 0.4em 0.5em 0.4em;box-sizing: border-box;padding-bottom: 0.4em;background-color: white;}#sk-container-id-2 div.sk-label label {font-family: monospace;font-weight: bold;display: inline-block;line-height: 1.2em;}#sk-container-id-2 div.sk-label-container {text-align: center;}#sk-container-id-2 div.sk-container {/* jupyter's `normalize.less` sets `[hidden] { display: none; }` but bootstrap.min.css set `[hidden] { display: none !important; }` so we also need the `!important` here to be able to override the default hidden behavior on the sphinx rendered scikit-learn.org. See: https://github.com/scikit-learn/scikit-learn/issues/21755 */display: inline-block !important;position: relative;}#sk-container-id-2 div.sk-text-repr-fallback {display: none;}</style><div id=\"sk-container-id-2\" class=\"sk-top-container\"><div class=\"sk-text-repr-fallback\"><pre>GridSearchCV(cv=5,\n",
       "             estimator=LGBMClassifier(callbacks=[&lt;lightgbm.callback._EarlyStoppingCallback object at 0x7b14a864b490&gt;],\n",
       "                                      eval_metric=&#x27;logloss&#x27;,\n",
       "                                      eval_set=[(             ph    Hardness        Solids  Chloramines     Sulfate  \\\n",
       "1659   8.205447  145.797317  17981.254776     6.580460  359.392567   \n",
       "1902   6.405392  183.867245  20526.306835     8.450272  366.176634   \n",
       "723   10.137932  242.005716  15088.827653     8.677789         NaN   \n",
       "1724   7.595229  1...\n",
       "531     319.434033       11.587378       120.030077   4.600886  \n",
       "704     332.598126       17.187963        79.634242   3.082080  \n",
       "\n",
       "[655 rows x 9 columns],\n",
       "                                                 3250    1\n",
       "1200    1\n",
       "2037    1\n",
       "745     1\n",
       "2625    0\n",
       "       ..\n",
       "3022    0\n",
       "1368    0\n",
       "1707    0\n",
       "531     0\n",
       "704     1\n",
       "Name: Potability, Length: 655, dtype: int64)]),\n",
       "             n_jobs=-1,\n",
       "             param_grid={&#x27;lambda_l1&#x27;: [0.1], &#x27;lambda_l2&#x27;: [0.2],\n",
       "                         &#x27;learning_rate&#x27;: [0.001, 0.05], &#x27;max_depth&#x27;: [5, 10],\n",
       "                         &#x27;n_estimators&#x27;: [1000], &#x27;num_leaves&#x27;: [20, 31, 50],\n",
       "                         &#x27;verbosity&#x27;: [-1]})</pre><b>In a Jupyter environment, please rerun this cell to show the HTML representation or trust the notebook. <br />On GitHub, the HTML representation is unable to render, please try loading this page with nbviewer.org.</b></div><div class=\"sk-container\" hidden><div class=\"sk-item sk-dashed-wrapped\"><div class=\"sk-label-container\"><div class=\"sk-label sk-toggleable\"><input class=\"sk-toggleable__control sk-hidden--visually\" id=\"sk-estimator-id-2\" type=\"checkbox\" ><label for=\"sk-estimator-id-2\" class=\"sk-toggleable__label sk-toggleable__label-arrow\">GridSearchCV</label><div class=\"sk-toggleable__content\"><pre>GridSearchCV(cv=5,\n",
       "             estimator=LGBMClassifier(callbacks=[&lt;lightgbm.callback._EarlyStoppingCallback object at 0x7b14a864b490&gt;],\n",
       "                                      eval_metric=&#x27;logloss&#x27;,\n",
       "                                      eval_set=[(             ph    Hardness        Solids  Chloramines     Sulfate  \\\n",
       "1659   8.205447  145.797317  17981.254776     6.580460  359.392567   \n",
       "1902   6.405392  183.867245  20526.306835     8.450272  366.176634   \n",
       "723   10.137932  242.005716  15088.827653     8.677789         NaN   \n",
       "1724   7.595229  1...\n",
       "531     319.434033       11.587378       120.030077   4.600886  \n",
       "704     332.598126       17.187963        79.634242   3.082080  \n",
       "\n",
       "[655 rows x 9 columns],\n",
       "                                                 3250    1\n",
       "1200    1\n",
       "2037    1\n",
       "745     1\n",
       "2625    0\n",
       "       ..\n",
       "3022    0\n",
       "1368    0\n",
       "1707    0\n",
       "531     0\n",
       "704     1\n",
       "Name: Potability, Length: 655, dtype: int64)]),\n",
       "             n_jobs=-1,\n",
       "             param_grid={&#x27;lambda_l1&#x27;: [0.1], &#x27;lambda_l2&#x27;: [0.2],\n",
       "                         &#x27;learning_rate&#x27;: [0.001, 0.05], &#x27;max_depth&#x27;: [5, 10],\n",
       "                         &#x27;n_estimators&#x27;: [1000], &#x27;num_leaves&#x27;: [20, 31, 50],\n",
       "                         &#x27;verbosity&#x27;: [-1]})</pre></div></div></div><div class=\"sk-parallel\"><div class=\"sk-parallel-item\"><div class=\"sk-item\"><div class=\"sk-label-container\"><div class=\"sk-label sk-toggleable\"><input class=\"sk-toggleable__control sk-hidden--visually\" id=\"sk-estimator-id-3\" type=\"checkbox\" ><label for=\"sk-estimator-id-3\" class=\"sk-toggleable__label sk-toggleable__label-arrow\">estimator: LGBMClassifier</label><div class=\"sk-toggleable__content\"><pre>LGBMClassifier(callbacks=[&lt;lightgbm.callback._EarlyStoppingCallback object at 0x7b14a864b490&gt;],\n",
       "               eval_metric=&#x27;logloss&#x27;,\n",
       "               eval_set=[(             ph    Hardness        Solids  Chloramines     Sulfate  \\\n",
       "1659   8.205447  145.797317  17981.254776     6.580460  359.392567   \n",
       "1902   6.405392  183.867245  20526.306835     8.450272  366.176634   \n",
       "723   10.137932  242.005716  15088.827653     8.677789         NaN   \n",
       "1724   7.595229  188.373282  32869.474408     6.74558...\n",
       "2625    372.803909       12.054439        51.892500   4.781323  \n",
       "...            ...             ...              ...        ...  \n",
       "3022    401.731338       14.219303        77.605726   3.954964  \n",
       "1368    398.181884       15.545029        92.011257   3.745725  \n",
       "1707    400.149806       19.873604        46.913342   4.448171  \n",
       "531     319.434033       11.587378       120.030077   4.600886  \n",
       "704     332.598126       17.187963        79.634242   3.082080  \n",
       "\n",
       "[655 rows x 9 columns],\n",
       "                          3250    1\n",
       "1200    1\n",
       "2037    1\n",
       "745     1\n",
       "2625    0\n",
       "       ..\n",
       "3022    0\n",
       "1368    0\n",
       "1707    0\n",
       "531     0\n",
       "704     1\n",
       "Name: Potability, Length: 655, dtype: int64)])</pre></div></div></div><div class=\"sk-serial\"><div class=\"sk-item\"><div class=\"sk-estimator sk-toggleable\"><input class=\"sk-toggleable__control sk-hidden--visually\" id=\"sk-estimator-id-4\" type=\"checkbox\" ><label for=\"sk-estimator-id-4\" class=\"sk-toggleable__label sk-toggleable__label-arrow\">LGBMClassifier</label><div class=\"sk-toggleable__content\"><pre>LGBMClassifier(callbacks=[&lt;lightgbm.callback._EarlyStoppingCallback object at 0x7b14a864b490&gt;],\n",
       "               eval_metric=&#x27;logloss&#x27;,\n",
       "               eval_set=[(             ph    Hardness        Solids  Chloramines     Sulfate  \\\n",
       "1659   8.205447  145.797317  17981.254776     6.580460  359.392567   \n",
       "1902   6.405392  183.867245  20526.306835     8.450272  366.176634   \n",
       "723   10.137932  242.005716  15088.827653     8.677789         NaN   \n",
       "1724   7.595229  188.373282  32869.474408     6.74558...\n",
       "2625    372.803909       12.054439        51.892500   4.781323  \n",
       "...            ...             ...              ...        ...  \n",
       "3022    401.731338       14.219303        77.605726   3.954964  \n",
       "1368    398.181884       15.545029        92.011257   3.745725  \n",
       "1707    400.149806       19.873604        46.913342   4.448171  \n",
       "531     319.434033       11.587378       120.030077   4.600886  \n",
       "704     332.598126       17.187963        79.634242   3.082080  \n",
       "\n",
       "[655 rows x 9 columns],\n",
       "                          3250    1\n",
       "1200    1\n",
       "2037    1\n",
       "745     1\n",
       "2625    0\n",
       "       ..\n",
       "3022    0\n",
       "1368    0\n",
       "1707    0\n",
       "531     0\n",
       "704     1\n",
       "Name: Potability, Length: 655, dtype: int64)])</pre></div></div></div></div></div></div></div></div></div></div>"
      ],
      "text/plain": [
       "GridSearchCV(cv=5,\n",
       "             estimator=LGBMClassifier(callbacks=[<lightgbm.callback._EarlyStoppingCallback object at 0x7b14a864b490>],\n",
       "                                      eval_metric='logloss',\n",
       "                                      eval_set=[(             ph    Hardness        Solids  Chloramines     Sulfate  \\\n",
       "1659   8.205447  145.797317  17981.254776     6.580460  359.392567   \n",
       "1902   6.405392  183.867245  20526.306835     8.450272  366.176634   \n",
       "723   10.137932  242.005716  15088.827653     8.677789         NaN   \n",
       "1724   7.595229  1...\n",
       "531     319.434033       11.587378       120.030077   4.600886  \n",
       "704     332.598126       17.187963        79.634242   3.082080  \n",
       "\n",
       "[655 rows x 9 columns],\n",
       "                                                 3250    1\n",
       "1200    1\n",
       "2037    1\n",
       "745     1\n",
       "2625    0\n",
       "       ..\n",
       "3022    0\n",
       "1368    0\n",
       "1707    0\n",
       "531     0\n",
       "704     1\n",
       "Name: Potability, Length: 655, dtype: int64)]),\n",
       "             n_jobs=-1,\n",
       "             param_grid={'lambda_l1': [0.1], 'lambda_l2': [0.2],\n",
       "                         'learning_rate': [0.001, 0.05], 'max_depth': [5, 10],\n",
       "                         'n_estimators': [1000], 'num_leaves': [20, 31, 50],\n",
       "                         'verbosity': [-1]})"
      ]
     },
     "execution_count": 14,
     "metadata": {},
     "output_type": "execute_result"
    }
   ],
   "source": [
    "param_grid = {\n",
    "    'n_estimators': [1000],\n",
    "    'num_leaves': [20, 31, 50],\n",
    "    'learning_rate': [0.001, 0.05],     \n",
    "    'max_depth': [5, 10],                      \n",
    "    'lambda_l1': [0.1],                  \n",
    "    'lambda_l2': [0.2],  \n",
    "    'verbosity': [-1]\n",
    "}\n",
    "\n",
    "clf = lgb.LGBMClassifier(eval_set=[(X_train, y_train), (X_valid, y_valid)], \n",
    "                        eval_metric='logloss', \n",
    "                        callbacks=[lgb.early_stopping(stopping_rounds=30)])\n",
    "\n",
    "grid_search = GridSearchCV(\n",
    "    estimator=clf, param_grid=param_grid, cv=5, n_jobs=-1)\n",
    " \n",
    "\n",
    "grid_search.fit(X_train.values, y_train.values)"
   ]
  },
  {
   "cell_type": "markdown",
   "id": "5e4352bf",
   "metadata": {
    "papermill": {
     "duration": 0.015688,
     "end_time": "2024-07-15T01:16:26.650570",
     "exception": false,
     "start_time": "2024-07-15T01:16:26.634882",
     "status": "completed"
    },
    "tags": []
   },
   "source": [
    "Fit the model with the best paramters."
   ]
  },
  {
   "cell_type": "code",
   "execution_count": 15,
   "id": "f8764f38",
   "metadata": {
    "execution": {
     "iopub.execute_input": "2024-07-15T01:16:26.683484Z",
     "iopub.status.busy": "2024-07-15T01:16:26.682989Z",
     "iopub.status.idle": "2024-07-15T01:16:26.691963Z",
     "shell.execute_reply": "2024-07-15T01:16:26.690729Z"
    },
    "papermill": {
     "duration": 0.026376,
     "end_time": "2024-07-15T01:16:26.694514",
     "exception": false,
     "start_time": "2024-07-15T01:16:26.668138",
     "status": "completed"
    },
    "tags": []
   },
   "outputs": [
    {
     "data": {
      "text/plain": [
       "{'lambda_l1': 0.1,\n",
       " 'lambda_l2': 0.2,\n",
       " 'learning_rate': 0.05,\n",
       " 'max_depth': 10,\n",
       " 'n_estimators': 1000,\n",
       " 'num_leaves': 31,\n",
       " 'verbosity': -1,\n",
       " 'early_stopping_rounds': 10}"
      ]
     },
     "execution_count": 15,
     "metadata": {},
     "output_type": "execute_result"
    }
   ],
   "source": [
    "parameters = grid_search.best_params_\n",
    "parameters[\"early_stopping_rounds\"] = 10\n",
    "parameters"
   ]
  },
  {
   "cell_type": "code",
   "execution_count": 16,
   "id": "cab6a5a4",
   "metadata": {
    "execution": {
     "iopub.execute_input": "2024-07-15T01:16:26.787308Z",
     "iopub.status.busy": "2024-07-15T01:16:26.786223Z",
     "iopub.status.idle": "2024-07-15T01:16:26.930088Z",
     "shell.execute_reply": "2024-07-15T01:16:26.928570Z"
    },
    "papermill": {
     "duration": 0.226459,
     "end_time": "2024-07-15T01:16:26.932792",
     "exception": false,
     "start_time": "2024-07-15T01:16:26.706333",
     "status": "completed"
    },
    "tags": []
   },
   "outputs": [
    {
     "data": {
      "text/html": [
       "<style>#sk-container-id-3 {color: black;background-color: white;}#sk-container-id-3 pre{padding: 0;}#sk-container-id-3 div.sk-toggleable {background-color: white;}#sk-container-id-3 label.sk-toggleable__label {cursor: pointer;display: block;width: 100%;margin-bottom: 0;padding: 0.3em;box-sizing: border-box;text-align: center;}#sk-container-id-3 label.sk-toggleable__label-arrow:before {content: \"▸\";float: left;margin-right: 0.25em;color: #696969;}#sk-container-id-3 label.sk-toggleable__label-arrow:hover:before {color: black;}#sk-container-id-3 div.sk-estimator:hover label.sk-toggleable__label-arrow:before {color: black;}#sk-container-id-3 div.sk-toggleable__content {max-height: 0;max-width: 0;overflow: hidden;text-align: left;background-color: #f0f8ff;}#sk-container-id-3 div.sk-toggleable__content pre {margin: 0.2em;color: black;border-radius: 0.25em;background-color: #f0f8ff;}#sk-container-id-3 input.sk-toggleable__control:checked~div.sk-toggleable__content {max-height: 200px;max-width: 100%;overflow: auto;}#sk-container-id-3 input.sk-toggleable__control:checked~label.sk-toggleable__label-arrow:before {content: \"▾\";}#sk-container-id-3 div.sk-estimator input.sk-toggleable__control:checked~label.sk-toggleable__label {background-color: #d4ebff;}#sk-container-id-3 div.sk-label input.sk-toggleable__control:checked~label.sk-toggleable__label {background-color: #d4ebff;}#sk-container-id-3 input.sk-hidden--visually {border: 0;clip: rect(1px 1px 1px 1px);clip: rect(1px, 1px, 1px, 1px);height: 1px;margin: -1px;overflow: hidden;padding: 0;position: absolute;width: 1px;}#sk-container-id-3 div.sk-estimator {font-family: monospace;background-color: #f0f8ff;border: 1px dotted black;border-radius: 0.25em;box-sizing: border-box;margin-bottom: 0.5em;}#sk-container-id-3 div.sk-estimator:hover {background-color: #d4ebff;}#sk-container-id-3 div.sk-parallel-item::after {content: \"\";width: 100%;border-bottom: 1px solid gray;flex-grow: 1;}#sk-container-id-3 div.sk-label:hover label.sk-toggleable__label {background-color: #d4ebff;}#sk-container-id-3 div.sk-serial::before {content: \"\";position: absolute;border-left: 1px solid gray;box-sizing: border-box;top: 0;bottom: 0;left: 50%;z-index: 0;}#sk-container-id-3 div.sk-serial {display: flex;flex-direction: column;align-items: center;background-color: white;padding-right: 0.2em;padding-left: 0.2em;position: relative;}#sk-container-id-3 div.sk-item {position: relative;z-index: 1;}#sk-container-id-3 div.sk-parallel {display: flex;align-items: stretch;justify-content: center;background-color: white;position: relative;}#sk-container-id-3 div.sk-item::before, #sk-container-id-3 div.sk-parallel-item::before {content: \"\";position: absolute;border-left: 1px solid gray;box-sizing: border-box;top: 0;bottom: 0;left: 50%;z-index: -1;}#sk-container-id-3 div.sk-parallel-item {display: flex;flex-direction: column;z-index: 1;position: relative;background-color: white;}#sk-container-id-3 div.sk-parallel-item:first-child::after {align-self: flex-end;width: 50%;}#sk-container-id-3 div.sk-parallel-item:last-child::after {align-self: flex-start;width: 50%;}#sk-container-id-3 div.sk-parallel-item:only-child::after {width: 0;}#sk-container-id-3 div.sk-dashed-wrapped {border: 1px dashed gray;margin: 0 0.4em 0.5em 0.4em;box-sizing: border-box;padding-bottom: 0.4em;background-color: white;}#sk-container-id-3 div.sk-label label {font-family: monospace;font-weight: bold;display: inline-block;line-height: 1.2em;}#sk-container-id-3 div.sk-label-container {text-align: center;}#sk-container-id-3 div.sk-container {/* jupyter's `normalize.less` sets `[hidden] { display: none; }` but bootstrap.min.css set `[hidden] { display: none !important; }` so we also need the `!important` here to be able to override the default hidden behavior on the sphinx rendered scikit-learn.org. See: https://github.com/scikit-learn/scikit-learn/issues/21755 */display: inline-block !important;position: relative;}#sk-container-id-3 div.sk-text-repr-fallback {display: none;}</style><div id=\"sk-container-id-3\" class=\"sk-top-container\"><div class=\"sk-text-repr-fallback\"><pre>LGBMClassifier(early_stopping_rounds=10, lambda_l1=0.1, lambda_l2=0.2,\n",
       "               learning_rate=0.05, max_depth=10, n_estimators=1000,\n",
       "               verbosity=-1)</pre><b>In a Jupyter environment, please rerun this cell to show the HTML representation or trust the notebook. <br />On GitHub, the HTML representation is unable to render, please try loading this page with nbviewer.org.</b></div><div class=\"sk-container\" hidden><div class=\"sk-item\"><div class=\"sk-estimator sk-toggleable\"><input class=\"sk-toggleable__control sk-hidden--visually\" id=\"sk-estimator-id-5\" type=\"checkbox\" checked><label for=\"sk-estimator-id-5\" class=\"sk-toggleable__label sk-toggleable__label-arrow\">LGBMClassifier</label><div class=\"sk-toggleable__content\"><pre>LGBMClassifier(early_stopping_rounds=10, lambda_l1=0.1, lambda_l2=0.2,\n",
       "               learning_rate=0.05, max_depth=10, n_estimators=1000,\n",
       "               verbosity=-1)</pre></div></div></div></div></div>"
      ],
      "text/plain": [
       "LGBMClassifier(early_stopping_rounds=10, lambda_l1=0.1, lambda_l2=0.2,\n",
       "               learning_rate=0.05, max_depth=10, n_estimators=1000,\n",
       "               verbosity=-1)"
      ]
     },
     "execution_count": 16,
     "metadata": {},
     "output_type": "execute_result"
    }
   ],
   "source": [
    "clf = lgb.LGBMClassifier(**parameters)\n",
    "clf.fit(X_train, y_train, eval_set=[(X_valid, y_valid)])"
   ]
  },
  {
   "cell_type": "code",
   "execution_count": 17,
   "id": "8e50ed0a",
   "metadata": {
    "execution": {
     "iopub.execute_input": "2024-07-15T01:16:26.966577Z",
     "iopub.status.busy": "2024-07-15T01:16:26.966176Z",
     "iopub.status.idle": "2024-07-15T01:16:27.009491Z",
     "shell.execute_reply": "2024-07-15T01:16:27.008237Z"
    },
    "papermill": {
     "duration": 0.064389,
     "end_time": "2024-07-15T01:16:27.012098",
     "exception": false,
     "start_time": "2024-07-15T01:16:26.947709",
     "status": "completed"
    },
    "tags": []
   },
   "outputs": [
    {
     "name": "stdout",
     "output_type": "stream",
     "text": [
      "training:\n",
      "Accuracy: 0.781, Recall: 0.920, Precision: 0.487\n",
      "\n",
      "validation:\n",
      "Accuracy: 0.652, Recall: 0.632, Precision: 0.279\n",
      "\n",
      "test:\n",
      "Accuracy: 0.683, Recall: 0.667, Precision: 0.295\n"
     ]
    }
   ],
   "source": [
    "print(\"training:\")\n",
    "y_train_pred = clf.predict(X_train)\n",
    "print(f\"Accuracy: {accuracy_score(y_train_pred, y_train):.3f}, Recall: {recall_score(y_train_pred, y_train):.3f}, Precision: {precision_score(y_train_pred, y_train):.3f}\")\n",
    "print(\"\\nvalidation:\")\n",
    "y_valid_pred = clf.predict(X_valid)\n",
    "print(f\"Accuracy: {accuracy_score(y_valid_pred, y_valid):.3f}, Recall: {recall_score(y_valid_pred, y_valid):.3f}, Precision: {precision_score(y_valid_pred, y_valid):.3f}\")\n",
    "print(\"\\ntest:\")\n",
    "y_test_pred = clf.predict(X_test)\n",
    "print(f\"Accuracy: {accuracy_score(y_test_pred, y_test):.3f}, Recall: {recall_score(y_test_pred, y_test):.3f}, Precision: {precision_score(y_test_pred, y_test):.3f}\")"
   ]
  },
  {
   "cell_type": "markdown",
   "id": "91651edd",
   "metadata": {
    "papermill": {
     "duration": 0.012428,
     "end_time": "2024-07-15T01:16:27.037647",
     "exception": false,
     "start_time": "2024-07-15T01:16:27.025219",
     "status": "completed"
    },
    "tags": []
   },
   "source": [
    "We see that just with a little bit of hyperparameter tuning we could improve the results and reduce the overfitting. Further tuning might lead to further improvement. But for the purpose of this notebook we will stop here."
   ]
  },
  {
   "cell_type": "markdown",
   "id": "df34fc23",
   "metadata": {
    "papermill": {
     "duration": 0.012457,
     "end_time": "2024-07-15T01:16:27.062500",
     "exception": false,
     "start_time": "2024-07-15T01:16:27.050043",
     "status": "completed"
    },
    "tags": []
   },
   "source": [
    "Using LightGBM we can easily get the feature importances."
   ]
  },
  {
   "cell_type": "code",
   "execution_count": 18,
   "id": "cbbfa2b8",
   "metadata": {
    "execution": {
     "iopub.execute_input": "2024-07-15T01:16:27.090559Z",
     "iopub.status.busy": "2024-07-15T01:16:27.089798Z",
     "iopub.status.idle": "2024-07-15T01:16:27.101339Z",
     "shell.execute_reply": "2024-07-15T01:16:27.100268Z"
    },
    "papermill": {
     "duration": 0.028771,
     "end_time": "2024-07-15T01:16:27.104990",
     "exception": false,
     "start_time": "2024-07-15T01:16:27.076219",
     "status": "completed"
    },
    "tags": []
   },
   "outputs": [
    {
     "name": "stdout",
     "output_type": "stream",
     "text": [
      "           feature  importance\n",
      "0               ph         195\n",
      "4          Sulfate         167\n",
      "1         Hardness         122\n",
      "3      Chloramines         106\n",
      "2           Solids          99\n",
      "7  Trihalomethanes          93\n",
      "6   Organic_carbon          68\n",
      "5     Conductivity          62\n",
      "8        Turbidity          34\n"
     ]
    }
   ],
   "source": [
    "importance = clf.feature_importances_\n",
    "feature_names = [f'{X_valid.columns[i]}' for i in range(X_valid.shape[1])]\n",
    "feature_importance = pd.DataFrame({'feature': feature_names, 'importance': importance})\n",
    "print(feature_importance.sort_values(by='importance', ascending=False))"
   ]
  },
  {
   "cell_type": "markdown",
   "id": "a9886a07",
   "metadata": {
    "papermill": {
     "duration": 0.012006,
     "end_time": "2024-07-15T01:16:27.135135",
     "exception": false,
     "start_time": "2024-07-15T01:16:27.123129",
     "status": "completed"
    },
    "tags": []
   },
   "source": [
    "**Footnote**\n",
    "\n",
    "Find more about Data Science and Machine Learning [here](https://datamapu.com/)"
   ]
  },
  {
   "cell_type": "code",
   "execution_count": null,
   "id": "92c31d6c",
   "metadata": {
    "papermill": {
     "duration": 0.01196,
     "end_time": "2024-07-15T01:16:27.159190",
     "exception": false,
     "start_time": "2024-07-15T01:16:27.147230",
     "status": "completed"
    },
    "tags": []
   },
   "outputs": [],
   "source": []
  }
 ],
 "metadata": {
  "kaggle": {
   "accelerator": "none",
   "dataSources": [
    {
     "datasetId": 1292407,
     "sourceId": 2157486,
     "sourceType": "datasetVersion"
    }
   ],
   "dockerImageVersionId": 30732,
   "isGpuEnabled": false,
   "isInternetEnabled": true,
   "language": "python",
   "sourceType": "notebook"
  },
  "kernelspec": {
   "display_name": "Python 3",
   "language": "python",
   "name": "python3"
  },
  "language_info": {
   "codemirror_mode": {
    "name": "ipython",
    "version": 3
   },
   "file_extension": ".py",
   "mimetype": "text/x-python",
   "name": "python",
   "nbconvert_exporter": "python",
   "pygments_lexer": "ipython3",
   "version": "3.10.13"
  },
  "papermill": {
   "default_parameters": {},
   "duration": 92.277919,
   "end_time": "2024-07-15T01:16:27.894854",
   "environment_variables": {},
   "exception": null,
   "input_path": "__notebook__.ipynb",
   "output_path": "__notebook__.ipynb",
   "parameters": {},
   "start_time": "2024-07-15T01:14:55.616935",
   "version": "2.5.0"
  }
 },
 "nbformat": 4,
 "nbformat_minor": 5
}
